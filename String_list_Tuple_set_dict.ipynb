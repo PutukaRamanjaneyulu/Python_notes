{
  "nbformat": 4,
  "nbformat_minor": 0,
  "metadata": {
    "colab": {
      "provenance": []
    },
    "kernelspec": {
      "name": "python3",
      "display_name": "Python 3"
    },
    "language_info": {
      "name": "python"
    }
  },
  "cells": [
    {
      "cell_type": "markdown",
      "source": [
        "# **String**\n",
        "- `The string contains the anything when we writing the quotes`\n",
        "- `The string is to be immutable we can't increse or decrese the memory`"
      ],
      "metadata": {
        "id": "Q1eMdlhKvop-"
      }
    },
    {
      "cell_type": "code",
      "source": [
        "#indexing\n",
        "# 1. Forward indexing\n",
        "a=\"data science\"\n",
        "print(a[6])"
      ],
      "metadata": {
        "colab": {
          "base_uri": "https://localhost:8080/"
        },
        "id": "APiyzZE1ssF8",
        "outputId": "24325608-2ca3-409d-b299-87a70144131d"
      },
      "execution_count": 20,
      "outputs": [
        {
          "output_type": "stream",
          "name": "stdout",
          "text": [
            "c\n"
          ]
        }
      ]
    },
    {
      "cell_type": "code",
      "source": [
        "#2.Backword indexing\n",
        "a=\"data science\"\n",
        "print(a[-6])"
      ],
      "metadata": {
        "colab": {
          "base_uri": "https://localhost:8080/"
        },
        "id": "KFxY47fowT4z",
        "outputId": "90c38bd0-50fd-4ad0-a14b-1dffeb759866"
      },
      "execution_count": 21,
      "outputs": [
        {
          "output_type": "stream",
          "name": "stdout",
          "text": [
            "c\n"
          ]
        }
      ]
    },
    {
      "cell_type": "code",
      "source": [
        "#Slicing\n",
        "a='Data Analysis'\n",
        "print('The slicing between range : ',a[1:6])\n",
        "print('The slicing is start point given and untill end will be print : ',a[1:])\n",
        "print('The slicing is End point given and untill end point will came and print : ',a[:6])"
      ],
      "metadata": {
        "colab": {
          "base_uri": "https://localhost:8080/"
        },
        "id": "-sEqoKMZwd1z",
        "outputId": "5bf75cf3-5f61-4b2e-9ba0-bf746a253d9c"
      },
      "execution_count": 28,
      "outputs": [
        {
          "output_type": "stream",
          "name": "stdout",
          "text": [
            "The slicing between range :  ata A\n",
            "The slicing is start point given and untill end will be print :  ata Analysis\n",
            "The slicing is End point given and untill end point will came and print :  Data A\n"
          ]
        }
      ]
    },
    {
      "cell_type": "code",
      "source": [
        "#Skiping\n",
        "a='machine learing'\n",
        "\n",
        "print('The skipping is to be [ S_P,E_P,Skipping_Value] : ',a[1:12:2])\n",
        "print(\"These skipping is to be reverse the string : \",a[::-1])"
      ],
      "metadata": {
        "colab": {
          "base_uri": "https://localhost:8080/"
        },
        "id": "nTDhlZARwv2m",
        "outputId": "4ffb5ee7-30f3-46c3-d34b-ec7fe8f9e93e"
      },
      "execution_count": 40,
      "outputs": [
        {
          "output_type": "stream",
          "name": "stdout",
          "text": [
            "The skipping is to be [ S_P,E_P,Skipping_Value] :  ahn er\n",
            "These skipping is to be reverse the string :  gnirael enihcam\n"
          ]
        }
      ]
    },
    {
      "cell_type": "code",
      "source": [
        "#Built-in-functions\n",
        "dir(str)\n",
        "#These function will be descrebe the all built in functions in string\n",
        "print(len(dir(str)))"
      ],
      "metadata": {
        "colab": {
          "base_uri": "https://localhost:8080/"
        },
        "id": "hiepSVc7xvNB",
        "outputId": "5984aa6d-149c-4cbc-a639-6482089f9c93"
      },
      "execution_count": 42,
      "outputs": [
        {
          "output_type": "stream",
          "name": "stdout",
          "text": [
            "81\n"
          ]
        }
      ]
    },
    {
      "cell_type": "code",
      "source": [
        "#Capitalise Function : These function will be convert the first letter capital and remaing small\n",
        "a=\"i am working\"\n",
        "print(a.capitalize())"
      ],
      "metadata": {
        "colab": {
          "base_uri": "https://localhost:8080/"
        },
        "id": "fGz43xTgztgv",
        "outputId": "cd42149c-f08e-4ad7-e68e-35999402bec1"
      },
      "execution_count": 43,
      "outputs": [
        {
          "output_type": "stream",
          "name": "stdout",
          "text": [
            "I am working\n"
          ]
        }
      ]
    },
    {
      "cell_type": "code",
      "source": [
        "#title Function : These function will be convert the first letter capital of the all the words\n",
        "a=\"i am working\"\n",
        "print(a.title())"
      ],
      "metadata": {
        "colab": {
          "base_uri": "https://localhost:8080/"
        },
        "id": "DX6hXOqq0Iwe",
        "outputId": "15f2cfbb-9ca9-48f6-e871-5b0c88c4b716"
      },
      "execution_count": 44,
      "outputs": [
        {
          "output_type": "stream",
          "name": "stdout",
          "text": [
            "I Am Working\n"
          ]
        }
      ]
    },
    {
      "cell_type": "code",
      "source": [
        "#upper Function : These function will be convert the all letter upper case\n",
        "a=\"i am working\"\n",
        "print(a.upper())"
      ],
      "metadata": {
        "colab": {
          "base_uri": "https://localhost:8080/"
        },
        "id": "itoOvlJx0h3d",
        "outputId": "bd2ac001-1409-4188-b111-ebfb5fa9f358"
      },
      "execution_count": 45,
      "outputs": [
        {
          "output_type": "stream",
          "name": "stdout",
          "text": [
            "I AM WORKING\n"
          ]
        }
      ]
    },
    {
      "cell_type": "code",
      "source": [
        "#lower Function : These function will be convert the all letter lower case\n",
        "a=\"I AM WORKING\"\n",
        "print(a.lower())"
      ],
      "metadata": {
        "colab": {
          "base_uri": "https://localhost:8080/"
        },
        "id": "7fRv8J_Z0vSU",
        "outputId": "9e5b8b30-fbe2-43ab-8963-be45f2a0f79b"
      },
      "execution_count": 1,
      "outputs": [
        {
          "output_type": "stream",
          "name": "stdout",
          "text": [
            "i am working\n"
          ]
        }
      ]
    },
    {
      "cell_type": "code",
      "source": [
        "#replace Function : These function will be Replace to the characters of the word\n",
        "a=\"I AM WORKING\"\n",
        "print(a.replace('A','m'))"
      ],
      "metadata": {
        "colab": {
          "base_uri": "https://localhost:8080/"
        },
        "id": "HgN9h4-zlI5k",
        "outputId": "ed4716fe-73c4-4507-f278-4c59c8a673f3"
      },
      "execution_count": 3,
      "outputs": [
        {
          "output_type": "stream",
          "name": "stdout",
          "text": [
            "I mM WORKING\n"
          ]
        }
      ]
    },
    {
      "cell_type": "markdown",
      "source": [
        "- `The below built-in functions gives the boolean value like True and False`"
      ],
      "metadata": {
        "id": "XOZegRrwmOEH"
      }
    },
    {
      "cell_type": "code",
      "source": [
        "#islower Function : These function will be give the  all letter in lower case True will give\n",
        "a=\"i am working\"\n",
        "print(a.islower())"
      ],
      "metadata": {
        "colab": {
          "base_uri": "https://localhost:8080/"
        },
        "id": "5tkyc7Cjlc3X",
        "outputId": "8d32f125-675c-4a0e-b41e-37659cf9e2c9"
      },
      "execution_count": 6,
      "outputs": [
        {
          "output_type": "stream",
          "name": "stdout",
          "text": [
            "True\n"
          ]
        }
      ]
    },
    {
      "cell_type": "code",
      "source": [
        "#lower Function : These function will be convert the all letter lower case\n",
        "a=\"I AM WORKING\"\n",
        "print(a.isupper())"
      ],
      "metadata": {
        "colab": {
          "base_uri": "https://localhost:8080/"
        },
        "id": "pMQau8x5l4ZF",
        "outputId": "58ab002f-9af1-4ed5-9a71-00438032ffe6"
      },
      "execution_count": 7,
      "outputs": [
        {
          "output_type": "stream",
          "name": "stdout",
          "text": [
            "True\n"
          ]
        }
      ]
    },
    {
      "cell_type": "code",
      "source": [
        "#isalpha Function : These function will chack the all are alphabets or not\n",
        "a=\"dataanalysis\"\n",
        "print(a.isalpha())"
      ],
      "metadata": {
        "colab": {
          "base_uri": "https://localhost:8080/"
        },
        "id": "tGWDYDTymM0f",
        "outputId": "9b076ac7-8194-42ce-b736-e25983fb0e00"
      },
      "execution_count": 11,
      "outputs": [
        {
          "output_type": "stream",
          "name": "stdout",
          "text": [
            "True\n"
          ]
        }
      ]
    },
    {
      "cell_type": "code",
      "source": [
        "#isnumeric Function : These function will chack the all are numbers or not\n",
        "a=\"123456\"\n",
        "print(a.isnumeric())"
      ],
      "metadata": {
        "colab": {
          "base_uri": "https://localhost:8080/"
        },
        "id": "B-ZdcnJNmfSQ",
        "outputId": "94d03e07-2881-404a-c65f-3444bd17e2a0"
      },
      "execution_count": 12,
      "outputs": [
        {
          "output_type": "stream",
          "name": "stdout",
          "text": [
            "True\n"
          ]
        }
      ]
    },
    {
      "cell_type": "code",
      "source": [
        "#isalnum Function : These function will be contains the alphbets and numbers\n",
        "a=\"abc123456\"\n",
        "print(a.isalnum())"
      ],
      "metadata": {
        "colab": {
          "base_uri": "https://localhost:8080/"
        },
        "id": "9UjlDw1Fm_WP",
        "outputId": "4139031e-4104-4f4d-b58e-b2e4fa36f40e"
      },
      "execution_count": 13,
      "outputs": [
        {
          "output_type": "stream",
          "name": "stdout",
          "text": [
            "True\n"
          ]
        }
      ]
    },
    {
      "cell_type": "code",
      "source": [
        "#startswith Function : These function will be takes the word will be starting or not\n",
        "a=\"Data science\"\n",
        "print(a.startswith(\"D\"))"
      ],
      "metadata": {
        "colab": {
          "base_uri": "https://localhost:8080/"
        },
        "id": "CCWK-XvunILI",
        "outputId": "46437e2b-e7b1-4847-846d-b277ccae4a47"
      },
      "execution_count": 14,
      "outputs": [
        {
          "output_type": "stream",
          "name": "stdout",
          "text": [
            "True\n"
          ]
        }
      ]
    },
    {
      "cell_type": "code",
      "source": [
        "#endswith Function : These function will be takes the word will be ending or not\n",
        "a=\"Data science\"\n",
        "print(a.endswith(\"e\"))"
      ],
      "metadata": {
        "colab": {
          "base_uri": "https://localhost:8080/"
        },
        "id": "WF-vwlAdnbfo",
        "outputId": "af7bb740-87a8-439a-b75b-b30eaae6e9eb"
      },
      "execution_count": 15,
      "outputs": [
        {
          "output_type": "stream",
          "name": "stdout",
          "text": [
            "True\n"
          ]
        }
      ]
    },
    {
      "cell_type": "code",
      "source": [
        "#count Function : These function will be takes the how many times are letter inthe word\n",
        "a=\"Data science\"\n",
        "print(a.count(\"e\"))"
      ],
      "metadata": {
        "colab": {
          "base_uri": "https://localhost:8080/"
        },
        "id": "lIdCVXqznpRt",
        "outputId": "7ec3df1c-1cc8-412d-fc2d-2bc9dd5183de"
      },
      "execution_count": 16,
      "outputs": [
        {
          "output_type": "stream",
          "name": "stdout",
          "text": [
            "2\n"
          ]
        }
      ]
    },
    {
      "cell_type": "code",
      "source": [
        "#index Function : These function will be takes the index value of the letter\n",
        "a=\"Data science\"\n",
        "print(a.index(\"e\"))"
      ],
      "metadata": {
        "colab": {
          "base_uri": "https://localhost:8080/"
        },
        "id": "ImYdC88Nnwbr",
        "outputId": "24e64046-ae6f-4a85-ecb7-fef339cd4c65"
      },
      "execution_count": 17,
      "outputs": [
        {
          "output_type": "stream",
          "name": "stdout",
          "text": [
            "8\n"
          ]
        }
      ]
    },
    {
      "cell_type": "code",
      "source": [
        "#membership Function : These function will be check the main string contains the substring\n",
        "a=\"Data science\"\n",
        "print( \"sci\" in a)\n",
        "print('ra' not in a)"
      ],
      "metadata": {
        "colab": {
          "base_uri": "https://localhost:8080/"
        },
        "id": "-T0SHYQvn85U",
        "outputId": "33dc2bd0-f013-46ef-f212-babf328151e0"
      },
      "execution_count": 23,
      "outputs": [
        {
          "output_type": "stream",
          "name": "stdout",
          "text": [
            "True\n",
            "True\n"
          ]
        }
      ]
    },
    {
      "cell_type": "code",
      "source": [
        "#ord Function : These function will give the ascii value of the keyword letters\n",
        "print(ord('a'))"
      ],
      "metadata": {
        "colab": {
          "base_uri": "https://localhost:8080/"
        },
        "id": "aODpUrVDoNY-",
        "outputId": "e8a50aaf-d842-4d35-aeeb-809094d49678"
      },
      "execution_count": 27,
      "outputs": [
        {
          "output_type": "stream",
          "name": "stdout",
          "text": [
            "97\n"
          ]
        }
      ]
    },
    {
      "cell_type": "code",
      "source": [
        "#chr Function : These function will be take ascii value and give the character\n",
        "print(chr(107))"
      ],
      "metadata": {
        "colab": {
          "base_uri": "https://localhost:8080/"
        },
        "id": "_XpmCOuGoq82",
        "outputId": "bea29246-6bd1-4b5a-92a2-ab3a84ad591d"
      },
      "execution_count": 28,
      "outputs": [
        {
          "output_type": "stream",
          "name": "stdout",
          "text": [
            "k\n"
          ]
        }
      ]
    },
    {
      "cell_type": "code",
      "source": [
        "#spilt functions : The split Function will be break the small pieces\n",
        "a=\"i from india\"\n",
        "print(a.split())"
      ],
      "metadata": {
        "colab": {
          "base_uri": "https://localhost:8080/"
        },
        "id": "pzFVj_Ug6Fvw",
        "outputId": "91866e8c-eaab-40a8-915b-abdf871515dc"
      },
      "execution_count": 63,
      "outputs": [
        {
          "output_type": "stream",
          "name": "stdout",
          "text": [
            "['i', 'from', 'india']\n"
          ]
        }
      ]
    },
    {
      "cell_type": "code",
      "source": [
        "#spilt functions : The split Function will be break the small pieces\n",
        "a=\"i.from.india\"\n",
        "print(a.split(\".\"))"
      ],
      "metadata": {
        "colab": {
          "base_uri": "https://localhost:8080/"
        },
        "id": "_fag4Cn16OUP",
        "outputId": "c237897b-edba-4b9a-b9cd-1ec8d121845c"
      },
      "execution_count": 64,
      "outputs": [
        {
          "output_type": "stream",
          "name": "stdout",
          "text": [
            "['i', 'from', 'india']\n"
          ]
        }
      ]
    },
    {
      "cell_type": "code",
      "source": [
        "#join functions : The join Function will be joins the small pieces\n",
        "a=['i', 'from', 'india']\n",
        "print('-'.join(a))"
      ],
      "metadata": {
        "colab": {
          "base_uri": "https://localhost:8080/"
        },
        "id": "_Y52nMqT6eUP",
        "outputId": "247df51b-9185-4ff3-aa67-b764e3d67d35"
      },
      "execution_count": 71,
      "outputs": [
        {
          "output_type": "stream",
          "name": "stdout",
          "text": [
            "i-from-india\n"
          ]
        }
      ]
    },
    {
      "cell_type": "code",
      "source": [
        "#join functions : The join Function will be joins the small pieces\n",
        "a='i', 'from', 'india'\n",
        "print('->'.join(a))"
      ],
      "metadata": {
        "colab": {
          "base_uri": "https://localhost:8080/"
        },
        "id": "ldjFWLrN67wv",
        "outputId": "cf89315c-5461-4730-a3b7-2cb9915e9527"
      },
      "execution_count": 72,
      "outputs": [
        {
          "output_type": "stream",
          "name": "stdout",
          "text": [
            "i->from->india\n"
          ]
        }
      ]
    },
    {
      "cell_type": "markdown",
      "source": [
        "# **List**\n",
        "\n",
        "\n",
        "---\n",
        "- `Is going to represent with the square brackets([])`\n",
        "- `we can write any datatype in the list concept`\n",
        "- `The list immutable but we use the built in functions we can convert the mutable`\n"
      ],
      "metadata": {
        "id": "xXwhwfTcpHrG"
      }
    },
    {
      "cell_type": "code",
      "source": [
        "a=[10,\"data\",12.55,False]\n",
        "print(a)"
      ],
      "metadata": {
        "colab": {
          "base_uri": "https://localhost:8080/"
        },
        "id": "SNkjrSPXo8dr",
        "outputId": "71106dd0-2297-461e-a11c-a639ae31c6e1"
      },
      "execution_count": 29,
      "outputs": [
        {
          "output_type": "stream",
          "name": "stdout",
          "text": [
            "[10, 'data', 12.55, False]\n"
          ]
        }
      ]
    },
    {
      "cell_type": "code",
      "source": [
        "print(a[2])"
      ],
      "metadata": {
        "colab": {
          "base_uri": "https://localhost:8080/"
        },
        "id": "8jeLiLeTqBC9",
        "outputId": "dd19b992-5b92-4754-b220-a1e5ecbf129d"
      },
      "execution_count": 30,
      "outputs": [
        {
          "output_type": "stream",
          "name": "stdout",
          "text": [
            "12.55\n"
          ]
        }
      ]
    },
    {
      "cell_type": "code",
      "source": [
        "print(a[1][2])"
      ],
      "metadata": {
        "colab": {
          "base_uri": "https://localhost:8080/"
        },
        "id": "p0uRKGgZqmjj",
        "outputId": "e9872b9d-d0a3-4997-9efb-550068242a05"
      },
      "execution_count": 32,
      "outputs": [
        {
          "output_type": "stream",
          "name": "stdout",
          "text": [
            "t\n"
          ]
        }
      ]
    },
    {
      "cell_type": "code",
      "source": [
        "print(a[1])"
      ],
      "metadata": {
        "colab": {
          "base_uri": "https://localhost:8080/"
        },
        "id": "R8isLUcCqraY",
        "outputId": "29b2dfdb-30f1-4276-c122-5e672143dd4f"
      },
      "execution_count": 33,
      "outputs": [
        {
          "output_type": "stream",
          "name": "stdout",
          "text": [
            "data\n"
          ]
        }
      ]
    },
    {
      "cell_type": "code",
      "source": [
        "dir(list)\n",
        "print(len(dir(list)))"
      ],
      "metadata": {
        "colab": {
          "base_uri": "https://localhost:8080/"
        },
        "id": "uADwWPCTqw_6",
        "outputId": "f477c5bd-d0c4-403c-ae33-38951f4dfcaf"
      },
      "execution_count": 35,
      "outputs": [
        {
          "output_type": "stream",
          "name": "stdout",
          "text": [
            "48\n"
          ]
        }
      ]
    },
    {
      "cell_type": "code",
      "source": [
        "#Increasing  functions\n",
        "#append : The append Function will be add the value at the end\n",
        "a=[10,'data',12.55,False]\n",
        "a.append('Science')\n",
        "print(a)\n"
      ],
      "metadata": {
        "colab": {
          "base_uri": "https://localhost:8080/"
        },
        "id": "B-KLhMwwtRbV",
        "outputId": "63974893-be83-455c-b536-ce5c1ee2b2a3"
      },
      "execution_count": 36,
      "outputs": [
        {
          "output_type": "stream",
          "name": "stdout",
          "text": [
            "[10, 'data', 12.55, False, 'Science']\n"
          ]
        }
      ]
    },
    {
      "cell_type": "code",
      "source": [
        "#insert : The insert Function will be add the value at the given index value\n",
        "a=[10,'data',12.55,False]\n",
        "a.insert(2,'Science')\n",
        "print(a)\n"
      ],
      "metadata": {
        "colab": {
          "base_uri": "https://localhost:8080/"
        },
        "id": "VcD5RnoDxrZ1",
        "outputId": "52cc7b6e-6f31-48e1-f2b9-207ea1816067"
      },
      "execution_count": 37,
      "outputs": [
        {
          "output_type": "stream",
          "name": "stdout",
          "text": [
            "[10, 'data', 'Science', 12.55, False]\n"
          ]
        }
      ]
    },
    {
      "cell_type": "code",
      "source": [
        "#extend : The extend Function will be add the value at the end and multiple values can be added\n",
        "a=[10,'data',12.55,False]\n",
        "a.extend([10,20,30,40])\n",
        "print(a)\n"
      ],
      "metadata": {
        "colab": {
          "base_uri": "https://localhost:8080/"
        },
        "id": "OmOlFk0Hx6xO",
        "outputId": "624ded1a-67d4-42bb-b433-7a0d449b1dcd"
      },
      "execution_count": 38,
      "outputs": [
        {
          "output_type": "stream",
          "name": "stdout",
          "text": [
            "[10, 'data', 12.55, False, 10, 20, 30, 40]\n"
          ]
        }
      ]
    },
    {
      "cell_type": "code",
      "source": [
        "#Decresing Functions\n",
        "\n",
        "#pop : The pop Function will be remove the value at the end\n",
        "a=[10,'data',12.55,False]\n",
        "a.pop()\n",
        "print(a)\n"
      ],
      "metadata": {
        "colab": {
          "base_uri": "https://localhost:8080/"
        },
        "id": "G2ULrgCnyKjv",
        "outputId": "5e72c959-2979-4e02-e5f1-f60e546078c2"
      },
      "execution_count": 39,
      "outputs": [
        {
          "output_type": "stream",
          "name": "stdout",
          "text": [
            "[10, 'data', 12.55]\n"
          ]
        }
      ]
    },
    {
      "cell_type": "code",
      "source": [
        "#remove : The remove Function will be remove the value at the user given\n",
        "a=[10,'data',12.55,False]\n",
        "a.remove('data')\n",
        "print(a)"
      ],
      "metadata": {
        "colab": {
          "base_uri": "https://localhost:8080/"
        },
        "id": "7sdh497Tykyu",
        "outputId": "ffcb1e3e-4e7d-4dbd-8420-9cfad30ca0c8"
      },
      "execution_count": 40,
      "outputs": [
        {
          "output_type": "stream",
          "name": "stdout",
          "text": [
            "[10, 12.55, False]\n"
          ]
        }
      ]
    },
    {
      "cell_type": "code",
      "source": [
        "#Specefic  Functions\n",
        "\n",
        "#count : The count Function will be count the value\n",
        "a=[10,20,30,40,10,20]\n",
        "\n",
        "print(a.count(20))\n"
      ],
      "metadata": {
        "colab": {
          "base_uri": "https://localhost:8080/"
        },
        "id": "9vx37M94yxjd",
        "outputId": "ce63a28d-f1b1-4780-f441-c2bc9a29041a"
      },
      "execution_count": 42,
      "outputs": [
        {
          "output_type": "stream",
          "name": "stdout",
          "text": [
            "2\n"
          ]
        }
      ]
    },
    {
      "cell_type": "code",
      "source": [
        "#index : The index Function will be give the value to the user given\n",
        "a=[10,'data',12.55,False]\n",
        "print(a.index('data'))\n"
      ],
      "metadata": {
        "colab": {
          "base_uri": "https://localhost:8080/"
        },
        "id": "qevmqDOyzDeK",
        "outputId": "1e77fdd8-046d-438a-e861-fab6866731d2"
      },
      "execution_count": 44,
      "outputs": [
        {
          "output_type": "stream",
          "name": "stdout",
          "text": [
            "1\n"
          ]
        }
      ]
    },
    {
      "cell_type": "code",
      "source": [
        "#reverse : The reverse Function will be give the reverse the list\n",
        "a=[10,20,30,40,50]\n",
        "a.reverse()\n",
        "print(a)\n",
        "\n"
      ],
      "metadata": {
        "colab": {
          "base_uri": "https://localhost:8080/"
        },
        "id": "chB6kFa2zbpl",
        "outputId": "dca924ff-2dd1-4857-86e8-67f4e6305142"
      },
      "execution_count": 51,
      "outputs": [
        {
          "output_type": "stream",
          "name": "stdout",
          "text": [
            "[50, 40, 30, 20, 10]\n"
          ]
        }
      ]
    },
    {
      "cell_type": "code",
      "source": [
        "#sort : The sort Function will be give the ascending order\n",
        "a=[10,60,70,40,50]\n",
        "a.sort()\n",
        "print(a)\n",
        "\n"
      ],
      "metadata": {
        "colab": {
          "base_uri": "https://localhost:8080/"
        },
        "id": "3p647IqX0V2m",
        "outputId": "c83fc5d4-ddfa-4972-86ba-74d8e3d01eb9"
      },
      "execution_count": 52,
      "outputs": [
        {
          "output_type": "stream",
          "name": "stdout",
          "text": [
            "[10, 40, 50, 60, 70]\n"
          ]
        }
      ]
    },
    {
      "cell_type": "code",
      "source": [
        "#sort : The sort Function will be give the decending order\n",
        "a=[10,60,70,40,50]\n",
        "a.sort(reverse=True)\n",
        "print(a)\n",
        "\n"
      ],
      "metadata": {
        "colab": {
          "base_uri": "https://localhost:8080/"
        },
        "id": "OqrFyF3M1SeW",
        "outputId": "c1430a08-2d08-4a89-b58b-f71b9f5c6ee0"
      },
      "execution_count": 53,
      "outputs": [
        {
          "output_type": "stream",
          "name": "stdout",
          "text": [
            "[70, 60, 50, 40, 10]\n"
          ]
        }
      ]
    },
    {
      "cell_type": "code",
      "source": [
        "#clear : The clear Function will be give the empty list\n",
        "a=[10,60,70,40,50]\n",
        "\n",
        "a.clear()\n",
        "print(a)\n",
        "\n"
      ],
      "metadata": {
        "colab": {
          "base_uri": "https://localhost:8080/"
        },
        "id": "JincKh6U1d_h",
        "outputId": "f758f72e-c414-487e-9271-20fc4004df50"
      },
      "execution_count": 55,
      "outputs": [
        {
          "output_type": "stream",
          "name": "stdout",
          "text": [
            "[]\n"
          ]
        }
      ]
    },
    {
      "cell_type": "code",
      "source": [
        "#copy : Copy 1.Deep copy\n",
        "a=[10,60,70,40,50]\n",
        "b=a\n",
        "print(a)\n",
        "print(b)\n",
        "\n",
        "print(id(a))\n",
        "print(id(b))\n",
        "\n",
        "a.append(80)\n",
        "\n",
        "print(a)\n",
        "print(b)\n",
        "\n"
      ],
      "metadata": {
        "colab": {
          "base_uri": "https://localhost:8080/"
        },
        "id": "Olj5_Afo1tOO",
        "outputId": "926e2578-b615-46a9-a33e-e7532497e2cf"
      },
      "execution_count": 56,
      "outputs": [
        {
          "output_type": "stream",
          "name": "stdout",
          "text": [
            "[10, 60, 70, 40, 50]\n",
            "[10, 60, 70, 40, 50]\n",
            "139115072134400\n",
            "139115072134400\n",
            "[10, 60, 70, 40, 50, 80]\n",
            "[10, 60, 70, 40, 50, 80]\n"
          ]
        }
      ]
    },
    {
      "cell_type": "code",
      "source": [
        "#copy : Copy 2.Shallow copy\n",
        "a=[10,60,70,40,50]\n",
        "b=a.copy()\n",
        "print(a)\n",
        "print(b)\n",
        "\n",
        "print(id(a))\n",
        "print(id(b))\n",
        "\n",
        "a.append(80)\n",
        "\n",
        "print(a)\n",
        "print(b)\n",
        "\n"
      ],
      "metadata": {
        "colab": {
          "base_uri": "https://localhost:8080/"
        },
        "id": "ykybMqkq2Scv",
        "outputId": "381e3d1f-cf50-4074-a6a9-4a153f9adfec"
      },
      "execution_count": 57,
      "outputs": [
        {
          "output_type": "stream",
          "name": "stdout",
          "text": [
            "[10, 60, 70, 40, 50]\n",
            "[10, 60, 70, 40, 50]\n",
            "139115072127872\n",
            "139115072137088\n",
            "[10, 60, 70, 40, 50, 80]\n",
            "[10, 60, 70, 40, 50]\n"
          ]
        }
      ]
    },
    {
      "cell_type": "markdown",
      "source": [
        "# **Tuple**\n",
        "- `Python Tuple is going to represent with - ()`\n",
        "- `Python Tuple can accept any datatype`\n",
        "- `Tuple is  immutable `"
      ],
      "metadata": {
        "id": "UVSWrwuq2viA"
      }
    },
    {
      "cell_type": "code",
      "source": [
        "a=(10,20,30,40,50)\n",
        "a[6]=80\n",
        "print(a)\n"
      ],
      "metadata": {
        "colab": {
          "base_uri": "https://localhost:8080/",
          "height": 211
        },
        "id": "9T9qShH22f_N",
        "outputId": "6297e9bc-18c7-46ab-bd7b-ebdbd1c42e18"
      },
      "execution_count": 58,
      "outputs": [
        {
          "output_type": "error",
          "ename": "TypeError",
          "evalue": "'tuple' object does not support item assignment",
          "traceback": [
            "\u001b[0;31m---------------------------------------------------------------------------\u001b[0m",
            "\u001b[0;31mTypeError\u001b[0m                                 Traceback (most recent call last)",
            "\u001b[0;32m<ipython-input-58-6d5aabf6cf68>\u001b[0m in \u001b[0;36m<cell line: 0>\u001b[0;34m()\u001b[0m\n\u001b[1;32m      1\u001b[0m \u001b[0ma\u001b[0m\u001b[0;34m=\u001b[0m\u001b[0;34m(\u001b[0m\u001b[0;36m10\u001b[0m\u001b[0;34m,\u001b[0m\u001b[0;36m20\u001b[0m\u001b[0;34m,\u001b[0m\u001b[0;36m30\u001b[0m\u001b[0;34m,\u001b[0m\u001b[0;36m40\u001b[0m\u001b[0;34m,\u001b[0m\u001b[0;36m50\u001b[0m\u001b[0;34m)\u001b[0m\u001b[0;34m\u001b[0m\u001b[0;34m\u001b[0m\u001b[0m\n\u001b[0;32m----> 2\u001b[0;31m \u001b[0ma\u001b[0m\u001b[0;34m[\u001b[0m\u001b[0;36m6\u001b[0m\u001b[0;34m]\u001b[0m\u001b[0;34m=\u001b[0m\u001b[0;36m80\u001b[0m\u001b[0;34m\u001b[0m\u001b[0;34m\u001b[0m\u001b[0m\n\u001b[0m\u001b[1;32m      3\u001b[0m \u001b[0mprint\u001b[0m\u001b[0;34m(\u001b[0m\u001b[0ma\u001b[0m\u001b[0;34m)\u001b[0m\u001b[0;34m\u001b[0m\u001b[0;34m\u001b[0m\u001b[0m\n\u001b[1;32m      4\u001b[0m \u001b[0;32mdel\u001b[0m \u001b[0ma\u001b[0m\u001b[0;34m[\u001b[0m\u001b[0;36m1\u001b[0m\u001b[0;34m]\u001b[0m\u001b[0;34m\u001b[0m\u001b[0;34m\u001b[0m\u001b[0m\n\u001b[1;32m      5\u001b[0m \u001b[0mprint\u001b[0m\u001b[0;34m(\u001b[0m\u001b[0ma\u001b[0m\u001b[0;34m)\u001b[0m\u001b[0;34m\u001b[0m\u001b[0;34m\u001b[0m\u001b[0m\n",
            "\u001b[0;31mTypeError\u001b[0m: 'tuple' object does not support item assignment"
          ]
        }
      ]
    },
    {
      "cell_type": "code",
      "source": [
        "del a[1]\n",
        "print(a)"
      ],
      "metadata": {
        "colab": {
          "base_uri": "https://localhost:8080/",
          "height": 158
        },
        "id": "mFdQK3OV3lwn",
        "outputId": "4689af0e-ede8-4aa6-f7ef-72edc5c3a76b"
      },
      "execution_count": 59,
      "outputs": [
        {
          "output_type": "error",
          "ename": "TypeError",
          "evalue": "'tuple' object doesn't support item deletion",
          "traceback": [
            "\u001b[0;31m---------------------------------------------------------------------------\u001b[0m",
            "\u001b[0;31mTypeError\u001b[0m                                 Traceback (most recent call last)",
            "\u001b[0;32m<ipython-input-59-c90f4f8e4554>\u001b[0m in \u001b[0;36m<cell line: 0>\u001b[0;34m()\u001b[0m\n\u001b[0;32m----> 1\u001b[0;31m \u001b[0;32mdel\u001b[0m \u001b[0ma\u001b[0m\u001b[0;34m[\u001b[0m\u001b[0;36m1\u001b[0m\u001b[0;34m]\u001b[0m\u001b[0;34m\u001b[0m\u001b[0;34m\u001b[0m\u001b[0m\n\u001b[0m\u001b[1;32m      2\u001b[0m \u001b[0mprint\u001b[0m\u001b[0;34m(\u001b[0m\u001b[0ma\u001b[0m\u001b[0;34m)\u001b[0m\u001b[0;34m\u001b[0m\u001b[0;34m\u001b[0m\u001b[0m\n",
            "\u001b[0;31mTypeError\u001b[0m: 'tuple' object doesn't support item deletion"
          ]
        }
      ]
    },
    {
      "cell_type": "markdown",
      "source": [
        "\n",
        "\n",
        "> `The Above Operations we can say that python Tuple is immutable.`\n",
        "\n",
        "**Built-in Functions**\n",
        "\n",
        "- `In tuple we have only the 2 Built-in-Functions`\n",
        "1. Count\n",
        "2. index\n"
      ],
      "metadata": {
        "id": "FtwS8jTG3yeJ"
      }
    },
    {
      "cell_type": "code",
      "source": [
        "#Count : The count will be count the value how many times in the tuple\n",
        "a=(10,20,30,40,50,20)\n",
        "print(a.count(20))"
      ],
      "metadata": {
        "colab": {
          "base_uri": "https://localhost:8080/"
        },
        "id": "ZmsXBdzi3xp3",
        "outputId": "4535704c-7d3f-49c7-be15-e3e6eed8f350"
      },
      "execution_count": 60,
      "outputs": [
        {
          "output_type": "stream",
          "name": "stdout",
          "text": [
            "2\n"
          ]
        }
      ]
    },
    {
      "cell_type": "code",
      "source": [
        "#index : The index will be give the index value\n",
        "a=(10,20,30,40,50,20)\n",
        "print(a.index(20))"
      ],
      "metadata": {
        "colab": {
          "base_uri": "https://localhost:8080/"
        },
        "id": "hHi9EdR_4qoc",
        "outputId": "1b613ee0-c583-4d74-80ee-0c8d56d1696a"
      },
      "execution_count": 61,
      "outputs": [
        {
          "output_type": "stream",
          "name": "stdout",
          "text": [
            "1\n"
          ]
        }
      ]
    },
    {
      "cell_type": "markdown",
      "source": [
        "**Tuple can hold multiple inputs for a single variable**"
      ],
      "metadata": {
        "id": "JD0uw6Hw5atY"
      }
    },
    {
      "cell_type": "code",
      "source": [
        "#Packing the variables\n",
        "details=('john',25,1500)\n",
        "name,age,salary=details #unpacking the variables\n",
        "print(name)\n",
        "print(age)\n",
        "print(salary)"
      ],
      "metadata": {
        "colab": {
          "base_uri": "https://localhost:8080/"
        },
        "id": "UMwkxqeq4uNs",
        "outputId": "b79be26a-723f-4833-eeb9-4ea71bcae3fb"
      },
      "execution_count": 62,
      "outputs": [
        {
          "output_type": "stream",
          "name": "stdout",
          "text": [
            "john\n",
            "25\n",
            "1500\n"
          ]
        }
      ]
    },
    {
      "cell_type": "markdown",
      "source": [
        "# **Set**\n",
        "\n",
        "- `The set function will be represent the with { } Flower Brackets`\n",
        "- `The set is unorder pair when the allocating the memory That's why no index concept`\n",
        "- ` if there is no indexing we cann't do the slicing , skipping concept`\n",
        "- `Python set won't allow the Duplicate values`\n",
        "- `python set is mutable but it don't allow mutable inside it`\n",
        "- `Integer and float is the universal values`"
      ],
      "metadata": {
        "id": "tso5o_yo7BOf"
      }
    },
    {
      "cell_type": "code",
      "source": [
        "#incresing Functions\n",
        "# add Function : these will be add the single values\n",
        "a={10,20,30,40}\n",
        "a.add(50)\n",
        "print(a)"
      ],
      "metadata": {
        "colab": {
          "base_uri": "https://localhost:8080/"
        },
        "id": "yBRFmpDy54i0",
        "outputId": "2ff326c1-a1a1-451b-a4c3-336b516782a5"
      },
      "execution_count": 73,
      "outputs": [
        {
          "output_type": "stream",
          "name": "stdout",
          "text": [
            "{40, 10, 50, 20, 30}\n"
          ]
        }
      ]
    },
    {
      "cell_type": "code",
      "source": [
        "\n",
        "# update Function : these will be add the multiple  values using the []\n",
        "a={10,20,30,40}\n",
        "a.update([70,50])\n",
        "print(a)"
      ],
      "metadata": {
        "colab": {
          "base_uri": "https://localhost:8080/"
        },
        "id": "lNZSMou79Mv4",
        "outputId": "b688fea6-954e-4138-fc03-6f14ea233180"
      },
      "execution_count": 78,
      "outputs": [
        {
          "output_type": "stream",
          "name": "stdout",
          "text": [
            "{70, 40, 10, 50, 20, 30}\n"
          ]
        }
      ]
    },
    {
      "cell_type": "code",
      "source": [
        "#decresing Functions\n",
        "# pop Function : these will be remove the value pick the randomly\n",
        "a={10,20,30,40}\n",
        "a.pop()\n",
        "print(a)"
      ],
      "metadata": {
        "colab": {
          "base_uri": "https://localhost:8080/"
        },
        "id": "UrlTgdF69Wto",
        "outputId": "a7a9baa9-7927-4419-eb03-f7abe2c4350c"
      },
      "execution_count": 79,
      "outputs": [
        {
          "output_type": "stream",
          "name": "stdout",
          "text": [
            "{10, 20, 30}\n"
          ]
        }
      ]
    },
    {
      "cell_type": "code",
      "source": [
        "# remove Function : these will be remove the value by the user given value\n",
        "a={10,20,30,40}\n",
        "a.remove(20)\n",
        "print(a)"
      ],
      "metadata": {
        "colab": {
          "base_uri": "https://localhost:8080/"
        },
        "id": "8n6JjFe198dj",
        "outputId": "91fbf708-b9ba-4c88-93d3-5750e1d11a8e"
      },
      "execution_count": 80,
      "outputs": [
        {
          "output_type": "stream",
          "name": "stdout",
          "text": [
            "{40, 10, 30}\n"
          ]
        }
      ]
    },
    {
      "cell_type": "code",
      "source": [
        "#some Other Functions\n",
        "#copy: 1 Deep copy\n",
        "a={10,20,30,40}\n",
        "b=a\n",
        "print(a)\n",
        "print(b)\n",
        "\n",
        "print(id(a))\n",
        "print(id(b))\n",
        "\n",
        "a.add(70)\n",
        "\n",
        "print(a)\n",
        "print(b)"
      ],
      "metadata": {
        "colab": {
          "base_uri": "https://localhost:8080/"
        },
        "id": "pjQToeX1-bFR",
        "outputId": "7fa1095f-26e6-4d4a-9fec-ff072ddb5fe1"
      },
      "execution_count": 81,
      "outputs": [
        {
          "output_type": "stream",
          "name": "stdout",
          "text": [
            "{40, 10, 20, 30}\n",
            "{40, 10, 20, 30}\n",
            "139115493740320\n",
            "139115493740320\n",
            "{70, 40, 10, 20, 30}\n",
            "{70, 40, 10, 20, 30}\n"
          ]
        }
      ]
    },
    {
      "cell_type": "code",
      "source": [
        "#some Other Functions\n",
        "#copy: 1 Shallow copy\n",
        "a={10,20,30,40}\n",
        "b=a.copy()\n",
        "print(a)\n",
        "print(b)\n",
        "\n",
        "print(id(a))\n",
        "print(id(b))\n",
        "\n",
        "a.add(70)\n",
        "\n",
        "print(a)\n",
        "print(b)"
      ],
      "metadata": {
        "colab": {
          "base_uri": "https://localhost:8080/"
        },
        "id": "EEJd6neS_n0D",
        "outputId": "8fcea7d5-6c6e-42f8-917b-e891e5936aca"
      },
      "execution_count": 83,
      "outputs": [
        {
          "output_type": "stream",
          "name": "stdout",
          "text": [
            "{40, 10, 20, 30}\n",
            "{40, 10, 20, 30}\n",
            "139115062175648\n",
            "139115062174304\n",
            "{70, 40, 10, 20, 30}\n",
            "{40, 10, 20, 30}\n"
          ]
        }
      ]
    },
    {
      "cell_type": "code",
      "source": [
        "#Clear Function : The Clear Function remove the values give the empty set\n",
        "#The Empty set will be represent the set()\n",
        "a={10,20,30,40}\n",
        "a.clear()\n",
        "print(a)"
      ],
      "metadata": {
        "colab": {
          "base_uri": "https://localhost:8080/"
        },
        "id": "rRjQIO9Y_s4e",
        "outputId": "012e1eac-4081-4025-c9be-d498a7822f90"
      },
      "execution_count": 84,
      "outputs": [
        {
          "output_type": "stream",
          "name": "stdout",
          "text": [
            "set()\n"
          ]
        }
      ]
    },
    {
      "cell_type": "code",
      "source": [
        "#Union : The union function will give the duplicate values once\n",
        "a={1,2,3,4,5,6}\n",
        "b={5,6,7,8,9,10}\n",
        "print(a.union(b))"
      ],
      "metadata": {
        "colab": {
          "base_uri": "https://localhost:8080/"
        },
        "id": "BKOtm6DZAGGZ",
        "outputId": "b639a48d-1161-44ed-86d9-9bcbe25bed8a"
      },
      "execution_count": 85,
      "outputs": [
        {
          "output_type": "stream",
          "name": "stdout",
          "text": [
            "{1, 2, 3, 4, 5, 6, 7, 8, 9, 10}\n"
          ]
        }
      ]
    },
    {
      "cell_type": "code",
      "source": [
        "#intersection : The intersection function will give the doth sets intersect values once\n",
        "a={1,2,3,4,5,6}\n",
        "b={5,6,7,8,9,10}\n",
        "print(a.intersection(b))"
      ],
      "metadata": {
        "colab": {
          "base_uri": "https://localhost:8080/"
        },
        "id": "wnQFgVkDAm61",
        "outputId": "a62cac76-7059-4174-9db9-e06425ce05f5"
      },
      "execution_count": 86,
      "outputs": [
        {
          "output_type": "stream",
          "name": "stdout",
          "text": [
            "{5, 6}\n"
          ]
        }
      ]
    },
    {
      "cell_type": "markdown",
      "source": [
        "# **Dictionary**\n",
        "\n",
        "---\n",
        "- `Dictionary is represented the {} will be contains the Key Value and pair concept`\n",
        "- `key means - Column values`\n",
        "- `value means - data inside the column`\n",
        "- `In the dict concept we don't have the index concept - since there is no index concept there will be no slicing and no skipping`\n",
        "- ` The same key columns the values will be override the values`\n",
        "- `In place of Values we can pass anything(any datatype)`\n"
      ],
      "metadata": {
        "id": "e6WB6evVBqxF"
      }
    },
    {
      "cell_type": "code",
      "source": [
        "a={'name':'john','age':20,'salary':1200}\n",
        "print(a)"
      ],
      "metadata": {
        "colab": {
          "base_uri": "https://localhost:8080/"
        },
        "id": "qgRuV07UAzSU",
        "outputId": "a8ccca10-a49c-4f06-a577-f960e40fef0c"
      },
      "execution_count": 87,
      "outputs": [
        {
          "output_type": "stream",
          "name": "stdout",
          "text": [
            "{'name': 'john', 'age': 20, 'salary': 1200}\n"
          ]
        }
      ]
    },
    {
      "cell_type": "code",
      "source": [
        "#multiple values\n",
        "a={'name':['john','petter','michal'],'age':[10,20,30],'salary':[1200,1500,1600]}\n",
        "print(a)"
      ],
      "metadata": {
        "colab": {
          "base_uri": "https://localhost:8080/"
        },
        "id": "baQwinCPC0Hk",
        "outputId": "93417f46-1b7c-4975-a738-416c04e14dff"
      },
      "execution_count": 88,
      "outputs": [
        {
          "output_type": "stream",
          "name": "stdout",
          "text": [
            "{'name': ['john', 'petter', 'michal'], 'age': [10, 20, 30], 'salary': [1200, 1500, 1600]}\n"
          ]
        }
      ]
    },
    {
      "cell_type": "code",
      "source": [
        "#Table representation - import pandas\n",
        "import pandas as pd\n",
        "pd.DataFrame(a)"
      ],
      "metadata": {
        "colab": {
          "base_uri": "https://localhost:8080/",
          "height": 143
        },
        "id": "EawOhxCwDOFJ",
        "outputId": "22fc70af-c493-4e5b-9e03-2a76cc377858"
      },
      "execution_count": 91,
      "outputs": [
        {
          "output_type": "execute_result",
          "data": {
            "text/plain": [
              "     name  age  salary\n",
              "0    john   10    1200\n",
              "1  petter   20    1500\n",
              "2  michal   30    1600"
            ],
            "text/html": [
              "\n",
              "  <div id=\"df-555bbf19-0612-4e49-bc85-401c9172a3db\" class=\"colab-df-container\">\n",
              "    <div>\n",
              "<style scoped>\n",
              "    .dataframe tbody tr th:only-of-type {\n",
              "        vertical-align: middle;\n",
              "    }\n",
              "\n",
              "    .dataframe tbody tr th {\n",
              "        vertical-align: top;\n",
              "    }\n",
              "\n",
              "    .dataframe thead th {\n",
              "        text-align: right;\n",
              "    }\n",
              "</style>\n",
              "<table border=\"1\" class=\"dataframe\">\n",
              "  <thead>\n",
              "    <tr style=\"text-align: right;\">\n",
              "      <th></th>\n",
              "      <th>name</th>\n",
              "      <th>age</th>\n",
              "      <th>salary</th>\n",
              "    </tr>\n",
              "  </thead>\n",
              "  <tbody>\n",
              "    <tr>\n",
              "      <th>0</th>\n",
              "      <td>john</td>\n",
              "      <td>10</td>\n",
              "      <td>1200</td>\n",
              "    </tr>\n",
              "    <tr>\n",
              "      <th>1</th>\n",
              "      <td>petter</td>\n",
              "      <td>20</td>\n",
              "      <td>1500</td>\n",
              "    </tr>\n",
              "    <tr>\n",
              "      <th>2</th>\n",
              "      <td>michal</td>\n",
              "      <td>30</td>\n",
              "      <td>1600</td>\n",
              "    </tr>\n",
              "  </tbody>\n",
              "</table>\n",
              "</div>\n",
              "    <div class=\"colab-df-buttons\">\n",
              "\n",
              "  <div class=\"colab-df-container\">\n",
              "    <button class=\"colab-df-convert\" onclick=\"convertToInteractive('df-555bbf19-0612-4e49-bc85-401c9172a3db')\"\n",
              "            title=\"Convert this dataframe to an interactive table.\"\n",
              "            style=\"display:none;\">\n",
              "\n",
              "  <svg xmlns=\"http://www.w3.org/2000/svg\" height=\"24px\" viewBox=\"0 -960 960 960\">\n",
              "    <path d=\"M120-120v-720h720v720H120Zm60-500h600v-160H180v160Zm220 220h160v-160H400v160Zm0 220h160v-160H400v160ZM180-400h160v-160H180v160Zm440 0h160v-160H620v160ZM180-180h160v-160H180v160Zm440 0h160v-160H620v160Z\"/>\n",
              "  </svg>\n",
              "    </button>\n",
              "\n",
              "  <style>\n",
              "    .colab-df-container {\n",
              "      display:flex;\n",
              "      gap: 12px;\n",
              "    }\n",
              "\n",
              "    .colab-df-convert {\n",
              "      background-color: #E8F0FE;\n",
              "      border: none;\n",
              "      border-radius: 50%;\n",
              "      cursor: pointer;\n",
              "      display: none;\n",
              "      fill: #1967D2;\n",
              "      height: 32px;\n",
              "      padding: 0 0 0 0;\n",
              "      width: 32px;\n",
              "    }\n",
              "\n",
              "    .colab-df-convert:hover {\n",
              "      background-color: #E2EBFA;\n",
              "      box-shadow: 0px 1px 2px rgba(60, 64, 67, 0.3), 0px 1px 3px 1px rgba(60, 64, 67, 0.15);\n",
              "      fill: #174EA6;\n",
              "    }\n",
              "\n",
              "    .colab-df-buttons div {\n",
              "      margin-bottom: 4px;\n",
              "    }\n",
              "\n",
              "    [theme=dark] .colab-df-convert {\n",
              "      background-color: #3B4455;\n",
              "      fill: #D2E3FC;\n",
              "    }\n",
              "\n",
              "    [theme=dark] .colab-df-convert:hover {\n",
              "      background-color: #434B5C;\n",
              "      box-shadow: 0px 1px 3px 1px rgba(0, 0, 0, 0.15);\n",
              "      filter: drop-shadow(0px 1px 2px rgba(0, 0, 0, 0.3));\n",
              "      fill: #FFFFFF;\n",
              "    }\n",
              "  </style>\n",
              "\n",
              "    <script>\n",
              "      const buttonEl =\n",
              "        document.querySelector('#df-555bbf19-0612-4e49-bc85-401c9172a3db button.colab-df-convert');\n",
              "      buttonEl.style.display =\n",
              "        google.colab.kernel.accessAllowed ? 'block' : 'none';\n",
              "\n",
              "      async function convertToInteractive(key) {\n",
              "        const element = document.querySelector('#df-555bbf19-0612-4e49-bc85-401c9172a3db');\n",
              "        const dataTable =\n",
              "          await google.colab.kernel.invokeFunction('convertToInteractive',\n",
              "                                                    [key], {});\n",
              "        if (!dataTable) return;\n",
              "\n",
              "        const docLinkHtml = 'Like what you see? Visit the ' +\n",
              "          '<a target=\"_blank\" href=https://colab.research.google.com/notebooks/data_table.ipynb>data table notebook</a>'\n",
              "          + ' to learn more about interactive tables.';\n",
              "        element.innerHTML = '';\n",
              "        dataTable['output_type'] = 'display_data';\n",
              "        await google.colab.output.renderOutput(dataTable, element);\n",
              "        const docLink = document.createElement('div');\n",
              "        docLink.innerHTML = docLinkHtml;\n",
              "        element.appendChild(docLink);\n",
              "      }\n",
              "    </script>\n",
              "  </div>\n",
              "\n",
              "\n",
              "<div id=\"df-60fe4e56-e38f-404d-9582-6ff0b92a72f8\">\n",
              "  <button class=\"colab-df-quickchart\" onclick=\"quickchart('df-60fe4e56-e38f-404d-9582-6ff0b92a72f8')\"\n",
              "            title=\"Suggest charts\"\n",
              "            style=\"display:none;\">\n",
              "\n",
              "<svg xmlns=\"http://www.w3.org/2000/svg\" height=\"24px\"viewBox=\"0 0 24 24\"\n",
              "     width=\"24px\">\n",
              "    <g>\n",
              "        <path d=\"M19 3H5c-1.1 0-2 .9-2 2v14c0 1.1.9 2 2 2h14c1.1 0 2-.9 2-2V5c0-1.1-.9-2-2-2zM9 17H7v-7h2v7zm4 0h-2V7h2v10zm4 0h-2v-4h2v4z\"/>\n",
              "    </g>\n",
              "</svg>\n",
              "  </button>\n",
              "\n",
              "<style>\n",
              "  .colab-df-quickchart {\n",
              "      --bg-color: #E8F0FE;\n",
              "      --fill-color: #1967D2;\n",
              "      --hover-bg-color: #E2EBFA;\n",
              "      --hover-fill-color: #174EA6;\n",
              "      --disabled-fill-color: #AAA;\n",
              "      --disabled-bg-color: #DDD;\n",
              "  }\n",
              "\n",
              "  [theme=dark] .colab-df-quickchart {\n",
              "      --bg-color: #3B4455;\n",
              "      --fill-color: #D2E3FC;\n",
              "      --hover-bg-color: #434B5C;\n",
              "      --hover-fill-color: #FFFFFF;\n",
              "      --disabled-bg-color: #3B4455;\n",
              "      --disabled-fill-color: #666;\n",
              "  }\n",
              "\n",
              "  .colab-df-quickchart {\n",
              "    background-color: var(--bg-color);\n",
              "    border: none;\n",
              "    border-radius: 50%;\n",
              "    cursor: pointer;\n",
              "    display: none;\n",
              "    fill: var(--fill-color);\n",
              "    height: 32px;\n",
              "    padding: 0;\n",
              "    width: 32px;\n",
              "  }\n",
              "\n",
              "  .colab-df-quickchart:hover {\n",
              "    background-color: var(--hover-bg-color);\n",
              "    box-shadow: 0 1px 2px rgba(60, 64, 67, 0.3), 0 1px 3px 1px rgba(60, 64, 67, 0.15);\n",
              "    fill: var(--button-hover-fill-color);\n",
              "  }\n",
              "\n",
              "  .colab-df-quickchart-complete:disabled,\n",
              "  .colab-df-quickchart-complete:disabled:hover {\n",
              "    background-color: var(--disabled-bg-color);\n",
              "    fill: var(--disabled-fill-color);\n",
              "    box-shadow: none;\n",
              "  }\n",
              "\n",
              "  .colab-df-spinner {\n",
              "    border: 2px solid var(--fill-color);\n",
              "    border-color: transparent;\n",
              "    border-bottom-color: var(--fill-color);\n",
              "    animation:\n",
              "      spin 1s steps(1) infinite;\n",
              "  }\n",
              "\n",
              "  @keyframes spin {\n",
              "    0% {\n",
              "      border-color: transparent;\n",
              "      border-bottom-color: var(--fill-color);\n",
              "      border-left-color: var(--fill-color);\n",
              "    }\n",
              "    20% {\n",
              "      border-color: transparent;\n",
              "      border-left-color: var(--fill-color);\n",
              "      border-top-color: var(--fill-color);\n",
              "    }\n",
              "    30% {\n",
              "      border-color: transparent;\n",
              "      border-left-color: var(--fill-color);\n",
              "      border-top-color: var(--fill-color);\n",
              "      border-right-color: var(--fill-color);\n",
              "    }\n",
              "    40% {\n",
              "      border-color: transparent;\n",
              "      border-right-color: var(--fill-color);\n",
              "      border-top-color: var(--fill-color);\n",
              "    }\n",
              "    60% {\n",
              "      border-color: transparent;\n",
              "      border-right-color: var(--fill-color);\n",
              "    }\n",
              "    80% {\n",
              "      border-color: transparent;\n",
              "      border-right-color: var(--fill-color);\n",
              "      border-bottom-color: var(--fill-color);\n",
              "    }\n",
              "    90% {\n",
              "      border-color: transparent;\n",
              "      border-bottom-color: var(--fill-color);\n",
              "    }\n",
              "  }\n",
              "</style>\n",
              "\n",
              "  <script>\n",
              "    async function quickchart(key) {\n",
              "      const quickchartButtonEl =\n",
              "        document.querySelector('#' + key + ' button');\n",
              "      quickchartButtonEl.disabled = true;  // To prevent multiple clicks.\n",
              "      quickchartButtonEl.classList.add('colab-df-spinner');\n",
              "      try {\n",
              "        const charts = await google.colab.kernel.invokeFunction(\n",
              "            'suggestCharts', [key], {});\n",
              "      } catch (error) {\n",
              "        console.error('Error during call to suggestCharts:', error);\n",
              "      }\n",
              "      quickchartButtonEl.classList.remove('colab-df-spinner');\n",
              "      quickchartButtonEl.classList.add('colab-df-quickchart-complete');\n",
              "    }\n",
              "    (() => {\n",
              "      let quickchartButtonEl =\n",
              "        document.querySelector('#df-60fe4e56-e38f-404d-9582-6ff0b92a72f8 button');\n",
              "      quickchartButtonEl.style.display =\n",
              "        google.colab.kernel.accessAllowed ? 'block' : 'none';\n",
              "    })();\n",
              "  </script>\n",
              "</div>\n",
              "\n",
              "    </div>\n",
              "  </div>\n"
            ],
            "application/vnd.google.colaboratory.intrinsic+json": {
              "type": "dataframe",
              "summary": "{\n  \"name\": \"pd\",\n  \"rows\": 3,\n  \"fields\": [\n    {\n      \"column\": \"name\",\n      \"properties\": {\n        \"dtype\": \"string\",\n        \"num_unique_values\": 3,\n        \"samples\": [\n          \"john\",\n          \"petter\",\n          \"michal\"\n        ],\n        \"semantic_type\": \"\",\n        \"description\": \"\"\n      }\n    },\n    {\n      \"column\": \"age\",\n      \"properties\": {\n        \"dtype\": \"number\",\n        \"std\": 10,\n        \"min\": 10,\n        \"max\": 30,\n        \"num_unique_values\": 3,\n        \"samples\": [\n          10,\n          20,\n          30\n        ],\n        \"semantic_type\": \"\",\n        \"description\": \"\"\n      }\n    },\n    {\n      \"column\": \"salary\",\n      \"properties\": {\n        \"dtype\": \"number\",\n        \"std\": 208,\n        \"min\": 1200,\n        \"max\": 1600,\n        \"num_unique_values\": 3,\n        \"samples\": [\n          1200,\n          1500,\n          1600\n        ],\n        \"semantic_type\": \"\",\n        \"description\": \"\"\n      }\n    }\n  ]\n}"
            }
          },
          "metadata": {},
          "execution_count": 91
        }
      ]
    },
    {
      "cell_type": "code",
      "source": [
        "print(a['age'][1])"
      ],
      "metadata": {
        "colab": {
          "base_uri": "https://localhost:8080/"
        },
        "id": "CdQA8EbzDasn",
        "outputId": "2516ea15-c6aa-4868-9526-710f5c638f78"
      },
      "execution_count": 97,
      "outputs": [
        {
          "output_type": "stream",
          "name": "stdout",
          "text": [
            "20\n"
          ]
        }
      ]
    },
    {
      "cell_type": "code",
      "source": [
        "# trying the increase the memory\n",
        "fruits = {'apple':100,'banana':200,'carraot':300}\n",
        "fruits['graphes']=500\n",
        "print(fruits)"
      ],
      "metadata": {
        "colab": {
          "base_uri": "https://localhost:8080/"
        },
        "id": "ywemhM8LD0Yt",
        "outputId": "bba9ff4b-e3f4-4f92-a704-fd7d1ab012d0"
      },
      "execution_count": 98,
      "outputs": [
        {
          "output_type": "stream",
          "name": "stdout",
          "text": [
            "{'apple': 100, 'banana': 200, 'carraot': 300, 'graphes': 500}\n"
          ]
        }
      ]
    },
    {
      "cell_type": "code",
      "source": [
        "#Tring to decrese the momory\n",
        "fruits = {'apple':100,'banana':200,'carraot':300}\n",
        "del fruits['carraot']\n",
        "print(fruits)"
      ],
      "metadata": {
        "colab": {
          "base_uri": "https://localhost:8080/"
        },
        "id": "ZR3pWUC7G3pZ",
        "outputId": "c55dffe9-e8ba-452a-bbbd-519cd051917e"
      },
      "execution_count": 99,
      "outputs": [
        {
          "output_type": "stream",
          "name": "stdout",
          "text": [
            "{'apple': 100, 'banana': 200}\n"
          ]
        }
      ]
    },
    {
      "cell_type": "markdown",
      "source": [
        "**The above Operations we can say the dictionary is mutable**\n",
        "\n",
        "\n",
        "---\n",
        "\n",
        "### **Built_in-functions**"
      ],
      "metadata": {
        "id": "Dxg1co8LHF9B"
      }
    },
    {
      "cell_type": "code",
      "source": [
        "dir(dict)\n",
        "print(len(dir(dict)))"
      ],
      "metadata": {
        "colab": {
          "base_uri": "https://localhost:8080/"
        },
        "id": "92wHhznuHEl4",
        "outputId": "f3c2edf0-14a8-4dee-f519-a9fdcc542551"
      },
      "execution_count": 101,
      "outputs": [
        {
          "output_type": "stream",
          "name": "stdout",
          "text": [
            "46\n"
          ]
        }
      ]
    },
    {
      "cell_type": "code",
      "source": [
        "#get : The get Function will give the column value\n",
        "fruits={'apple':100,'banana':200,'carraot':300}\n",
        "print(fruits.get('banana'))\n"
      ],
      "metadata": {
        "colab": {
          "base_uri": "https://localhost:8080/"
        },
        "id": "Ak2aXBq0HZXV",
        "outputId": "b9149940-f753-4fbc-97a5-76a6b0e18487"
      },
      "execution_count": 104,
      "outputs": [
        {
          "output_type": "stream",
          "name": "stdout",
          "text": [
            "200\n"
          ]
        }
      ]
    },
    {
      "cell_type": "code",
      "source": [
        "#update : The update  Function will give the add key and value\n",
        "fruits={'apple':100,'banana':200,'carraot':300}\n",
        "fruits.update({'graphes':500})\n",
        "print(fruits)\n"
      ],
      "metadata": {
        "colab": {
          "base_uri": "https://localhost:8080/"
        },
        "id": "uXQ-QC4-Hypu",
        "outputId": "f985fcbf-bba0-4d42-d738-fa21a9144f2b"
      },
      "execution_count": 106,
      "outputs": [
        {
          "output_type": "stream",
          "name": "stdout",
          "text": [
            "{'apple': 100, 'banana': 200, 'carraot': 300, 'graphes': 500}\n"
          ]
        }
      ]
    },
    {
      "cell_type": "code",
      "source": [
        "#pop : The pop  Function will remove the key and value user givened\n",
        "fruits={'apple':100,'banana':200,'carraot':300}\n",
        "fruits.pop('banana')\n",
        "print(fruits)\n"
      ],
      "metadata": {
        "colab": {
          "base_uri": "https://localhost:8080/"
        },
        "id": "3kjf6UoqIJ1b",
        "outputId": "02a31b01-c5b5-4fc2-e0ee-b1ee3afa60de"
      },
      "execution_count": 108,
      "outputs": [
        {
          "output_type": "stream",
          "name": "stdout",
          "text": [
            "{'apple': 100, 'carraot': 300}\n"
          ]
        }
      ]
    },
    {
      "cell_type": "code",
      "source": [
        "#popitem : The popitem  Function will remove the last key and value user givened\n",
        "fruits={'apple':100,'banana':200,'carraot':300}\n",
        "fruits.popitem()\n",
        "print(fruits)\n"
      ],
      "metadata": {
        "colab": {
          "base_uri": "https://localhost:8080/"
        },
        "id": "5hlGOyjPIgg4",
        "outputId": "906315b0-1fab-4df4-df33-ab3a8af6635e"
      },
      "execution_count": 109,
      "outputs": [
        {
          "output_type": "stream",
          "name": "stdout",
          "text": [
            "{'apple': 100, 'banana': 200}\n"
          ]
        }
      ]
    },
    {
      "cell_type": "code",
      "source": [
        "#values : The values  Function will give the vlaues of the keys\n",
        "fruits={'apple':100,'banana':200,'carraot':300}\n",
        "print(fruits.values())\n"
      ],
      "metadata": {
        "colab": {
          "base_uri": "https://localhost:8080/"
        },
        "id": "nPZvlJC9IwQ7",
        "outputId": "8b5afb5f-4260-41d5-f268-43f34553ef05"
      },
      "execution_count": 111,
      "outputs": [
        {
          "output_type": "stream",
          "name": "stdout",
          "text": [
            "dict_values([100, 200, 300])\n"
          ]
        }
      ]
    },
    {
      "cell_type": "code",
      "source": [
        "#keys : The keys  Function will give the  keys\n",
        "fruits={'apple':100,'banana':200,'carraot':300}\n",
        "print(fruits.keys())\n"
      ],
      "metadata": {
        "colab": {
          "base_uri": "https://localhost:8080/"
        },
        "id": "kCoHXlM7I5EY",
        "outputId": "ff9428e6-cb66-4f11-e80f-d7aa1077c8f3"
      },
      "execution_count": 113,
      "outputs": [
        {
          "output_type": "stream",
          "name": "stdout",
          "text": [
            "dict_keys(['apple', 'banana', 'carraot'])\n"
          ]
        }
      ]
    },
    {
      "cell_type": "code",
      "source": [
        "#items : The items  Function will give the  both keys and values\n",
        "fruits={'apple':100,'banana':200,'carraot':300}\n",
        "print(fruits.items())\n"
      ],
      "metadata": {
        "colab": {
          "base_uri": "https://localhost:8080/"
        },
        "id": "hs-8stOuJIYc",
        "outputId": "5749f8c0-777c-412d-b92c-c82615da40c6"
      },
      "execution_count": 114,
      "outputs": [
        {
          "output_type": "stream",
          "name": "stdout",
          "text": [
            "dict_items([('apple', 100), ('banana', 200), ('carraot', 300)])\n"
          ]
        }
      ]
    },
    {
      "cell_type": "code",
      "source": [
        "#clear : The clear  Function will clear the pair and give the empty dict\n",
        "fruits={'apple':100,'banana':200,'carraot':300}\n",
        "fruits.clear()\n",
        "print(fruits)\n"
      ],
      "metadata": {
        "colab": {
          "base_uri": "https://localhost:8080/"
        },
        "id": "Z_nJSwEYJQ3u",
        "outputId": "407b8138-b6de-4c7f-d683-52a95bb543ba"
      },
      "execution_count": 116,
      "outputs": [
        {
          "output_type": "stream",
          "name": "stdout",
          "text": [
            "{}\n"
          ]
        }
      ]
    },
    {
      "cell_type": "code",
      "source": [],
      "metadata": {
        "id": "m22gREfUJdh2"
      },
      "execution_count": null,
      "outputs": []
    }
  ]
}