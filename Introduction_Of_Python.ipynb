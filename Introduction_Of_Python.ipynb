{
  "nbformat": 4,
  "nbformat_minor": 0,
  "metadata": {
    "colab": {
      "provenance": []
    },
    "kernelspec": {
      "name": "python3",
      "display_name": "Python 3"
    },
    "language_info": {
      "name": "python"
    }
  },
  "cells": [
    {
      "cell_type": "markdown",
      "source": [
        "## Basics of python\n",
        "- `Data Types`\n",
        "- `Varibles`\n",
        "-`Type Conversation`\n",
        "-`Print conditions`\n",
        "-`String`\n",
        "-`List`\n",
        "-`Tuple`\n",
        "-`Dictionary`\n",
        "-`set`\n",
        "-`Keywords`\n",
        "-`Built-in Functions`\n",
        "-`Liabries`\n",
        "-`Operations`\n",
        "\n"
      ],
      "metadata": {
        "id": "15tH_n0Zdh97"
      }
    },
    {
      "cell_type": "markdown",
      "source": [
        "# Data types\n",
        "\n",
        "\n",
        "---\n",
        "\n",
        "\n",
        "1.   String - The string is contains the quote's and anything will be write in the quote's that will string Ex:'Kumar',\"John\",\"\"\"Peter\"\"\"\n",
        "2.   Integer - The integer Means the Whole Numbers Ex:12,45,78\n",
        "3.   Float - The Float is Contains the Decimal Numbers Ex:12.20,15.3\n",
        "\n",
        "\n",
        "\n"
      ],
      "metadata": {
        "id": "df9r_A87e5BG"
      }
    },
    {
      "cell_type": "code",
      "source": [
        "#String\n",
        "a='kumar'\n",
        "print(a)\n",
        "print(type(a))\n",
        "b=\"John\"\n",
        "print(b)\n",
        "print(type(b))\n",
        "c=\"\"\"Peter\"\"\"\n",
        "print(c)\n",
        "\n",
        "print(type(c))"
      ],
      "metadata": {
        "colab": {
          "base_uri": "https://localhost:8080/"
        },
        "id": "G5Y1hEg7hd11",
        "outputId": "f273a0f2-0a3e-43aa-aea9-afb200cd399f"
      },
      "execution_count": 4,
      "outputs": [
        {
          "output_type": "stream",
          "name": "stdout",
          "text": [
            "kumar\n",
            "<class 'str'>\n",
            "John\n",
            "<class 'str'>\n",
            "Peter\n",
            "<class 'str'>\n"
          ]
        }
      ]
    },
    {
      "cell_type": "code",
      "source": [
        "# Interger\n",
        "a=125\n",
        "print(a)\n",
        "print(type(a))\n"
      ],
      "metadata": {
        "colab": {
          "base_uri": "https://localhost:8080/"
        },
        "id": "FH2FoKMXjLnq",
        "outputId": "3ed50362-b7e0-4389-f6b1-02f8a36ae88c"
      },
      "execution_count": 5,
      "outputs": [
        {
          "output_type": "stream",
          "name": "stdout",
          "text": [
            "125\n",
            "<class 'int'>\n"
          ]
        }
      ]
    },
    {
      "cell_type": "code",
      "source": [
        "#Float\n",
        "a=12.3\n",
        "print(a)\n",
        "print(type(a))"
      ],
      "metadata": {
        "colab": {
          "base_uri": "https://localhost:8080/"
        },
        "id": "Zw17xdiZk7nN",
        "outputId": "e7d731f1-689c-445a-ca83-f0e3a4ee3d57"
      },
      "execution_count": 6,
      "outputs": [
        {
          "output_type": "stream",
          "name": "stdout",
          "text": [
            "12.3\n",
            "<class 'float'>\n"
          ]
        }
      ]
    },
    {
      "cell_type": "markdown",
      "source": [
        "# Varibles\n",
        "---\n",
        "- ` Variable is nothing but contain the right side value assign to the left side value using (=) equal to symbol`\n",
        "## Rules\n",
        "\n",
        "\n",
        "1.   The variable is does not start with the numbers. Ex: 1abc,8kumer\n",
        "2.   The varible is does not start with punchuvations. Ex:!,@,#,$....\n",
        "3.   The varible is does not contain the multiple words and we can write multiple words please the underscore(_). Ex:Sai kumar,John_peter\n",
        "4.   The varible is be case sensitive. Ex: sai,Kumer\n",
        "\n",
        "\n"
      ],
      "metadata": {
        "id": "7RxYyDHslSR3"
      }
    },
    {
      "cell_type": "code",
      "source": [
        "#Rule: 1\n",
        "1abc=12\n",
        "print(1abc)"
      ],
      "metadata": {
        "colab": {
          "base_uri": "https://localhost:8080/",
          "height": 106
        },
        "id": "4rjPO86RlB9-",
        "outputId": "c5c8def9-e9cd-455b-f0ed-6478551b1978"
      },
      "execution_count": 9,
      "outputs": [
        {
          "output_type": "error",
          "ename": "SyntaxError",
          "evalue": "invalid decimal literal (<ipython-input-9-b9d8952c29da>, line 1)",
          "traceback": [
            "\u001b[0;36m  File \u001b[0;32m\"<ipython-input-9-b9d8952c29da>\"\u001b[0;36m, line \u001b[0;32m1\u001b[0m\n\u001b[0;31m    1abc=12\u001b[0m\n\u001b[0m    ^\u001b[0m\n\u001b[0;31mSyntaxError\u001b[0m\u001b[0;31m:\u001b[0m invalid decimal literal\n"
          ]
        }
      ]
    },
    {
      "cell_type": "code",
      "source": [
        "#Rule: 2\n",
        "$abc='kuamr'\n",
        "print(!abc)"
      ],
      "metadata": {
        "colab": {
          "base_uri": "https://localhost:8080/",
          "height": 106
        },
        "id": "FaDBKinKmQ6W",
        "outputId": "5fc23213-1387-4083-c119-4f253808830f"
      },
      "execution_count": 12,
      "outputs": [
        {
          "output_type": "error",
          "ename": "SyntaxError",
          "evalue": "invalid syntax (<ipython-input-12-b724ba5b780c>, line 1)",
          "traceback": [
            "\u001b[0;36m  File \u001b[0;32m\"<ipython-input-12-b724ba5b780c>\"\u001b[0;36m, line \u001b[0;32m1\u001b[0m\n\u001b[0;31m    $abc='kuamr'\u001b[0m\n\u001b[0m    ^\u001b[0m\n\u001b[0;31mSyntaxError\u001b[0m\u001b[0;31m:\u001b[0m invalid syntax\n"
          ]
        }
      ]
    },
    {
      "cell_type": "code",
      "source": [
        "#Rule: 3\n",
        "sai kumar= \"Ram\"\n",
        "print(sai Kumar)"
      ],
      "metadata": {
        "colab": {
          "base_uri": "https://localhost:8080/",
          "height": 106
        },
        "id": "sGGzIsaqnTzx",
        "outputId": "2ed47171-b156-4c47-d038-e9f02a012fac"
      },
      "execution_count": 13,
      "outputs": [
        {
          "output_type": "error",
          "ename": "SyntaxError",
          "evalue": "invalid syntax (<ipython-input-13-f62c16905be2>, line 1)",
          "traceback": [
            "\u001b[0;36m  File \u001b[0;32m\"<ipython-input-13-f62c16905be2>\"\u001b[0;36m, line \u001b[0;32m1\u001b[0m\n\u001b[0;31m    sai kumar= \"Ram\"\u001b[0m\n\u001b[0m        ^\u001b[0m\n\u001b[0;31mSyntaxError\u001b[0m\u001b[0;31m:\u001b[0m invalid syntax\n"
          ]
        }
      ]
    },
    {
      "cell_type": "code",
      "source": [
        "#Rule: 3\n",
        "_sai_peter='peter'\n",
        "print(_sai_peter)"
      ],
      "metadata": {
        "colab": {
          "base_uri": "https://localhost:8080/"
        },
        "id": "u00rx2ltngEz",
        "outputId": "45387a19-bb6f-4616-cac7-6ea7447d4ac1"
      },
      "execution_count": 15,
      "outputs": [
        {
          "output_type": "stream",
          "name": "stdout",
          "text": [
            "peter\n"
          ]
        }
      ]
    },
    {
      "cell_type": "code",
      "source": [
        "var=25\n",
        "print(var)\n",
        "print()\n",
        "print(Var)"
      ],
      "metadata": {
        "colab": {
          "base_uri": "https://localhost:8080/",
          "height": 211
        },
        "id": "R02ly53UnkaM",
        "outputId": "07af3240-957a-496d-9bf1-d65ad3cb2698"
      },
      "execution_count": 18,
      "outputs": [
        {
          "output_type": "stream",
          "name": "stdout",
          "text": [
            "25\n",
            "\n"
          ]
        },
        {
          "output_type": "error",
          "ename": "NameError",
          "evalue": "name 'Var' is not defined",
          "traceback": [
            "\u001b[0;31m---------------------------------------------------------------------------\u001b[0m",
            "\u001b[0;31mNameError\u001b[0m                                 Traceback (most recent call last)",
            "\u001b[0;32m<ipython-input-18-e5706f2a1f43>\u001b[0m in \u001b[0;36m<cell line: 0>\u001b[0;34m()\u001b[0m\n\u001b[1;32m      2\u001b[0m \u001b[0mprint\u001b[0m\u001b[0;34m(\u001b[0m\u001b[0mvar\u001b[0m\u001b[0;34m)\u001b[0m\u001b[0;34m\u001b[0m\u001b[0;34m\u001b[0m\u001b[0m\n\u001b[1;32m      3\u001b[0m \u001b[0mprint\u001b[0m\u001b[0;34m(\u001b[0m\u001b[0;34m)\u001b[0m\u001b[0;34m\u001b[0m\u001b[0;34m\u001b[0m\u001b[0m\n\u001b[0;32m----> 4\u001b[0;31m \u001b[0mprint\u001b[0m\u001b[0;34m(\u001b[0m\u001b[0mVar\u001b[0m\u001b[0;34m)\u001b[0m\u001b[0;34m\u001b[0m\u001b[0;34m\u001b[0m\u001b[0m\n\u001b[0m",
            "\u001b[0;31mNameError\u001b[0m: name 'Var' is not defined"
          ]
        }
      ]
    },
    {
      "cell_type": "markdown",
      "source": [
        "**Type Convertion**\n",
        "- `1. Int - float --> we can convert the integer to float.`\n",
        "-`2.  Int - str --> we can convert the integer to string.`\n",
        "- `3. float - str --> we can convert the float to string. `\n",
        "-`4.  float - Int  --> we can convert the float to int.`\n",
        "- `5. str - int --> we can convert the  string to integer. `\n",
        "-`6.  str - float --> we can convert the string to float.`\n",
        "\n",
        "\n"
      ],
      "metadata": {
        "id": "HLsv15IHokke"
      }
    },
    {
      "cell_type": "code",
      "source": [
        "#Rule: 1\n",
        "a=12\n",
        "print(a)\n",
        "print(type(a))\n",
        "print(type(float(a)))\n"
      ],
      "metadata": {
        "colab": {
          "base_uri": "https://localhost:8080/"
        },
        "id": "l_4ydmP2oZOb",
        "outputId": "8b7156e7-5d02-49c1-f67c-b9971d75b938"
      },
      "execution_count": 24,
      "outputs": [
        {
          "output_type": "stream",
          "name": "stdout",
          "text": [
            "12\n",
            "<class 'int'>\n",
            "<class 'float'>\n"
          ]
        }
      ]
    },
    {
      "cell_type": "code",
      "source": [
        "#Rule: 2\n",
        "a=12\n",
        "print(a)\n",
        "print(type(a))\n",
        "print(type(str(a)))\n"
      ],
      "metadata": {
        "colab": {
          "base_uri": "https://localhost:8080/"
        },
        "id": "VlPF2ZKd-fwX",
        "outputId": "11765d6b-d10d-4653-b2b3-5341963c4c27"
      },
      "execution_count": 23,
      "outputs": [
        {
          "output_type": "stream",
          "name": "stdout",
          "text": [
            "12\n",
            "<class 'int'>\n",
            "<class 'str'>\n"
          ]
        }
      ]
    },
    {
      "cell_type": "code",
      "source": [
        "#Rule: 3\n",
        "a=12.0\n",
        "print(a)\n",
        "print(type(a))\n",
        "print(type(str(a)))"
      ],
      "metadata": {
        "colab": {
          "base_uri": "https://localhost:8080/"
        },
        "id": "-KwMWQWI_MAj",
        "outputId": "4f190ca9-0fbd-4a4d-bb0f-47dec4b29bfa"
      },
      "execution_count": 25,
      "outputs": [
        {
          "output_type": "stream",
          "name": "stdout",
          "text": [
            "12.0\n",
            "<class 'float'>\n",
            "<class 'str'>\n"
          ]
        }
      ]
    },
    {
      "cell_type": "code",
      "source": [
        "#Rule: 4\n",
        "a=12.0\n",
        "print(a)\n",
        "print(type(a))\n",
        "print(type(int(a)))"
      ],
      "metadata": {
        "colab": {
          "base_uri": "https://localhost:8080/"
        },
        "id": "MpIKREWU_qj8",
        "outputId": "4115ae8e-760f-4d61-e6ee-5c0f193b1fb0"
      },
      "execution_count": 26,
      "outputs": [
        {
          "output_type": "stream",
          "name": "stdout",
          "text": [
            "12.0\n",
            "<class 'float'>\n",
            "<class 'int'>\n"
          ]
        }
      ]
    },
    {
      "cell_type": "code",
      "source": [
        "#Rule: 5\n",
        "a=\"12\"\n",
        "print(a)\n",
        "print(type(a))\n",
        "print(type(int(a)))"
      ],
      "metadata": {
        "colab": {
          "base_uri": "https://localhost:8080/"
        },
        "id": "YqUVoz9uHLLM",
        "outputId": "9c902ec6-810c-4065-c033-81798f79a297"
      },
      "execution_count": 27,
      "outputs": [
        {
          "output_type": "stream",
          "name": "stdout",
          "text": [
            "12\n",
            "<class 'str'>\n",
            "<class 'int'>\n"
          ]
        }
      ]
    },
    {
      "cell_type": "code",
      "source": [
        "#Rule: 6\n",
        "a=\"12\"\n",
        "print(a)\n",
        "print(type(a))\n",
        "print(type(float(a)))"
      ],
      "metadata": {
        "colab": {
          "base_uri": "https://localhost:8080/"
        },
        "id": "pR-2XnxrH1z4",
        "outputId": "338810d9-26a1-4758-df07-bb7652639c32"
      },
      "execution_count": 28,
      "outputs": [
        {
          "output_type": "stream",
          "name": "stdout",
          "text": [
            "12\n",
            "<class 'str'>\n",
            "<class 'float'>\n"
          ]
        }
      ]
    },
    {
      "cell_type": "markdown",
      "source": [
        "**Print Conditions**\n",
        "\n",
        "\n",
        "---\n",
        "\n",
        "\n",
        " `1. Using comma(,) Operator used the 20 % of coder's.`\n",
        "\n",
        " `2. using plus(+) operator wii not real time the plus operator only work string and give the 1 tab space `\n",
        "\n",
        " `3. using with identifires represent with the different way`\n",
        "\n",
        "1.   int -- %d\n",
        "2.   float -- %f\n",
        "3.   str -- %s\n",
        "\n"
      ],
      "metadata": {
        "id": "AiprYEKsH-83"
      }
    },
    {
      "cell_type": "code",
      "source": [
        "#Rule: 1\n",
        "a=\"i am a student \"\n",
        "print(a,\"kumar\")"
      ],
      "metadata": {
        "colab": {
          "base_uri": "https://localhost:8080/"
        },
        "id": "Ooa9NBQbH79s",
        "outputId": "b9b37efb-ef9b-4196-acf3-b5853b7c4f08"
      },
      "execution_count": 29,
      "outputs": [
        {
          "output_type": "stream",
          "name": "stdout",
          "text": [
            "i am a student  kumar\n"
          ]
        }
      ]
    },
    {
      "cell_type": "code",
      "source": [
        "#Rule: 2\n",
        "print(\"ram \"+\"kumar\")"
      ],
      "metadata": {
        "colab": {
          "base_uri": "https://localhost:8080/"
        },
        "id": "RSKsGcDUIqIc",
        "outputId": "994aed20-31fa-4191-8b3f-8625b78fef67"
      },
      "execution_count": 34,
      "outputs": [
        {
          "output_type": "stream",
          "name": "stdout",
          "text": [
            "ram kumar\n"
          ]
        }
      ]
    },
    {
      "cell_type": "code",
      "source": [
        "#Rule: 2\n",
        "print(\"ram \"+23)"
      ],
      "metadata": {
        "colab": {
          "base_uri": "https://localhost:8080/",
          "height": 158
        },
        "id": "rh-UhciOJ7xT",
        "outputId": "983afba1-af5c-413e-fd0d-1bd9572120bf"
      },
      "execution_count": 35,
      "outputs": [
        {
          "output_type": "error",
          "ename": "TypeError",
          "evalue": "can only concatenate str (not \"int\") to str",
          "traceback": [
            "\u001b[0;31m---------------------------------------------------------------------------\u001b[0m",
            "\u001b[0;31mTypeError\u001b[0m                                 Traceback (most recent call last)",
            "\u001b[0;32m<ipython-input-35-50e35f0686b8>\u001b[0m in \u001b[0;36m<cell line: 0>\u001b[0;34m()\u001b[0m\n\u001b[1;32m      1\u001b[0m \u001b[0;31m#Rule: 2\u001b[0m\u001b[0;34m\u001b[0m\u001b[0;34m\u001b[0m\u001b[0m\n\u001b[0;32m----> 2\u001b[0;31m \u001b[0mprint\u001b[0m\u001b[0;34m(\u001b[0m\u001b[0;34m\"ram \"\u001b[0m\u001b[0;34m+\u001b[0m\u001b[0;36m23\u001b[0m\u001b[0;34m)\u001b[0m\u001b[0;34m\u001b[0m\u001b[0;34m\u001b[0m\u001b[0m\n\u001b[0m",
            "\u001b[0;31mTypeError\u001b[0m: can only concatenate str (not \"int\") to str"
          ]
        }
      ]
    },
    {
      "cell_type": "code",
      "source": [
        "#Rule: 3\n",
        "f=29\n",
        "\n",
        "print(\"My name is john and my age is %d\"%(f))"
      ],
      "metadata": {
        "colab": {
          "base_uri": "https://localhost:8080/"
        },
        "id": "GMpqgEUbKYiK",
        "outputId": "aa9ca86c-827b-44a7-b22c-7b6a6456bf03"
      },
      "execution_count": 38,
      "outputs": [
        {
          "output_type": "stream",
          "name": "stdout",
          "text": [
            "My name is john and my age is 29\n"
          ]
        }
      ]
    },
    {
      "cell_type": "code",
      "source": [
        "#Rule: 3\n",
        "a='Peter'\n",
        "\n",
        "print(\"My name is %s and my age is 25\"%(a))"
      ],
      "metadata": {
        "colab": {
          "base_uri": "https://localhost:8080/"
        },
        "id": "2c8yj-UHLPJz",
        "outputId": "c9d119c8-7f04-4d05-806c-bcbbfe1b4511"
      },
      "execution_count": 40,
      "outputs": [
        {
          "output_type": "stream",
          "name": "stdout",
          "text": [
            "My name is Peter and my age is 25\n"
          ]
        }
      ]
    },
    {
      "cell_type": "code",
      "source": [
        "#Rule: 3\n",
        "b=20.2\n",
        "\n",
        "print(\"My name is john and this product price is %f\"%(b))"
      ],
      "metadata": {
        "colab": {
          "base_uri": "https://localhost:8080/"
        },
        "id": "EpK9bzQZLeVZ",
        "outputId": "a15baa2b-7a3f-4707-bc3b-0dd636714932"
      },
      "execution_count": 41,
      "outputs": [
        {
          "output_type": "stream",
          "name": "stdout",
          "text": [
            "My name is john and this product price is 20.200000\n"
          ]
        }
      ]
    },
    {
      "cell_type": "code",
      "source": [],
      "metadata": {
        "id": "RcKbrwdxLvA-"
      },
      "execution_count": null,
      "outputs": []
    }
  ]
}