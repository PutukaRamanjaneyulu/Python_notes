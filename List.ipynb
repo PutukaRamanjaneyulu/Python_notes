{
  "nbformat": 4,
  "nbformat_minor": 0,
  "metadata": {
    "colab": {
      "provenance": []
    },
    "kernelspec": {
      "name": "python3",
      "display_name": "Python 3"
    },
    "language_info": {
      "name": "python"
    }
  },
  "cells": [
    {
      "cell_type": "markdown",
      "source": [
        "**Python_list**\n",
        "\n",
        "\n",
        "---\n",
        "\n",
        "- `The list is to be represent with the sqaure Brackets --> []`\n",
        "- `We can write anything in the list`"
      ],
      "metadata": {
        "id": "xXnsvg8rkGE-"
      }
    },
    {
      "cell_type": "code",
      "source": [
        "#The list is mutable we can't increase and decrase the memory once we create and we can use the built_in_functions to increase or decrease the memory\n",
        "# we can't increase the memory\n",
        "a=[12,15.5,'data',False]\n",
        "a[4]=100\n",
        "print(a)"
      ],
      "metadata": {
        "colab": {
          "base_uri": "https://localhost:8080/",
          "height": 193
        },
        "id": "enqNReo8koR0",
        "outputId": "8ba5cf0e-88f5-42d6-a58d-c2bb86a90b05"
      },
      "execution_count": 2,
      "outputs": [
        {
          "output_type": "error",
          "ename": "IndexError",
          "evalue": "list assignment index out of range",
          "traceback": [
            "\u001b[0;31m---------------------------------------------------------------------------\u001b[0m",
            "\u001b[0;31mIndexError\u001b[0m                                Traceback (most recent call last)",
            "\u001b[0;32m<ipython-input-2-b28573d30ab9>\u001b[0m in \u001b[0;36m<cell line: 0>\u001b[0;34m()\u001b[0m\n\u001b[1;32m      1\u001b[0m \u001b[0;31m#The list is immutable we can't increase and decrase the memory once we create\u001b[0m\u001b[0;34m\u001b[0m\u001b[0;34m\u001b[0m\u001b[0m\n\u001b[1;32m      2\u001b[0m \u001b[0ma\u001b[0m\u001b[0;34m=\u001b[0m\u001b[0;34m[\u001b[0m\u001b[0;36m12\u001b[0m\u001b[0;34m,\u001b[0m\u001b[0;36m15.5\u001b[0m\u001b[0;34m,\u001b[0m\u001b[0;34m'data'\u001b[0m\u001b[0;34m,\u001b[0m\u001b[0;32mFalse\u001b[0m\u001b[0;34m]\u001b[0m\u001b[0;34m\u001b[0m\u001b[0;34m\u001b[0m\u001b[0m\n\u001b[0;32m----> 3\u001b[0;31m \u001b[0ma\u001b[0m\u001b[0;34m[\u001b[0m\u001b[0;36m4\u001b[0m\u001b[0;34m]\u001b[0m\u001b[0;34m=\u001b[0m\u001b[0;36m100\u001b[0m\u001b[0;34m\u001b[0m\u001b[0;34m\u001b[0m\u001b[0m\n\u001b[0m\u001b[1;32m      4\u001b[0m \u001b[0mprint\u001b[0m\u001b[0;34m(\u001b[0m\u001b[0ma\u001b[0m\u001b[0;34m)\u001b[0m\u001b[0;34m\u001b[0m\u001b[0;34m\u001b[0m\u001b[0m\n",
            "\u001b[0;31mIndexError\u001b[0m: list assignment index out of range"
          ]
        }
      ]
    },
    {
      "cell_type": "code",
      "source": [
        "# we can't decrease the memory\n",
        "a = [12,15.5,'data',False]\n",
        "del a\n",
        "print(a)"
      ],
      "metadata": {
        "colab": {
          "base_uri": "https://localhost:8080/",
          "height": 176
        },
        "id": "1dZqiObnlKM0",
        "outputId": "90e056dd-3d4e-4967-bb0f-6b1f51c806bc"
      },
      "execution_count": 5,
      "outputs": [
        {
          "output_type": "error",
          "ename": "NameError",
          "evalue": "name 'a' is not defined",
          "traceback": [
            "\u001b[0;31m---------------------------------------------------------------------------\u001b[0m",
            "\u001b[0;31mNameError\u001b[0m                                 Traceback (most recent call last)",
            "\u001b[0;32m<ipython-input-5-452c4b626d8e>\u001b[0m in \u001b[0;36m<cell line: 0>\u001b[0;34m()\u001b[0m\n\u001b[1;32m      2\u001b[0m \u001b[0ma\u001b[0m \u001b[0;34m=\u001b[0m \u001b[0;34m[\u001b[0m\u001b[0;36m12\u001b[0m\u001b[0;34m,\u001b[0m\u001b[0;36m15.5\u001b[0m\u001b[0;34m,\u001b[0m\u001b[0;34m'data'\u001b[0m\u001b[0;34m,\u001b[0m\u001b[0;32mFalse\u001b[0m\u001b[0;34m]\u001b[0m\u001b[0;34m\u001b[0m\u001b[0;34m\u001b[0m\u001b[0m\n\u001b[1;32m      3\u001b[0m \u001b[0;32mdel\u001b[0m \u001b[0ma\u001b[0m\u001b[0;34m\u001b[0m\u001b[0;34m\u001b[0m\u001b[0m\n\u001b[0;32m----> 4\u001b[0;31m \u001b[0mprint\u001b[0m\u001b[0;34m(\u001b[0m\u001b[0ma\u001b[0m\u001b[0;34m)\u001b[0m\u001b[0;34m\u001b[0m\u001b[0;34m\u001b[0m\u001b[0m\n\u001b[0m",
            "\u001b[0;31mNameError\u001b[0m: name 'a' is not defined"
          ]
        }
      ]
    },
    {
      "cell_type": "markdown",
      "source": [
        "**Built_in_functions in list**\n",
        "### Increase the memory\n",
        "- `append`\n",
        "- `Extend`\n",
        "- `insert`\n",
        "\n",
        "### Decrease the memory\n",
        "- `pop`\n",
        "- `remove`\n",
        "\n",
        "### Do some specific functions\n",
        "- `copy`\n",
        "- `Clear`\n",
        "- `count`\n",
        "- `index`\n",
        "- `sort`\n",
        "- `reverse`"
      ],
      "metadata": {
        "id": "kMU3Speclohw"
      }
    },
    {
      "cell_type": "markdown",
      "source": [
        "**Increseing functions**"
      ],
      "metadata": {
        "id": "s3eZemoOovPZ"
      }
    },
    {
      "cell_type": "code",
      "source": [
        "# Append : The append function will be add the value and only one value will be add at the end\n",
        "a=[20,30.2,'scince',True]\n",
        "a.append(80)\n",
        "print(a)"
      ],
      "metadata": {
        "colab": {
          "base_uri": "https://localhost:8080/"
        },
        "id": "CT1lcEOolasC",
        "outputId": "119ca685-d444-42f1-bf8f-738dccd3c2e5"
      },
      "execution_count": 19,
      "outputs": [
        {
          "output_type": "stream",
          "name": "stdout",
          "text": [
            "[20, 30.2, 'scince', True, 80]\n"
          ]
        }
      ]
    },
    {
      "cell_type": "code",
      "source": [
        "# Append : The append function will be add the value and only one value will be add at the end\n",
        "a=[20,30.2,'scince',True]\n",
        "a.append(80,30)\n",
        "print(a)"
      ],
      "metadata": {
        "colab": {
          "base_uri": "https://localhost:8080/",
          "height": 193
        },
        "id": "IHh17pEPodkU",
        "outputId": "be628f0a-6346-4472-9719-92eda808192a"
      },
      "execution_count": 21,
      "outputs": [
        {
          "output_type": "error",
          "ename": "TypeError",
          "evalue": "list.append() takes exactly one argument (2 given)",
          "traceback": [
            "\u001b[0;31m---------------------------------------------------------------------------\u001b[0m",
            "\u001b[0;31mTypeError\u001b[0m                                 Traceback (most recent call last)",
            "\u001b[0;32m<ipython-input-21-0bc6765d762f>\u001b[0m in \u001b[0;36m<cell line: 0>\u001b[0;34m()\u001b[0m\n\u001b[1;32m      1\u001b[0m \u001b[0;31m# Append : The append function will be add the value and only one value will be add at the end\u001b[0m\u001b[0;34m\u001b[0m\u001b[0;34m\u001b[0m\u001b[0m\n\u001b[1;32m      2\u001b[0m \u001b[0ma\u001b[0m\u001b[0;34m=\u001b[0m\u001b[0;34m[\u001b[0m\u001b[0;36m20\u001b[0m\u001b[0;34m,\u001b[0m\u001b[0;36m30.2\u001b[0m\u001b[0;34m,\u001b[0m\u001b[0;34m'scince'\u001b[0m\u001b[0;34m,\u001b[0m\u001b[0;32mTrue\u001b[0m\u001b[0;34m]\u001b[0m\u001b[0;34m\u001b[0m\u001b[0;34m\u001b[0m\u001b[0m\n\u001b[0;32m----> 3\u001b[0;31m \u001b[0ma\u001b[0m\u001b[0;34m.\u001b[0m\u001b[0mappend\u001b[0m\u001b[0;34m(\u001b[0m\u001b[0;36m80\u001b[0m\u001b[0;34m,\u001b[0m\u001b[0;36m30\u001b[0m\u001b[0;34m)\u001b[0m\u001b[0;34m\u001b[0m\u001b[0;34m\u001b[0m\u001b[0m\n\u001b[0m\u001b[1;32m      4\u001b[0m \u001b[0mprint\u001b[0m\u001b[0;34m(\u001b[0m\u001b[0ma\u001b[0m\u001b[0;34m)\u001b[0m\u001b[0;34m\u001b[0m\u001b[0;34m\u001b[0m\u001b[0m\n",
            "\u001b[0;31mTypeError\u001b[0m: list.append() takes exactly one argument (2 given)"
          ]
        }
      ]
    },
    {
      "cell_type": "code",
      "source": [
        "# Extend : The Extend function will be add the values at the end\n",
        "a=[20,30.2,'scince',True]\n",
        "a.extend([80,'data'])\n",
        "print(a)"
      ],
      "metadata": {
        "colab": {
          "base_uri": "https://localhost:8080/"
        },
        "id": "9nBB5V9pnEPA",
        "outputId": "da2993ee-bbff-43ae-fea4-746ad770010b"
      },
      "execution_count": 11,
      "outputs": [
        {
          "output_type": "stream",
          "name": "stdout",
          "text": [
            "[20, 30.2, 'scince', True, 80, 'data']\n"
          ]
        }
      ]
    },
    {
      "cell_type": "code",
      "source": [
        "# insert : The insert function will be add the value at the where we can mention value are add\n",
        "a=[20,30.2,'scince',True]\n",
        "a.insert(3,100) #(index_value,value_adding)\n",
        "print(a)"
      ],
      "metadata": {
        "colab": {
          "base_uri": "https://localhost:8080/"
        },
        "id": "Y0LTByDJnZ-5",
        "outputId": "366dc51b-271b-4171-8ed7-6fdcf4b027f5"
      },
      "execution_count": 18,
      "outputs": [
        {
          "output_type": "stream",
          "name": "stdout",
          "text": [
            "[20, 30.2, 'scince', 100, True]\n"
          ]
        }
      ]
    },
    {
      "cell_type": "markdown",
      "source": [
        "**Decreasing functions**"
      ],
      "metadata": {
        "id": "l6l2EYr6o2SD"
      }
    },
    {
      "cell_type": "code",
      "source": [
        "#pop : The pop function will be remove the last value\n",
        "a=[10,20,30,40,50,60]\n",
        "print(\"The before pop function :\",a)\n",
        "a.pop()\n",
        "print(\"The after pop function :\",a)"
      ],
      "metadata": {
        "colab": {
          "base_uri": "https://localhost:8080/"
        },
        "id": "zjp4WLq2n_Z7",
        "outputId": "5ed577fe-6daf-4221-e4e7-8323fab3a755"
      },
      "execution_count": 23,
      "outputs": [
        {
          "output_type": "stream",
          "name": "stdout",
          "text": [
            "The before pop function  [10, 20, 30, 40, 50, 60]\n",
            "The after pop function  [10, 20, 30, 40, 50]\n"
          ]
        }
      ]
    },
    {
      "cell_type": "code",
      "source": [
        "#remove : The remove function give values will  be remove\n",
        "a=[10,20,30,40,50,60]\n",
        "print(\"The before pop function :\",a)\n",
        "a.remove(40)\n",
        "print(\"The after pop function :\",a)"
      ],
      "metadata": {
        "colab": {
          "base_uri": "https://localhost:8080/"
        },
        "id": "NCWZfjvupSS_",
        "outputId": "ffceb6f1-0159-4883-8540-081c393157fb"
      },
      "execution_count": 24,
      "outputs": [
        {
          "output_type": "stream",
          "name": "stdout",
          "text": [
            "The before pop function : [10, 20, 30, 40, 50, 60]\n",
            "The after pop function : [10, 20, 30, 50, 60]\n"
          ]
        }
      ]
    },
    {
      "cell_type": "markdown",
      "source": [
        "**Specific functions**"
      ],
      "metadata": {
        "id": "W1vFMOjTqI-h"
      }
    },
    {
      "cell_type": "code",
      "source": [
        "#count : The count function will be count the  value how many times in the existing memory\n",
        "a=[10,20,30,40,50,10,10,60]\n",
        "b=a.count(10)\n",
        "print(\"The conut function :\",b)"
      ],
      "metadata": {
        "colab": {
          "base_uri": "https://localhost:8080/"
        },
        "id": "uKoFaHRkqGI_",
        "outputId": "9acd7cbd-9725-4048-e841-ab3e677e4a2a"
      },
      "execution_count": 26,
      "outputs": [
        {
          "output_type": "stream",
          "name": "stdout",
          "text": [
            "The conut function : 3\n"
          ]
        }
      ]
    },
    {
      "cell_type": "code",
      "source": [
        "#Index : The index function will be give the index value of the existing memory\n",
        "a=[10,20,30,40,50,10,10,60]\n",
        "b=a.index(50)\n",
        "print(\"The index function :\",b)"
      ],
      "metadata": {
        "colab": {
          "base_uri": "https://localhost:8080/"
        },
        "id": "Pd56aPDtqh9u",
        "outputId": "c358b363-1634-4cb2-dfba-d0613834e686"
      },
      "execution_count": 27,
      "outputs": [
        {
          "output_type": "stream",
          "name": "stdout",
          "text": [
            "The index function : 4\n"
          ]
        }
      ]
    },
    {
      "cell_type": "code",
      "source": [
        "#sort : The sort function will be sort the values ascending order\n",
        "a=[100,250,330,40,50,110,10,160]\n",
        "a.sort()\n",
        "print(\"The sort function :\",a)"
      ],
      "metadata": {
        "colab": {
          "base_uri": "https://localhost:8080/"
        },
        "id": "PMBXU3d0q5jh",
        "outputId": "a67a537b-e850-45f7-9450-ee4ad7fa5287"
      },
      "execution_count": 29,
      "outputs": [
        {
          "output_type": "stream",
          "name": "stdout",
          "text": [
            "The sort function : [10, 40, 50, 100, 110, 160, 250, 330]\n"
          ]
        }
      ]
    },
    {
      "cell_type": "code",
      "source": [
        "#sort : The sort function will be sort the values ascending order & we have reverse the means decending order of the list\n",
        "a=[100,250,330,40,50,110,10,160]\n",
        "a.sort(reverse=True)\n",
        "print(\"The sort function :\",a)"
      ],
      "metadata": {
        "colab": {
          "base_uri": "https://localhost:8080/"
        },
        "id": "pJDy_QgErO2J",
        "outputId": "58fc3f7b-1b00-47a3-ff89-4ceb8f6c2f4b"
      },
      "execution_count": 30,
      "outputs": [
        {
          "output_type": "stream",
          "name": "stdout",
          "text": [
            "The sort function : [330, 250, 160, 110, 100, 50, 40, 10]\n"
          ]
        }
      ]
    },
    {
      "cell_type": "code",
      "source": [
        "#reverse : The reverse function will be reverse  the values of existing values\n",
        "a=[10,20,30,40,50,60]\n",
        "a.reverse()\n",
        "print(\"The reverse function :\",a)\n",
        "b=a[::-1]\n",
        "print(\"The reverse function in second method :\",b)\n"
      ],
      "metadata": {
        "colab": {
          "base_uri": "https://localhost:8080/"
        },
        "id": "mxjrsgnIsGSS",
        "outputId": "7329d869-6cbe-434f-f101-635171aa3584"
      },
      "execution_count": 32,
      "outputs": [
        {
          "output_type": "stream",
          "name": "stdout",
          "text": [
            "The reverse function : [60, 50, 40, 30, 20, 10]\n",
            "The reverse function in second method : [10, 20, 30, 40, 50, 60]\n"
          ]
        }
      ]
    },
    {
      "cell_type": "code",
      "source": [
        "#clear : The clear function will be clear the values but not delete the variable\n",
        "a=[10,20,30,40,50,60]\n",
        "print(\"The before clear function :\",a)\n",
        "a.clear()\n",
        "print(\"The after clear function :\",a)"
      ],
      "metadata": {
        "colab": {
          "base_uri": "https://localhost:8080/"
        },
        "id": "Cw_WVXygsao5",
        "outputId": "000c1ef1-1f76-4e4e-e4c4-600dfa220785"
      },
      "execution_count": 33,
      "outputs": [
        {
          "output_type": "stream",
          "name": "stdout",
          "text": [
            "The before clear function : [10, 20, 30, 40, 50, 60]\n",
            "The after clear function : []\n"
          ]
        }
      ]
    },
    {
      "cell_type": "code",
      "source": [
        "#Copy : The Copy function will be Copy the values  to be another variable\n",
        "a=[10,20,30,40,50,60]\n",
        "\n",
        "b=a.copy()\n",
        "print(\"The after Copy function :\",b)"
      ],
      "metadata": {
        "colab": {
          "base_uri": "https://localhost:8080/"
        },
        "id": "fZeJC8T0tBip",
        "outputId": "73777cf4-88f8-4f5e-b36b-c5c05143ba97"
      },
      "execution_count": 35,
      "outputs": [
        {
          "output_type": "stream",
          "name": "stdout",
          "text": [
            "The after Copy function : [10, 20, 30, 40, 50, 60]\n"
          ]
        }
      ]
    },
    {
      "cell_type": "code",
      "source": [],
      "metadata": {
        "id": "1dutgnRmtnmy"
      },
      "execution_count": null,
      "outputs": []
    }
  ]
}