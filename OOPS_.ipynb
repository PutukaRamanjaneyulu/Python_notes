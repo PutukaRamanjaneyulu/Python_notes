{
  "nbformat": 4,
  "nbformat_minor": 0,
  "metadata": {
    "colab": {
      "provenance": []
    },
    "kernelspec": {
      "name": "python3",
      "display_name": "Python 3"
    },
    "language_info": {
      "name": "python"
    }
  },
  "cells": [
    {
      "cell_type": "markdown",
      "source": [
        "**OOPS -> Object Oriented Programming System**\n",
        "- Class\n",
        "- Object\n",
        "- Self\n",
        "- Functions in Class\n",
        "-Inheritance\n",
        "- Polymorphisam\n",
        "- Encopsulation"
      ],
      "metadata": {
        "id": "y2-zi_2vT9gf"
      }
    },
    {
      "cell_type": "markdown",
      "source": [
        "**Class :**\n",
        "- Class name should Capital words only\n",
        "- Class is nothing but Collection of Variables and Functions\n",
        "- **Single Class is Contain the Single Object**\n"
      ],
      "metadata": {
        "id": "OrysK4OZU7iy"
      }
    },
    {
      "cell_type": "code",
      "execution_count": null,
      "metadata": {
        "colab": {
          "base_uri": "https://localhost:8080/"
        },
        "id": "AmIiPKdMT8jR",
        "outputId": "300f1497-3820-4cf9-b3b3-4ead415ffc7b"
      },
      "outputs": [
        {
          "output_type": "stream",
          "name": "stdout",
          "text": [
            "10\n"
          ]
        }
      ],
      "source": [
        "class CSE:   #Class\n",
        "  s=10       #It's like a Student\n",
        "anil=CSE()   # Instace Of a Class\n",
        "print(anil.s)\n"
      ]
    },
    {
      "cell_type": "code",
      "source": [
        "class ECE:\n",
        "  a=10\n",
        "  b=2\n",
        "\n",
        "kumar=ECE()\n",
        "print(kumar.a * kumar.b)"
      ],
      "metadata": {
        "colab": {
          "base_uri": "https://localhost:8080/"
        },
        "id": "ETCPef4dWEqZ",
        "outputId": "4568b2f2-581b-4773-aee4-4ad16982de1c"
      },
      "execution_count": null,
      "outputs": [
        {
          "output_type": "stream",
          "name": "stdout",
          "text": [
            "20\n"
          ]
        }
      ]
    },
    {
      "cell_type": "code",
      "source": [
        "class MECH:\n",
        "  j=100\n",
        "  k=200\n",
        "# If there is no object for class use class name only\n",
        "\n",
        "print(MECH.j+MECH.k)"
      ],
      "metadata": {
        "colab": {
          "base_uri": "https://localhost:8080/"
        },
        "id": "z-0QZk2EWf-P",
        "outputId": "0464c259-6185-4394-ae4c-a0cf1dd898a6"
      },
      "execution_count": null,
      "outputs": [
        {
          "output_type": "stream",
          "name": "stdout",
          "text": [
            "300\n"
          ]
        }
      ]
    },
    {
      "cell_type": "code",
      "source": [
        "#method 1\n",
        "# If the class is empty class object is to be create the data in class and the data\n",
        "class CSE:\n",
        "  pass\n",
        "kumar=CSE()\n",
        "kumar.priya=10\n",
        "kumar.liala=20\n",
        "\n",
        "print(kumar.priya*kumar.liala)"
      ],
      "metadata": {
        "colab": {
          "base_uri": "https://localhost:8080/"
        },
        "id": "32an63V4XKpD",
        "outputId": "e312198d-8f84-4924-db29-3e5e7030ab66"
      },
      "execution_count": null,
      "outputs": [
        {
          "output_type": "stream",
          "name": "stdout",
          "text": [
            "200\n"
          ]
        }
      ]
    },
    {
      "cell_type": "code",
      "source": [
        "# method 2\n",
        "#Class name is also having right to create variable in class itself\n",
        "class SEC:\n",
        "  pass\n",
        "SEC.priya=10\n",
        "SEC.laila=20\n",
        "print(SEC.priya+SEC.laila)\n"
      ],
      "metadata": {
        "colab": {
          "base_uri": "https://localhost:8080/"
        },
        "id": "MWH3PyaUbZ6H",
        "outputId": "66f5e127-2eef-4314-a467-82d35c06d0dc"
      },
      "execution_count": null,
      "outputs": [
        {
          "output_type": "stream",
          "name": "stdout",
          "text": [
            "30\n"
          ]
        }
      ]
    },
    {
      "cell_type": "markdown",
      "source": [
        "**Advance Level Reausability of the OOPS**\n",
        "**Constractor :**\n",
        "- Constractor is just like class name only\n",
        "- There are 2 types of Constractor :\n",
        "   - 1. Non Parameter Constactor\n",
        "   - 2. Parameter Constactor\n",
        "  - `__init__  these means Constractor`"
      ],
      "metadata": {
        "id": "x7QRk-O4dSei"
      }
    },
    {
      "cell_type": "code",
      "source": [
        "# Non parameter Constarctor\n",
        "class CSE:\n",
        "  def __init__(self) -> None:\n",
        "    print(\"Good Morning\")\n",
        "\n",
        "\n",
        "kumar=CSE() #Constarctor Called"
      ],
      "metadata": {
        "colab": {
          "base_uri": "https://localhost:8080/"
        },
        "id": "8fkUoDUob6pO",
        "outputId": "153a8e96-592e-443e-8650-670a2082b02e"
      },
      "execution_count": null,
      "outputs": [
        {
          "output_type": "stream",
          "name": "stdout",
          "text": [
            "Good Morning\n"
          ]
        }
      ]
    },
    {
      "cell_type": "markdown",
      "source": [
        "**Self -> means Object copy or Object Preference**\n",
        "- `Self is just a variable which holds Object copy`"
      ],
      "metadata": {
        "id": "KgmX_nIJeyoL"
      }
    },
    {
      "cell_type": "code",
      "source": [
        "#Paraneter Constractor\n",
        "class CSE:\n",
        "  def __init__(self,a,b):\n",
        "    self.a=a\n",
        "    self.b=b\n",
        "\n",
        "\n",
        "kimar=CSE(10,20)   #Constractor Called\n",
        "print(kimar.a+kimar.b)"
      ],
      "metadata": {
        "colab": {
          "base_uri": "https://localhost:8080/"
        },
        "id": "zbSsB292eiks",
        "outputId": "955db44f-5bd9-4db7-b522-a9c6eb418380"
      },
      "execution_count": null,
      "outputs": [
        {
          "output_type": "stream",
          "name": "stdout",
          "text": [
            "30\n"
          ]
        }
      ]
    },
    {
      "cell_type": "code",
      "source": [
        "from ast import Raise\n",
        "class NAME:\n",
        "\n",
        "  def addition(self):\n",
        "    p=50\n",
        "    g=80\n",
        "    print(p+g)\n",
        "  def subtraction(self):\n",
        "    p=50\n",
        "    g=80\n",
        "    print(p-g)\n",
        "\n",
        "ram=NAME()\n",
        "ram.addition()\n",
        "ram.subtraction()"
      ],
      "metadata": {
        "colab": {
          "base_uri": "https://localhost:8080/"
        },
        "id": "YfIDRzR1h3hW",
        "outputId": "37203ac1-03ce-483e-d2f6-e6029138c600"
      },
      "execution_count": null,
      "outputs": [
        {
          "output_type": "stream",
          "name": "stdout",
          "text": [
            "130\n",
            "-30\n"
          ]
        }
      ]
    },
    {
      "cell_type": "code",
      "source": [
        "\n",
        "class COL:\n",
        "  def __init__(self,p,g):\n",
        "    self.p=p\n",
        "    self.g=g\n",
        "  def addition(self):\n",
        "    print(self.p+self.g)\n",
        "  def Substraction(self):\n",
        "    print(self.p-self.g)\n",
        "  def comman(self):\n",
        "    self.addition()\n",
        "    self.Substraction()\n",
        "\n",
        "kumar=COL(50,80)\n",
        "kumar.comman()"
      ],
      "metadata": {
        "colab": {
          "base_uri": "https://localhost:8080/"
        },
        "id": "gQomApUtfsGS",
        "outputId": "fbc76792-fc51-4000-af8f-410e2f704488"
      },
      "execution_count": null,
      "outputs": [
        {
          "output_type": "stream",
          "name": "stdout",
          "text": [
            "130\n",
            "-30\n"
          ]
        }
      ]
    },
    {
      "cell_type": "code",
      "source": [
        "# Perfect number using the OOPS\n",
        "class PER:\n",
        "  def __init__(self,n) -> None:\n",
        "    self.n=n\n",
        "  def Col(self):\n",
        "    self.c=0\n",
        "    for i in range(1,self.n):\n",
        "      if self.n%i == 0:\n",
        "        self.c=self.c+i\n",
        "    if self.c== self.n:\n",
        "      print(f'perfect Number : {self.n}')\n",
        "    else:\n",
        "      print(f'Not a perfect Number : {self.n}')\n",
        "\n",
        "kumar=PER(8)\n",
        "kumar.Col()"
      ],
      "metadata": {
        "colab": {
          "base_uri": "https://localhost:8080/"
        },
        "id": "ZODBXV7eg80k",
        "outputId": "0bf5c1ba-4a45-4685-81f6-2a40101f851e"
      },
      "execution_count": null,
      "outputs": [
        {
          "output_type": "stream",
          "name": "stdout",
          "text": [
            "Not a perfect Number : 8\n"
          ]
        }
      ]
    },
    {
      "cell_type": "markdown",
      "source": [
        "**Inheritance :**\n",
        "- `Inheritance works with Parent and Child Concept and they are 5 types of inheritance`\n",
        "\n",
        "\n",
        "1.   Single Inheritance\n",
        "2.   Multi-level Inheritance\n",
        "3.   Multiple Inheritance\n",
        "4.   Hirarcial Inheritance\n",
        "5.   Hybrid Inheritance\n",
        "\n"
      ],
      "metadata": {
        "id": "CeI9WQKtncGK"
      }
    },
    {
      "cell_type": "code",
      "source": [
        "# 1. Single Inheritance\n",
        "class PARENT:\n",
        "  def building(self):\n",
        "    print(\"I have Building\")\n",
        "class CHILD(PARENT):\n",
        "  def job(self):\n",
        "    print(\"I have a job\")\n",
        "kumar=PARENT()\n",
        "anil=CHILD()\n",
        "kumar.building()\n",
        "anil.job()\n",
        "anil.building()"
      ],
      "metadata": {
        "colab": {
          "base_uri": "https://localhost:8080/"
        },
        "id": "CHzf1HfNnKrb",
        "outputId": "6db7cb83-b485-4f6b-9d7a-c2a979a52092"
      },
      "execution_count": 5,
      "outputs": [
        {
          "output_type": "stream",
          "name": "stdout",
          "text": [
            "I have Building\n",
            "I have a job\n",
            "I have Building\n"
          ]
        }
      ]
    },
    {
      "cell_type": "code",
      "source": [
        "#2.Multi-level Inheritance\n",
        "class FATHER:\n",
        "  def building(self):\n",
        "    print(\"I have a Building\")\n",
        "class CHILD(FATHER):\n",
        "  def job(self):\n",
        "    print(\"I have a job\")\n",
        "class Child2(FATHER):\n",
        "  def Business(self):\n",
        "    print(\"I have the Buisness\")\n",
        "kumar=FATHER()\n",
        "anil=CHILD()\n",
        "chandu=Child2()\n",
        "anil.job()\n",
        "anil.building()\n",
        "chandu.Business()\n",
        "chandu.building()"
      ],
      "metadata": {
        "colab": {
          "base_uri": "https://localhost:8080/"
        },
        "id": "Oxv8b6XYwk61",
        "outputId": "11fb4e72-0e0a-498a-c0e1-319ce4fd3b16"
      },
      "execution_count": 7,
      "outputs": [
        {
          "output_type": "stream",
          "name": "stdout",
          "text": [
            "I have a job\n",
            "I have a Building\n",
            "I have the Buisness\n",
            "I have a Building\n"
          ]
        }
      ]
    },
    {
      "cell_type": "code",
      "source": [
        "# 3.Multiple Inheritance\n",
        "class FATHER:\n",
        "  def building(self):\n",
        "    print(\"I have Building\")\n",
        "\n",
        "class MOTHER:\n",
        "  def hari(self):\n",
        "    print(\"I have a house\")\n",
        "class CHILD(FATHER,MOTHER):\n",
        "  def job(self):\n",
        "    print(\"I have a job\")\n",
        "kumar=FATHER()\n",
        "anju=MOTHER()\n",
        "son=CHILD()\n",
        "son.job()\n",
        "son.hari()\n",
        "son.building()"
      ],
      "metadata": {
        "colab": {
          "base_uri": "https://localhost:8080/"
        },
        "id": "NyOyODoUrI6Z",
        "outputId": "dddeb5b6-4cd4-4e03-9f72-006b99bef18b"
      },
      "execution_count": 6,
      "outputs": [
        {
          "output_type": "stream",
          "name": "stdout",
          "text": [
            "I have a job\n",
            "I have a house\n",
            "I have Building\n"
          ]
        }
      ]
    },
    {
      "cell_type": "code",
      "source": [
        "# 4.Hirarical Inheritance\n",
        "class FATHER:\n",
        "  def building(self):\n",
        "    print(\"I have a Building\")\n",
        "class CHILD(FATHER):\n",
        "  def job(self):\n",
        "    print(\"I have a job\")\n",
        "class Child2(FATHER):\n",
        "  def Business(self):\n",
        "    print(\"I have the Buisness\")\n",
        "class Child3(FATHER):\n",
        "  def company(self):\n",
        "    print(\"I have the comapany\")\n",
        "kumar=FATHER()\n",
        "anil=CHILD()\n",
        "chandu=Child2()\n",
        "prasad=Child3()\n",
        "anil.job()\n",
        "anil.building()\n",
        "chandu.Business()\n",
        "chandu.building()\n",
        "prasad.company()\n",
        "prasad.building()"
      ],
      "metadata": {
        "colab": {
          "base_uri": "https://localhost:8080/"
        },
        "id": "r3k1Pr9EvQcQ",
        "outputId": "4b2eda4c-8f61-4a87-c038-41633598443f"
      },
      "execution_count": 8,
      "outputs": [
        {
          "output_type": "stream",
          "name": "stdout",
          "text": [
            "I have a job\n",
            "I have a Building\n",
            "I have the Buisness\n",
            "I have a Building\n",
            "I have the comapany\n",
            "I have a Building\n"
          ]
        }
      ]
    },
    {
      "cell_type": "code",
      "source": [
        "# 5 Hybrid Inheritance\n",
        "class Grandparent:\n",
        "  def building(self):\n",
        "    print(\"I have a Building\")\n",
        "class FATHER(Grandparent):\n",
        "  def job(self):\n",
        "    print(\"I have a job\")\n",
        "class MOTHER(Grandparent):\n",
        "  def Business(self):\n",
        "    print(\"I have the Buisness\")\n",
        "class Child1(FATHER,MOTHER):\n",
        "  def company(self):\n",
        "    print(\"I have the comapany\")\n",
        "kumar=Grandparent()\n",
        "father=FATHER()\n",
        "mother=MOTHER()\n",
        "son=Child1()\n",
        "son.company()\n",
        "son.job()\n",
        "son.Business()"
      ],
      "metadata": {
        "colab": {
          "base_uri": "https://localhost:8080/"
        },
        "id": "R2Z7DpahynTe",
        "outputId": "21eb9fcb-9dc6-48c4-d625-9131a10f4c64"
      },
      "execution_count": 12,
      "outputs": [
        {
          "output_type": "stream",
          "name": "stdout",
          "text": [
            "I have the comapany\n",
            "I have a job\n",
            "I have the Buisness\n"
          ]
        }
      ]
    },
    {
      "cell_type": "markdown",
      "source": [
        "**Ploymarphism :**\n",
        "- `This word derived from the Greak Language`\n",
        "- `poly-> many & marphism -> Forms`\n",
        "* There are 2 types in polymarphism :\n",
        "\n",
        "   ` 1.  Method[Function] overloading`\n",
        "   ` 2.  Method[Function] Overriding`"
      ],
      "metadata": {
        "id": "vAmVoh_4zeoL"
      }
    },
    {
      "cell_type": "markdown",
      "source": [
        "**Method Overriding :**\n",
        "- `Method overriding is only possible with parent and child class`\n",
        "- `One parent class and one child class only in the code it will be worked`"
      ],
      "metadata": {
        "id": "sDl1HNNd0aId"
      }
    },
    {
      "cell_type": "code",
      "source": [
        "def func():\n",
        "  print(\"Good Morning\")\n",
        "def func():\n",
        "  print(\"Good AfterNoon\")\n",
        "func() #called the Function"
      ],
      "metadata": {
        "colab": {
          "base_uri": "https://localhost:8080/"
        },
        "id": "P6I8z0CAzNIG",
        "outputId": "650459f0-fbf0-48fe-ea2b-dc45e1ea4f4e"
      },
      "execution_count": 13,
      "outputs": [
        {
          "output_type": "stream",
          "name": "stdout",
          "text": [
            "Good AfterNoon\n"
          ]
        }
      ]
    },
    {
      "cell_type": "markdown",
      "source": [
        "**Method Overloading :**\n",
        "- `Method Overloading is to be spped reduce the Code`"
      ],
      "metadata": {
        "id": "gTGHqYjJ1LJf"
      }
    },
    {
      "cell_type": "code",
      "source": [
        "def func(a=None,b=None):\n",
        "  if a==None and b==None:\n",
        "    print(\"I am From India\")\n",
        "  elif a==None and b!=None:\n",
        "    print(\"I From Usa\")\n",
        "  elif a!= None and b!=None:\n",
        "    print(\"I am from UK\")\n",
        "  else:\n",
        "    print(\"I am From canada\")\n",
        "func()\n",
        "func(a=10)\n",
        "func(b=20)\n",
        "func(10,20)\n"
      ],
      "metadata": {
        "colab": {
          "base_uri": "https://localhost:8080/"
        },
        "id": "f_ULJ1HR1D1V",
        "outputId": "51f4b571-66bd-45b2-957f-7b7c0e59b0c5"
      },
      "execution_count": 14,
      "outputs": [
        {
          "output_type": "stream",
          "name": "stdout",
          "text": [
            "I am From India\n",
            "I am From canada\n",
            "I From Usa\n",
            "I am from UK\n"
          ]
        }
      ]
    },
    {
      "cell_type": "code",
      "source": [],
      "metadata": {
        "id": "ExrR3Tr-2FPU"
      },
      "execution_count": null,
      "outputs": []
    }
  ]
}