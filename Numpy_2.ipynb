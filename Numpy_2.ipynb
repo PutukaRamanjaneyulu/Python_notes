{
  "nbformat": 4,
  "nbformat_minor": 0,
  "metadata": {
    "colab": {
      "provenance": []
    },
    "kernelspec": {
      "name": "python3",
      "display_name": "Python 3"
    },
    "language_info": {
      "name": "python"
    }
  },
  "cells": [
    {
      "cell_type": "markdown",
      "source": [
        "**Liabraries**\n",
        "\n",
        "- librarary : Where the Buit-in-Function  are Stored.\n",
        "1.  Numpy -> Dimensions\n",
        "2.  Pandas -> Manipulate the data\n",
        "3.  Matplotlib -> Visualize\n",
        "4.  Seaborn -> Statical Knowledge"
      ],
      "metadata": {
        "id": "v9DVrNbsj--d"
      }
    },
    {
      "cell_type": "markdown",
      "source": [
        "**Numpy :**\n",
        "- Numpy is a library which is used to work with dimensionality of the data.Using Built-in-functions:\n",
        "1. Array\n",
        "2. arange\n",
        "3. ndim\n",
        "4. size\n",
        "5. shape\n",
        "6. reshape\n",
        "7. reshape(-1,1) and reshape(1,-1)\n",
        "8. zero's\n",
        "9. One's\n",
        "10. full\n",
        "11. eye\n",
        "12. ravel\n",
        "13. Transpose\n",
        "14. random -> Randin\n",
        "15. random -> random\n",
        "16. random -> rand\n",
        "17. random -> random\n",
        "18. concatenate\n",
        "19. sum\n",
        "20. min\n",
        "21. max\n",
        "22. axis=1\n",
        "23. axis=0\n",
        "24. argmax\n",
        "25. argmin"
      ],
      "metadata": {
        "id": "zYcP6Rruk-Ut"
      }
    },
    {
      "cell_type": "code",
      "execution_count": 1,
      "metadata": {
        "id": "yvnHOYrFj6Mp"
      },
      "outputs": [],
      "source": [
        "# 1. Array :- which is used to create data in the form of dimension\n",
        "# 1D - One Dimension\n",
        "import numpy as np"
      ]
    },
    {
      "cell_type": "code",
      "source": [
        "a=np.array([10,20,30,40,50])\n",
        "print(a)\n",
        "print(type(a)) # Checking the datatype\n",
        "print(a.ndim)  # ndim -> No of dimensional\n",
        "print(a.shape)  # shape -> Check the number of rows and columns\n",
        "print(a.size) # size -> Total number of values\n",
        "print(a[3])"
      ],
      "metadata": {
        "colab": {
          "base_uri": "https://localhost:8080/"
        },
        "id": "pBxBQX_rnDTJ",
        "outputId": "89980601-aa70-4a36-b017-f8d18dc3262c"
      },
      "execution_count": null,
      "outputs": [
        {
          "output_type": "stream",
          "name": "stdout",
          "text": [
            "[10 20 30 40 50]\n",
            "<class 'numpy.ndarray'>\n",
            "1\n",
            "(5,)\n",
            "5\n",
            "40\n"
          ]
        }
      ]
    },
    {
      "cell_type": "code",
      "source": [
        "# 2D - Two dimensional Array -> matrix is a 2D\n",
        "a=np.array([[1,4,7],[1,18,25],[9,7,4]])\n",
        "print(a)\n",
        "print(type(a))\n",
        "print(a.ndim)\n",
        "print(a.shape)\n",
        "print(a.size)\n",
        "print(a[2][0])"
      ],
      "metadata": {
        "colab": {
          "base_uri": "https://localhost:8080/"
        },
        "id": "Xjf5WOLXnJON",
        "outputId": "53e63c9e-7155-4fbe-b6a0-bcd29583602c"
      },
      "execution_count": null,
      "outputs": [
        {
          "output_type": "stream",
          "name": "stdout",
          "text": [
            "[[ 1  4  7]\n",
            " [ 1 18 25]\n",
            " [ 9  7  4]]\n",
            "<class 'numpy.ndarray'>\n",
            "2\n",
            "(3, 3)\n",
            "9\n",
            "9\n"
          ]
        }
      ]
    },
    {
      "cell_type": "code",
      "source": [
        "# Arange :- Arange Function will be take Staring point to Ending point\n",
        "#2. arange Function will be give out in 1D(one Dimensional Format)\n",
        "\n",
        "a=np.arange(11,17)\n",
        "print(a)\n",
        "print(a.ndim)"
      ],
      "metadata": {
        "colab": {
          "base_uri": "https://localhost:8080/"
        },
        "id": "JzLmDDrsoqPS",
        "outputId": "d93b5441-df5b-4367-b719-3af09de417d6"
      },
      "execution_count": null,
      "outputs": [
        {
          "output_type": "stream",
          "name": "stdout",
          "text": [
            "[11 12 13 14 15 16]\n",
            "1\n"
          ]
        }
      ]
    },
    {
      "cell_type": "code",
      "source": [
        "# 1D and 2D\n",
        "a=np.arange(1,61)\n",
        "print(a)\n",
        "print(a.ndim)"
      ],
      "metadata": {
        "colab": {
          "base_uri": "https://localhost:8080/"
        },
        "id": "OTLHMuF3phk0",
        "outputId": "0dc24cd1-671d-4519-fb3f-62ebdfc93362"
      },
      "execution_count": null,
      "outputs": [
        {
          "output_type": "stream",
          "name": "stdout",
          "text": [
            "[ 1  2  3  4  5  6  7  8  9 10 11 12 13 14 15 16 17 18 19 20 21 22 23 24\n",
            " 25 26 27 28 29 30 31 32 33 34 35 36 37 38 39 40 41 42 43 44 45 46 47 48\n",
            " 49 50 51 52 53 54 55 56 57 58 59 60]\n",
            "1\n"
          ]
        }
      ]
    },
    {
      "cell_type": "code",
      "source": [
        "b=a.reshape(10,6)\n",
        "print(b)\n",
        "print(type(b))\n",
        "print(b.ndim)"
      ],
      "metadata": {
        "colab": {
          "base_uri": "https://localhost:8080/"
        },
        "id": "DweguElTpvrH",
        "outputId": "4bd27d83-22d5-4ddc-ec70-9a86f62bb148"
      },
      "execution_count": null,
      "outputs": [
        {
          "output_type": "stream",
          "name": "stdout",
          "text": [
            "[[ 1  2  3  4  5  6]\n",
            " [ 7  8  9 10 11 12]\n",
            " [13 14 15 16 17 18]\n",
            " [19 20 21 22 23 24]\n",
            " [25 26 27 28 29 30]\n",
            " [31 32 33 34 35 36]\n",
            " [37 38 39 40 41 42]\n",
            " [43 44 45 46 47 48]\n",
            " [49 50 51 52 53 54]\n",
            " [55 56 57 58 59 60]]\n",
            "<class 'numpy.ndarray'>\n",
            "2\n"
          ]
        }
      ]
    },
    {
      "cell_type": "code",
      "source": [
        "a=np.arange(1,61).reshape(10,6)\n",
        "print(a)\n",
        "print(a.ndim)"
      ],
      "metadata": {
        "colab": {
          "base_uri": "https://localhost:8080/"
        },
        "id": "ZUJM3KX8p51b",
        "outputId": "9daf0bf9-a398-472c-9749-45fbf68e5bcd"
      },
      "execution_count": null,
      "outputs": [
        {
          "output_type": "stream",
          "name": "stdout",
          "text": [
            "[[ 1  2  3  4  5  6]\n",
            " [ 7  8  9 10 11 12]\n",
            " [13 14 15 16 17 18]\n",
            " [19 20 21 22 23 24]\n",
            " [25 26 27 28 29 30]\n",
            " [31 32 33 34 35 36]\n",
            " [37 38 39 40 41 42]\n",
            " [43 44 45 46 47 48]\n",
            " [49 50 51 52 53 54]\n",
            " [55 56 57 58 59 60]]\n",
            "2\n"
          ]
        }
      ]
    },
    {
      "cell_type": "code",
      "source": [
        "# Cube :- Doesn't have Rows and Columns(3D)\n",
        "a=np.arange(1,61).reshape(5,2,6)\n",
        "print(a)\n"
      ],
      "metadata": {
        "colab": {
          "base_uri": "https://localhost:8080/"
        },
        "id": "hEJfrqJ6qGFH",
        "outputId": "ab1f6dd8-e2e4-43b5-c160-a34267ac8407"
      },
      "execution_count": 3,
      "outputs": [
        {
          "output_type": "stream",
          "name": "stdout",
          "text": [
            "[[[ 1  2  3  4  5  6]\n",
            "  [ 7  8  9 10 11 12]]\n",
            "\n",
            " [[13 14 15 16 17 18]\n",
            "  [19 20 21 22 23 24]]\n",
            "\n",
            " [[25 26 27 28 29 30]\n",
            "  [31 32 33 34 35 36]]\n",
            "\n",
            " [[37 38 39 40 41 42]\n",
            "  [43 44 45 46 47 48]]\n",
            "\n",
            " [[49 50 51 52 53 54]\n",
            "  [55 56 57 58 59 60]]]\n"
          ]
        }
      ]
    },
    {
      "cell_type": "code",
      "source": [
        "print(a[2])"
      ],
      "metadata": {
        "id": "Jm4Ah2SwC-cq",
        "colab": {
          "base_uri": "https://localhost:8080/"
        },
        "outputId": "fc103f80-ef3b-4036-f833-463fabe381d2"
      },
      "execution_count": 4,
      "outputs": [
        {
          "output_type": "stream",
          "name": "stdout",
          "text": [
            "[[25 26 27 28 29 30]\n",
            " [31 32 33 34 35 36]]\n"
          ]
        }
      ]
    },
    {
      "cell_type": "code",
      "source": [
        "print(a[2][1])"
      ],
      "metadata": {
        "colab": {
          "base_uri": "https://localhost:8080/"
        },
        "id": "5Ev4O7b7Yh-J",
        "outputId": "73a407ef-fa73-4d28-9820-753dfbd65893"
      },
      "execution_count": 5,
      "outputs": [
        {
          "output_type": "stream",
          "name": "stdout",
          "text": [
            "[31 32 33 34 35 36]\n"
          ]
        }
      ]
    },
    {
      "cell_type": "code",
      "source": [
        "print(a[2][1][3])"
      ],
      "metadata": {
        "colab": {
          "base_uri": "https://localhost:8080/"
        },
        "id": "GPpGlp0uY2Bs",
        "outputId": "134625c3-2361-4eec-da96-7aca6abc94ec"
      },
      "execution_count": 6,
      "outputs": [
        {
          "output_type": "stream",
          "name": "stdout",
          "text": [
            "34\n"
          ]
        }
      ]
    },
    {
      "cell_type": "code",
      "source": [
        "# Reshape(1,-1) #(Rows,Columns)\n",
        "a=np.array([[10,20,30,40,50],[60,80,70,90,10]])\n",
        "print(a)\n",
        "print(a.ndim)\n",
        "b=a.reshape(1,-1)\n",
        "print(b)"
      ],
      "metadata": {
        "colab": {
          "base_uri": "https://localhost:8080/"
        },
        "id": "yssyI7dRY6NP",
        "outputId": "fe15e14a-2224-45c3-ebda-d2620ea221b6"
      },
      "execution_count": 12,
      "outputs": [
        {
          "output_type": "stream",
          "name": "stdout",
          "text": [
            "[[10 20 30 40 50]\n",
            " [60 80 70 90 10]]\n",
            "2\n",
            "[[10 20 30 40 50 60 80 70 90 10]]\n"
          ]
        }
      ]
    },
    {
      "cell_type": "code",
      "source": [
        "# reshape(-1,1)\n",
        "b=a.reshape(-1,1)\n",
        "print(b)"
      ],
      "metadata": {
        "colab": {
          "base_uri": "https://localhost:8080/"
        },
        "id": "OHKmayBTZLRx",
        "outputId": "1b57939f-2e52-4084-c633-197955550bae"
      },
      "execution_count": 13,
      "outputs": [
        {
          "output_type": "stream",
          "name": "stdout",
          "text": [
            "[[10]\n",
            " [20]\n",
            " [30]\n",
            " [40]\n",
            " [50]\n",
            " [60]\n",
            " [80]\n",
            " [70]\n",
            " [90]\n",
            " [10]]\n"
          ]
        }
      ]
    },
    {
      "cell_type": "code",
      "source": [
        "# raval -> Any dimensional array will be converted back to 1D\n",
        "a=np.array([[10,20,30,40,50],[60,70,80,90,100]])\n",
        "print(a)\n",
        "print(a.ndim)\n",
        "b=a.ravel()\n",
        "print(b)\n",
        "print(b.ndim)\n"
      ],
      "metadata": {
        "colab": {
          "base_uri": "https://localhost:8080/"
        },
        "id": "9DCr5uDOZ1B6",
        "outputId": "fd47dab4-660d-4225-aca1-99c3ad55105a"
      },
      "execution_count": 14,
      "outputs": [
        {
          "output_type": "stream",
          "name": "stdout",
          "text": [
            "[[ 10  20  30  40  50]\n",
            " [ 60  70  80  90 100]]\n",
            "2\n",
            "[ 10  20  30  40  50  60  70  80  90 100]\n",
            "1\n"
          ]
        }
      ]
    },
    {
      "cell_type": "code",
      "source": [
        "# transpose :- Transpose convert into rows to columns and column and rows\n",
        "a=np.array([[10,4,9],[11,12,13]])\n",
        "print(a)\n",
        "print(a.ndim)\n",
        "b=a.transpose()\n",
        "print(b)\n",
        "print(b.ndim)"
      ],
      "metadata": {
        "colab": {
          "base_uri": "https://localhost:8080/"
        },
        "id": "3UXK6IyJag5N",
        "outputId": "628148b5-c1ab-428f-c0a1-9ef6ad3ad205"
      },
      "execution_count": 21,
      "outputs": [
        {
          "output_type": "stream",
          "name": "stdout",
          "text": [
            "[[10  4  9]\n",
            " [11 12 13]]\n",
            "2\n",
            "[[10 11]\n",
            " [ 4 12]\n",
            " [ 9 13]]\n",
            "2\n"
          ]
        }
      ]
    },
    {
      "cell_type": "code",
      "source": [
        "#Zeros :- zero's function will be print only the zero's\n",
        "# default datatype for numpy is float64\n",
        "a=np.zeros((5,4))\n",
        "print(a)\n",
        "print(a.dtype)"
      ],
      "metadata": {
        "colab": {
          "base_uri": "https://localhost:8080/"
        },
        "id": "YiroYBfRa868",
        "outputId": "1a48fa2f-e614-46e9-d557-fe963f3cd126"
      },
      "execution_count": 24,
      "outputs": [
        {
          "output_type": "stream",
          "name": "stdout",
          "text": [
            "[[0. 0. 0. 0.]\n",
            " [0. 0. 0. 0.]\n",
            " [0. 0. 0. 0.]\n",
            " [0. 0. 0. 0.]\n",
            " [0. 0. 0. 0.]]\n",
            "float64\n"
          ]
        }
      ]
    },
    {
      "cell_type": "code",
      "source": [
        "# Ones :- The ones Function will be print the only ones\n",
        "a=np.ones((5,4))\n",
        "print(a)"
      ],
      "metadata": {
        "colab": {
          "base_uri": "https://localhost:8080/"
        },
        "id": "cF45IKlvc3aI",
        "outputId": "abb6522c-a692-434c-cbb8-2a8a31122ba8"
      },
      "execution_count": 25,
      "outputs": [
        {
          "output_type": "stream",
          "name": "stdout",
          "text": [
            "[[1. 1. 1. 1.]\n",
            " [1. 1. 1. 1.]\n",
            " [1. 1. 1. 1.]\n",
            " [1. 1. 1. 1.]\n",
            " [1. 1. 1. 1.]]\n"
          ]
        }
      ]
    },
    {
      "cell_type": "code",
      "source": [
        "#Full :- The full Function will be print the what's the number we print\n",
        "a=np.full((5,4),8)\n",
        "print(a)"
      ],
      "metadata": {
        "colab": {
          "base_uri": "https://localhost:8080/"
        },
        "id": "yb98n44KdLOE",
        "outputId": "5c961a60-8cfa-4a96-ec64-95884db58e2d"
      },
      "execution_count": 27,
      "outputs": [
        {
          "output_type": "stream",
          "name": "stdout",
          "text": [
            "[[8 8 8 8]\n",
            " [8 8 8 8]\n",
            " [8 8 8 8]\n",
            " [8 8 8 8]\n",
            " [8 8 8 8]]\n"
          ]
        }
      ]
    },
    {
      "cell_type": "code",
      "source": [
        "#eye\n",
        "a=np.eye(7)\n",
        "print(a)"
      ],
      "metadata": {
        "colab": {
          "base_uri": "https://localhost:8080/"
        },
        "id": "YWcQQb37dT4u",
        "outputId": "492ca4de-02d0-4089-ebeb-b04d6c5f6218"
      },
      "execution_count": 29,
      "outputs": [
        {
          "output_type": "stream",
          "name": "stdout",
          "text": [
            "[[1. 0. 0. 0. 0. 0. 0.]\n",
            " [0. 1. 0. 0. 0. 0. 0.]\n",
            " [0. 0. 1. 0. 0. 0. 0.]\n",
            " [0. 0. 0. 1. 0. 0. 0.]\n",
            " [0. 0. 0. 0. 1. 0. 0.]\n",
            " [0. 0. 0. 0. 0. 1. 0.]\n",
            " [0. 0. 0. 0. 0. 0. 1.]]\n"
          ]
        }
      ]
    },
    {
      "cell_type": "code",
      "source": [
        "# Random : 1. Randint :- give the specific range mention by the user give the random integer values comes\n",
        "a=np.random.randint(10,50,5) #(start point,End point,number of values)\n",
        "print(a)\n"
      ],
      "metadata": {
        "colab": {
          "base_uri": "https://localhost:8080/"
        },
        "id": "A2_yLhkjdmXy",
        "outputId": "066b8f68-31b0-42dc-d596-8e92391b9b25"
      },
      "execution_count": 30,
      "outputs": [
        {
          "output_type": "stream",
          "name": "stdout",
          "text": [
            "[44 15 19 29 25]\n"
          ]
        }
      ]
    },
    {
      "cell_type": "code",
      "source": [
        "# 2. rand :- 0 to 1 -> in between 0 to 1 random values will be pick\n",
        "a=np.random.rand(5,4)#(colums,Rows)\n",
        "print(a)"
      ],
      "metadata": {
        "colab": {
          "base_uri": "https://localhost:8080/"
        },
        "id": "_mUCzaePeKdc",
        "outputId": "000e4a9e-07fa-44e5-ddb0-d18af5e52b6c"
      },
      "execution_count": 31,
      "outputs": [
        {
          "output_type": "stream",
          "name": "stdout",
          "text": [
            "[[0.45374891 0.47415245 0.92284526 0.49134209]\n",
            " [0.76282905 0.90069235 0.05659265 0.42973933]\n",
            " [0.52812263 0.0973398  0.58926802 0.35649589]\n",
            " [0.06183186 0.44164112 0.98580808 0.69894925]\n",
            " [0.85793794 0.31307295 0.25760947 0.19669317]]\n"
          ]
        }
      ]
    },
    {
      "cell_type": "code",
      "source": [
        "# 3.Randn :- These Function will be give the 1 to -1\n",
        "a=np.random.randn(5,4)\n",
        "print(a)"
      ],
      "metadata": {
        "colab": {
          "base_uri": "https://localhost:8080/"
        },
        "id": "gw3ia_spex1P",
        "outputId": "dac99f01-6551-4b76-beba-33eded56866a"
      },
      "execution_count": 32,
      "outputs": [
        {
          "output_type": "stream",
          "name": "stdout",
          "text": [
            "[[-1.38692124  1.26370236  0.52222376 -0.88085191]\n",
            " [ 0.30898271 -1.39355968 -0.69398343  1.78623339]\n",
            " [ 0.31586221 -0.43223455  0.06868556 -1.23384675]\n",
            " [-0.20238222 -1.47095543  1.01227434 -0.65313932]\n",
            " [-1.1942399  -0.64100066 -1.04481688  0.37534016]]\n"
          ]
        }
      ]
    },
    {
      "cell_type": "code",
      "source": [
        "# 4. random -> random : same as the rand\n",
        "a=np.random.random(5)\n",
        "print(a)\n"
      ],
      "metadata": {
        "colab": {
          "base_uri": "https://localhost:8080/"
        },
        "id": "vb0dyMuOfBTu",
        "outputId": "ed29b1e0-f721-44c8-fab8-0ac6cefcc400"
      },
      "execution_count": 42,
      "outputs": [
        {
          "output_type": "stream",
          "name": "stdout",
          "text": [
            "[0.70187239 0.53371317 0.98731944 0.58912096 0.9709976 ]\n"
          ]
        }
      ]
    },
    {
      "cell_type": "code",
      "source": [
        "# Concatination\n",
        "a=np.array([[1,4,9],[10,7,3],[11,8,7]])\n",
        "b=np.array([10,5,9])\n",
        "\n",
        "c=(a+b)\n",
        "print(c)"
      ],
      "metadata": {
        "colab": {
          "base_uri": "https://localhost:8080/"
        },
        "id": "7o8wwBprfYIz",
        "outputId": "c6a4aa7c-5dbf-477d-b80d-b74d7f5a0c16"
      },
      "execution_count": 47,
      "outputs": [
        {
          "output_type": "stream",
          "name": "stdout",
          "text": [
            "[[11  9 18]\n",
            " [20 12 12]\n",
            " [21 13 16]]\n"
          ]
        }
      ]
    },
    {
      "cell_type": "code",
      "source": [
        "# sum\n",
        "a=np.array([[10,4,5],[1,4,9]])\n",
        "print(a.sum())"
      ],
      "metadata": {
        "colab": {
          "base_uri": "https://localhost:8080/"
        },
        "id": "GF2pfZyGkFph",
        "outputId": "f66c0ed4-c1e3-4bd2-cc5f-9c20e959f7f5"
      },
      "execution_count": 48,
      "outputs": [
        {
          "output_type": "stream",
          "name": "stdout",
          "text": [
            "33\n"
          ]
        }
      ]
    },
    {
      "cell_type": "code",
      "source": [
        "# axis-1 -> Row\n",
        "#axis -0 -> Column\n",
        "print(np.sum(a,axis=1)) # row wise\n"
      ],
      "metadata": {
        "colab": {
          "base_uri": "https://localhost:8080/"
        },
        "id": "BHVTzCyIm5Cm",
        "outputId": "df4ea9e3-1469-4d30-b376-1d4ac2c8a89f"
      },
      "execution_count": 53,
      "outputs": [
        {
          "output_type": "stream",
          "name": "stdout",
          "text": [
            "[19 14]\n"
          ]
        }
      ]
    },
    {
      "cell_type": "code",
      "source": [
        "print(np.sum(a,axis=0)) # column wise"
      ],
      "metadata": {
        "colab": {
          "base_uri": "https://localhost:8080/"
        },
        "id": "sianc_BlnYH7",
        "outputId": "5ed66e18-69c8-44d9-aba5-805292df51d0"
      },
      "execution_count": 52,
      "outputs": [
        {
          "output_type": "stream",
          "name": "stdout",
          "text": [
            "[11  8 14]\n"
          ]
        }
      ]
    },
    {
      "cell_type": "code",
      "source": [
        "#max\n",
        "print(np.max(a))\n",
        "print(np.max(a,axis=1))\n",
        "print(np.max(a,axis=0))"
      ],
      "metadata": {
        "colab": {
          "base_uri": "https://localhost:8080/"
        },
        "id": "TxY0Wam4oCIs",
        "outputId": "c943e58f-e9de-4e36-f288-b20a910e8927"
      },
      "execution_count": 56,
      "outputs": [
        {
          "output_type": "stream",
          "name": "stdout",
          "text": [
            "10\n",
            "[10  9]\n",
            "[10  4  9]\n"
          ]
        }
      ]
    },
    {
      "cell_type": "code",
      "source": [
        "#min\n",
        "print(np.min(a))\n",
        "print(np.min(a,axis=1))\n",
        "print(np.min(a,axis=0))"
      ],
      "metadata": {
        "colab": {
          "base_uri": "https://localhost:8080/"
        },
        "id": "IMqkHWrJoewv",
        "outputId": "2fb93508-3e8a-4bf4-e7b0-581c33535e24"
      },
      "execution_count": 57,
      "outputs": [
        {
          "output_type": "stream",
          "name": "stdout",
          "text": [
            "1\n",
            "[4 1]\n",
            "[1 4 5]\n"
          ]
        }
      ]
    },
    {
      "cell_type": "code",
      "source": [
        "# argmax and argmin\n",
        "print(np.argmax(a))# index value is to be given max value index\n",
        "print(np.argmin(a))# index value is to be given min value index"
      ],
      "metadata": {
        "colab": {
          "base_uri": "https://localhost:8080/"
        },
        "id": "m9VbecTTotoY",
        "outputId": "fc23e0b0-db4a-4471-fcfb-c30364951646"
      },
      "execution_count": 60,
      "outputs": [
        {
          "output_type": "stream",
          "name": "stdout",
          "text": [
            "0\n",
            "3\n"
          ]
        }
      ]
    },
    {
      "cell_type": "code",
      "source": [
        "print(np.argmax(a,axis=1)) # Row wise\n",
        "print(np.argmax(a,axis=0)) # Column wise"
      ],
      "metadata": {
        "colab": {
          "base_uri": "https://localhost:8080/"
        },
        "id": "JcQAABWPo7VS",
        "outputId": "91f0a865-b6d5-48da-a8fe-61b4ff7cebed"
      },
      "execution_count": 61,
      "outputs": [
        {
          "output_type": "stream",
          "name": "stdout",
          "text": [
            "[0 2]\n",
            "[0 0 1]\n"
          ]
        }
      ]
    },
    {
      "cell_type": "code",
      "source": [
        "print(np.argmin(a,axis=1)) # Row wise\n",
        "print(np.argmin(a,axis=0)) # Column wise"
      ],
      "metadata": {
        "colab": {
          "base_uri": "https://localhost:8080/"
        },
        "id": "s8qd0z4npZWF",
        "outputId": "68c2a646-7206-4bd0-e18f-132cb19f21ed"
      },
      "execution_count": 62,
      "outputs": [
        {
          "output_type": "stream",
          "name": "stdout",
          "text": [
            "[1 0]\n",
            "[1 0 0]\n"
          ]
        }
      ]
    },
    {
      "cell_type": "code",
      "source": [
        "print(np.add(a,b))\n"
      ],
      "metadata": {
        "colab": {
          "base_uri": "https://localhost:8080/"
        },
        "id": "BLox52GcpeAl",
        "outputId": "ad0ed40f-7ffb-4f9d-e96d-42b4b9834b82"
      },
      "execution_count": 66,
      "outputs": [
        {
          "output_type": "stream",
          "name": "stdout",
          "text": [
            "[[20  9 14]\n",
            " [11  9 18]]\n"
          ]
        }
      ]
    },
    {
      "cell_type": "code",
      "source": [
        "# matmul\n",
        "a=np.array([[1,4,7],[3,8,1]])\n",
        "b=np.array([[1],[2],[3]])\n",
        "print(np.matmul(a,b))"
      ],
      "metadata": {
        "colab": {
          "base_uri": "https://localhost:8080/"
        },
        "id": "BuKq6I0zpild",
        "outputId": "ef52e1da-b074-470d-c620-9bf94379ffe2"
      },
      "execution_count": 67,
      "outputs": [
        {
          "output_type": "stream",
          "name": "stdout",
          "text": [
            "[[30]\n",
            " [22]]\n"
          ]
        }
      ]
    },
    {
      "cell_type": "code",
      "source": [
        "# loops\n",
        "a=np.array([[10,4,5],[15,6,70],[14,15,13]])\n",
        "for i in a:\n",
        "  print(i)"
      ],
      "metadata": {
        "colab": {
          "base_uri": "https://localhost:8080/"
        },
        "id": "_73Q9EebqEkz",
        "outputId": "e8d90e25-d74e-4096-85bf-00e2f73502ec"
      },
      "execution_count": 68,
      "outputs": [
        {
          "output_type": "stream",
          "name": "stdout",
          "text": [
            "[10  4  5]\n",
            "[15  6 70]\n",
            "[14 15 13]\n"
          ]
        }
      ]
    },
    {
      "cell_type": "code",
      "source": [
        "c=[]\n",
        "for i in a:\n",
        "  f=0\n",
        "  for j in i.tolist():\n",
        "    f=f+j\n",
        "  c.append(f)\n",
        "print(c)"
      ],
      "metadata": {
        "colab": {
          "base_uri": "https://localhost:8080/"
        },
        "id": "j7AHeIqCsHo-",
        "outputId": "83fdac02-be17-44e2-e171-ef0fb6df7772"
      },
      "execution_count": 70,
      "outputs": [
        {
          "output_type": "stream",
          "name": "stdout",
          "text": [
            "[19, 91, 42]\n"
          ]
        }
      ]
    },
    {
      "cell_type": "code",
      "source": [
        "c=[]\n",
        "for i in a.tolist():\n",
        "  c.append([i])\n",
        "print(c)"
      ],
      "metadata": {
        "colab": {
          "base_uri": "https://localhost:8080/"
        },
        "id": "jDqTNurxsS5C",
        "outputId": "c042eaf0-67f4-4e95-bcf4-bfccdbccc679"
      },
      "execution_count": 73,
      "outputs": [
        {
          "output_type": "stream",
          "name": "stdout",
          "text": [
            "[[[10, 4, 5]], [[15, 6, 70]], [[14, 15, 13]]]\n"
          ]
        }
      ]
    },
    {
      "cell_type": "code",
      "source": [],
      "metadata": {
        "id": "trDWvKaDsdCz"
      },
      "execution_count": null,
      "outputs": []
    }
  ]
}