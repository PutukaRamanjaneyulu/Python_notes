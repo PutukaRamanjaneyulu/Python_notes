{
  "nbformat": 4,
  "nbformat_minor": 0,
  "metadata": {
    "colab": {
      "provenance": []
    },
    "kernelspec": {
      "name": "python3",
      "display_name": "Python 3"
    },
    "language_info": {
      "name": "python"
    }
  },
  "cells": [
    {
      "cell_type": "markdown",
      "source": [
        "## **Functions ->Which is used to Excute a Specific Task.**\n",
        "- `The Functions Concept in python we are going to learn reusability of the code`\n",
        "        In python we have the 2 types of functions:\n",
        "           1. Built in Functions -> Developed By Commutity\n",
        "           2. User defined functions -> User requirement user defined the function(Reusability)\n",
        "\n",
        "**In user defined functions we have 2 types**\n",
        "\n",
        "- Non-parameter Functions\n",
        "- Parameter Functions\n"
      ],
      "metadata": {
        "id": "aceMg7iqsSC6"
      }
    },
    {
      "cell_type": "markdown",
      "source": [
        "**Non_Parameter Function**\n",
        "- We can use only understand the concept we can't pass the values in functions\n",
        "- The paranthasis is Empty means it's called the Non-parameter function"
      ],
      "metadata": {
        "id": "9EWSQQset9xF"
      }
    },
    {
      "cell_type": "code",
      "execution_count": null,
      "metadata": {
        "colab": {
          "base_uri": "https://localhost:8080/"
        },
        "id": "9LIpmkp_sOoN",
        "outputId": "a6c948fe-fce6-4d2a-c656-ad04b3f0b7f7"
      },
      "outputs": [
        {
          "output_type": "stream",
          "name": "stdout",
          "text": [
            "Good Morning\n"
          ]
        }
      ],
      "source": [
        "#Non parameter Function\n",
        "def ram():\n",
        "  print(\"Good Morning\")\n",
        "\n",
        "ram()# calling the Function"
      ]
    },
    {
      "cell_type": "code",
      "source": [
        "def func():\n",
        "  a=10\n",
        "  print(a+20)\n",
        "\n",
        "func()# calling the function"
      ],
      "metadata": {
        "colab": {
          "base_uri": "https://localhost:8080/"
        },
        "id": "zy2PKiRXuh9K",
        "outputId": "c709f254-5863-41f1-88a7-a7d668da79e9"
      },
      "execution_count": null,
      "outputs": [
        {
          "output_type": "stream",
          "name": "stdout",
          "text": [
            "30\n"
          ]
        }
      ]
    },
    {
      "cell_type": "markdown",
      "source": [
        "**Parameter Function**\n",
        "- We can use only understand the concept we can pass the values in functions\n",
        "- The paranthasis is contains the values it's called the Parameter function\n",
        "- once we defined the function we call the function in multiple times\n",
        "- How many no.of variables assigned the Function input of the user same no.of variables we pass the user"
      ],
      "metadata": {
        "id": "Rx7Yazn3vJef"
      }
    },
    {
      "cell_type": "code",
      "source": [
        "#Two variables are assigned the function\n",
        "def kiran(a,b):\n",
        "  print(a+b)\n",
        "\n",
        "kiran(10,20)#Calling the function"
      ],
      "metadata": {
        "colab": {
          "base_uri": "https://localhost:8080/"
        },
        "id": "2qOFtlGhu4dG",
        "outputId": "f34b4607-ee1d-4009-a277-4d6fb531f8f4"
      },
      "execution_count": null,
      "outputs": [
        {
          "output_type": "stream",
          "name": "stdout",
          "text": [
            "30\n"
          ]
        }
      ]
    },
    {
      "cell_type": "code",
      "source": [
        "kiran(1,2)"
      ],
      "metadata": {
        "colab": {
          "base_uri": "https://localhost:8080/"
        },
        "id": "CKiP7mUnvcHS",
        "outputId": "46e5c5be-f82e-4a9f-cdb1-996c0763f8cc"
      },
      "execution_count": null,
      "outputs": [
        {
          "output_type": "stream",
          "name": "stdout",
          "text": [
            "3\n"
          ]
        }
      ]
    },
    {
      "cell_type": "code",
      "source": [
        "kiran(100,200)"
      ],
      "metadata": {
        "colab": {
          "base_uri": "https://localhost:8080/"
        },
        "id": "aYolJ63YvpM1",
        "outputId": "0a6f603d-22f9-40c3-e242-6ce1b08648ed"
      },
      "execution_count": null,
      "outputs": [
        {
          "output_type": "stream",
          "name": "stdout",
          "text": [
            "300\n"
          ]
        }
      ]
    },
    {
      "cell_type": "code",
      "source": [
        "kiran(1)"
      ],
      "metadata": {
        "colab": {
          "base_uri": "https://localhost:8080/",
          "height": 141
        },
        "id": "nKQ8lGtIvrdn",
        "outputId": "d59ef151-d622-4d6e-b4d9-103de0546d93"
      },
      "execution_count": null,
      "outputs": [
        {
          "output_type": "error",
          "ename": "TypeError",
          "evalue": "kiran() missing 1 required positional argument: 'b'",
          "traceback": [
            "\u001b[0;31m---------------------------------------------------------------------------\u001b[0m",
            "\u001b[0;31mTypeError\u001b[0m                                 Traceback (most recent call last)",
            "\u001b[0;32m<ipython-input-6-8fa9f3cc29f2>\u001b[0m in \u001b[0;36m<cell line: 0>\u001b[0;34m()\u001b[0m\n\u001b[0;32m----> 1\u001b[0;31m \u001b[0mkiran\u001b[0m\u001b[0;34m(\u001b[0m\u001b[0;36m1\u001b[0m\u001b[0;34m)\u001b[0m\u001b[0;34m\u001b[0m\u001b[0;34m\u001b[0m\u001b[0m\n\u001b[0m",
            "\u001b[0;31mTypeError\u001b[0m: kiran() missing 1 required positional argument: 'b'"
          ]
        }
      ]
    },
    {
      "cell_type": "markdown",
      "source": [
        "**without using function we Access can only one time**"
      ],
      "metadata": {
        "id": "ai7nAUPZD_e7"
      }
    },
    {
      "cell_type": "code",
      "source": [
        "# Perfect number Program\n",
        "# The number individual digits divisables are equal to the original number\n",
        "\n",
        "n=int(input(\"Enter a number here : \"))\n",
        "c=0\n",
        "for i in range(1,n):\n",
        "  if i % 2== 0:\n",
        "    c=c+i\n",
        "\n",
        "if c==n :\n",
        "  print(\"perfect number\")\n",
        "else:\n",
        "  print(\"not a perfect Number\")\n"
      ],
      "metadata": {
        "id": "wTcmstzcwJIY",
        "colab": {
          "base_uri": "https://localhost:8080/"
        },
        "outputId": "1ce052c2-1094-43b5-b5a6-5f54382c39bf"
      },
      "execution_count": 3,
      "outputs": [
        {
          "output_type": "stream",
          "name": "stdout",
          "text": [
            "Enter a number here : 14\n",
            "not a perfect Number\n"
          ]
        }
      ]
    },
    {
      "cell_type": "markdown",
      "source": [
        "**with using function we can Access the Program multiple times**"
      ],
      "metadata": {
        "id": "H89-rFhrEFK7"
      }
    },
    {
      "cell_type": "code",
      "source": [
        "# Perfect number Program\n",
        "# The number individual digits divisables are equal to the original number\n",
        "def kumar(n):\n",
        "  c=0\n",
        "  for i in range(1,n):\n",
        "    if i % 2 == 0:\n",
        "      c=c+i\n",
        "  if n == c :\n",
        "    print(f'Perfect Number : {n}')\n",
        "  else:\n",
        "    print(f'Not a perfect Number : {n}')\n",
        "\n",
        "\n",
        "\n",
        "kumar(6)\n",
        "\n",
        "\n"
      ],
      "metadata": {
        "colab": {
          "base_uri": "https://localhost:8080/"
        },
        "id": "W2BVkeMJDO6T",
        "outputId": "5e1f5753-2791-492a-a55a-ecf2069ecd2d"
      },
      "execution_count": 17,
      "outputs": [
        {
          "output_type": "stream",
          "name": "stdout",
          "text": [
            "Perfect Number : 6\n"
          ]
        }
      ]
    },
    {
      "cell_type": "code",
      "source": [
        "kumar(5)"
      ],
      "metadata": {
        "colab": {
          "base_uri": "https://localhost:8080/"
        },
        "id": "o3JIxNQSMANU",
        "outputId": "e84c9883-f4d1-4a7d-f06e-e13cdd602fa2"
      },
      "execution_count": 19,
      "outputs": [
        {
          "output_type": "stream",
          "name": "stdout",
          "text": [
            "Not a perfect Number : 5\n"
          ]
        }
      ]
    },
    {
      "cell_type": "code",
      "source": [
        "kumar(143)"
      ],
      "metadata": {
        "colab": {
          "base_uri": "https://localhost:8080/"
        },
        "id": "h_LM88VJMIRn",
        "outputId": "8b6bfa6a-f980-4a68-ab61-1ad5102a0b9e"
      },
      "execution_count": 20,
      "outputs": [
        {
          "output_type": "stream",
          "name": "stdout",
          "text": [
            "Not a perfect Number : 143\n"
          ]
        }
      ]
    },
    {
      "cell_type": "markdown",
      "source": [
        "### **Difference between the Global Variable and local variable**\n",
        "**Global Variable :** ` we can use the inside the Function and Outside the Function`\n",
        "\n",
        "**Local Variable :**`We can use the inside the function` -> ` and we convert the local Variable to Global variable`"
      ],
      "metadata": {
        "id": "XgLKXr0A-6ZJ"
      }
    },
    {
      "cell_type": "code",
      "source": [
        "#Global Variable\n",
        "p=500 # Global variable (any where we can access the variable)\n",
        "def func(p):\n",
        "  print(f'I am from  inside the function : {p}')\n",
        "\n",
        "func(p)\n",
        "print(f'I am from outside the function : {p}')"
      ],
      "metadata": {
        "colab": {
          "base_uri": "https://localhost:8080/"
        },
        "id": "jFeIHYq0NVUR",
        "outputId": "61e88383-f43c-4870-e8a6-bb7053c1b25d"
      },
      "execution_count": 3,
      "outputs": [
        {
          "output_type": "stream",
          "name": "stdout",
          "text": [
            "I am from  inside the function : 500\n",
            "I am from outside the function : 500\n"
          ]
        }
      ]
    },
    {
      "cell_type": "code",
      "source": [
        "# local variable\n",
        "\n",
        "def kumar():\n",
        "  m=900 # local variable we can access only the inside Function only\n",
        "  print(f'I am from inside the function : {m}')\n",
        "kumar()\n",
        "\n",
        "print(f'I am from outside the dunction: {m}')"
      ],
      "metadata": {
        "colab": {
          "base_uri": "https://localhost:8080/",
          "height": 193
        },
        "id": "rQXX-K-VA1Fn",
        "outputId": "ea41e08c-1c5c-438e-d836-c8345d7cb19b"
      },
      "execution_count": 4,
      "outputs": [
        {
          "output_type": "stream",
          "name": "stdout",
          "text": [
            "I am from inside the function : 900\n"
          ]
        },
        {
          "output_type": "error",
          "ename": "NameError",
          "evalue": "name 'm' is not defined",
          "traceback": [
            "\u001b[0;31m---------------------------------------------------------------------------\u001b[0m",
            "\u001b[0;31mNameError\u001b[0m                                 Traceback (most recent call last)",
            "\u001b[0;32m<ipython-input-4-34596bb50c5d>\u001b[0m in \u001b[0;36m<cell line: 0>\u001b[0;34m()\u001b[0m\n\u001b[1;32m      6\u001b[0m \u001b[0mkumar\u001b[0m\u001b[0;34m(\u001b[0m\u001b[0;34m)\u001b[0m\u001b[0;34m\u001b[0m\u001b[0;34m\u001b[0m\u001b[0m\n\u001b[1;32m      7\u001b[0m \u001b[0;34m\u001b[0m\u001b[0m\n\u001b[0;32m----> 8\u001b[0;31m \u001b[0mprint\u001b[0m\u001b[0;34m(\u001b[0m\u001b[0;34mf'I am from outside the dunction: {m}'\u001b[0m\u001b[0;34m)\u001b[0m\u001b[0;34m\u001b[0m\u001b[0;34m\u001b[0m\u001b[0m\n\u001b[0m",
            "\u001b[0;31mNameError\u001b[0m: name 'm' is not defined"
          ]
        }
      ]
    },
    {
      "cell_type": "code",
      "source": [
        "# local variable Converting to the Global variable\n",
        "\n",
        "def kumar():\n",
        "  global m\n",
        "  m=900 # local variable we can access only the inside Function only\n",
        "\n",
        "  print(f'I am from inside the function : {m}')\n",
        "kumar()\n",
        "\n",
        "print(f'I am from outside the dunction: {m}')"
      ],
      "metadata": {
        "colab": {
          "base_uri": "https://localhost:8080/"
        },
        "id": "YqTOLkdOBfWX",
        "outputId": "4fb8a918-e222-4105-aed5-0b1f7455f4fc"
      },
      "execution_count": 7,
      "outputs": [
        {
          "output_type": "stream",
          "name": "stdout",
          "text": [
            "I am from inside the function : 900\n",
            "I am from outside the dunction: 900\n"
          ]
        }
      ]
    },
    {
      "cell_type": "markdown",
      "source": [
        "**Return**\n",
        "- `We cann't use the with in the function print we can use the return statement`"
      ],
      "metadata": {
        "id": "hQESdfIwCFCq"
      }
    },
    {
      "cell_type": "code",
      "source": [
        "def add(a,b):\n",
        "  c=a+b\n",
        "  return c\n",
        "sol=add(10,30)# Calling the Function\n",
        "print(\"The sum of the two numbers : \",sol)"
      ],
      "metadata": {
        "colab": {
          "base_uri": "https://localhost:8080/"
        },
        "id": "F8taX2KNB6ZD",
        "outputId": "401adf70-d50f-4992-fe2f-3846ea8e83a5"
      },
      "execution_count": 8,
      "outputs": [
        {
          "output_type": "stream",
          "name": "stdout",
          "text": [
            "The sum of the two numbers :  40\n"
          ]
        }
      ]
    },
    {
      "cell_type": "code",
      "source": [
        "sol=add(143,546)\n",
        "print(\"The sum of the two numbers : \",sol)"
      ],
      "metadata": {
        "colab": {
          "base_uri": "https://localhost:8080/"
        },
        "id": "I0Nf4JIUDC-k",
        "outputId": "f0c1ec05-1a07-400a-a5fa-1e970047100f"
      },
      "execution_count": 9,
      "outputs": [
        {
          "output_type": "stream",
          "name": "stdout",
          "text": [
            "The sum of the two numbers :  689\n"
          ]
        }
      ]
    },
    {
      "cell_type": "code",
      "source": [
        "def Even(a,b):\n",
        "  c=[]\n",
        "  for i in range(a,b):\n",
        "    if i % 2 ==0:\n",
        "      c.append(i)\n",
        "  return c\n",
        "sol = Even(11,17)\n",
        "print(\"The Even Numbers: \",sol)"
      ],
      "metadata": {
        "colab": {
          "base_uri": "https://localhost:8080/"
        },
        "id": "ymPa1hfoDMhk",
        "outputId": "3b9a2a9b-e633-45c8-908d-1d89addc26ed"
      },
      "execution_count": 11,
      "outputs": [
        {
          "output_type": "stream",
          "name": "stdout",
          "text": [
            "The Even Numbers:  [12, 14, 16]\n"
          ]
        }
      ]
    },
    {
      "cell_type": "code",
      "source": [
        "sol=Even(1,50)\n",
        "print(\"The Even Numbers: \",sol)"
      ],
      "metadata": {
        "colab": {
          "base_uri": "https://localhost:8080/"
        },
        "id": "EhT6Dv15Ds-j",
        "outputId": "425f29b0-3dc5-4db1-f390-6fa2a9d027b8"
      },
      "execution_count": 12,
      "outputs": [
        {
          "output_type": "stream",
          "name": "stdout",
          "text": [
            "The Even Numbers:  [2, 4, 6, 8, 10, 12, 14, 16, 18, 20, 22, 24, 26, 28, 30, 32, 34, 36, 38, 40, 42, 44, 46, 48]\n"
          ]
        }
      ]
    },
    {
      "cell_type": "code",
      "source": [
        "sol=Even(20,27)\n",
        "print(\"The Even numbers: \",sol)"
      ],
      "metadata": {
        "colab": {
          "base_uri": "https://localhost:8080/"
        },
        "id": "a2w0F8GUD7RM",
        "outputId": "e8b59fe5-7891-4d83-ab5d-8ef10866c540"
      },
      "execution_count": 13,
      "outputs": [
        {
          "output_type": "stream",
          "name": "stdout",
          "text": [
            "The Even numbers:  [20, 22, 24, 26]\n"
          ]
        }
      ]
    },
    {
      "cell_type": "code",
      "source": [],
      "metadata": {
        "id": "sTOLLqMtEKW8"
      },
      "execution_count": null,
      "outputs": []
    }
  ]
}