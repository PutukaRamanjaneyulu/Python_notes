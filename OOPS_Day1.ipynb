{
  "nbformat": 4,
  "nbformat_minor": 0,
  "metadata": {
    "colab": {
      "provenance": []
    },
    "kernelspec": {
      "name": "python3",
      "display_name": "Python 3"
    },
    "language_info": {
      "name": "python"
    }
  },
  "cells": [
    {
      "cell_type": "markdown",
      "source": [
        "**OOPS -> Object Oriented Programming System**\n",
        "- Class\n",
        "- Object\n",
        "- Self\n",
        "- Functions in Class\n",
        "-Inheritance\n",
        "- Polymorphisam\n",
        "- Encopsulation"
      ],
      "metadata": {
        "id": "y2-zi_2vT9gf"
      }
    },
    {
      "cell_type": "markdown",
      "source": [
        "**Class :**\n",
        "- Class name should Capital words only\n",
        "- Class is nothing but Collection of Variables and Functions\n",
        "- **Single Class is Contain the Single Object**\n"
      ],
      "metadata": {
        "id": "OrysK4OZU7iy"
      }
    },
    {
      "cell_type": "code",
      "execution_count": 3,
      "metadata": {
        "colab": {
          "base_uri": "https://localhost:8080/"
        },
        "id": "AmIiPKdMT8jR",
        "outputId": "300f1497-3820-4cf9-b3b3-4ead415ffc7b"
      },
      "outputs": [
        {
          "output_type": "stream",
          "name": "stdout",
          "text": [
            "10\n"
          ]
        }
      ],
      "source": [
        "class CSE:   #Class\n",
        "  s=10       #It's like a Student\n",
        "anil=CSE()   # Instace Of a Class\n",
        "print(anil.s)\n"
      ]
    },
    {
      "cell_type": "code",
      "source": [
        "class ECE:\n",
        "  a=10\n",
        "  b=2\n",
        "\n",
        "kumar=ECE()\n",
        "print(kumar.a * kumar.b)"
      ],
      "metadata": {
        "colab": {
          "base_uri": "https://localhost:8080/"
        },
        "id": "ETCPef4dWEqZ",
        "outputId": "4568b2f2-581b-4773-aee4-4ad16982de1c"
      },
      "execution_count": 4,
      "outputs": [
        {
          "output_type": "stream",
          "name": "stdout",
          "text": [
            "20\n"
          ]
        }
      ]
    },
    {
      "cell_type": "code",
      "source": [
        "class MECH:\n",
        "  j=100\n",
        "  k=200\n",
        "# If there is no object for class use class name only\n",
        "\n",
        "print(MECH.j+MECH.k)"
      ],
      "metadata": {
        "colab": {
          "base_uri": "https://localhost:8080/"
        },
        "id": "z-0QZk2EWf-P",
        "outputId": "0464c259-6185-4394-ae4c-a0cf1dd898a6"
      },
      "execution_count": 7,
      "outputs": [
        {
          "output_type": "stream",
          "name": "stdout",
          "text": [
            "300\n"
          ]
        }
      ]
    },
    {
      "cell_type": "code",
      "source": [
        "#method 1\n",
        "# If the class is empty class object is to be create the data in class and the data\n",
        "class CSE:\n",
        "  pass\n",
        "kumar=CSE()\n",
        "kumar.priya=10\n",
        "kumar.liala=20\n",
        "\n",
        "print(kumar.priya*kumar.liala)"
      ],
      "metadata": {
        "colab": {
          "base_uri": "https://localhost:8080/"
        },
        "id": "32an63V4XKpD",
        "outputId": "e312198d-8f84-4924-db29-3e5e7030ab66"
      },
      "execution_count": 8,
      "outputs": [
        {
          "output_type": "stream",
          "name": "stdout",
          "text": [
            "200\n"
          ]
        }
      ]
    },
    {
      "cell_type": "code",
      "source": [
        "# method 2\n",
        "#Class name is also having right to create variable in class itself\n",
        "class SEC:\n",
        "  pass\n",
        "SEC.priya=10\n",
        "SEC.laila=20\n",
        "print(SEC.priya+SEC.laila)\n"
      ],
      "metadata": {
        "colab": {
          "base_uri": "https://localhost:8080/"
        },
        "id": "MWH3PyaUbZ6H",
        "outputId": "66f5e127-2eef-4314-a467-82d35c06d0dc"
      },
      "execution_count": 9,
      "outputs": [
        {
          "output_type": "stream",
          "name": "stdout",
          "text": [
            "30\n"
          ]
        }
      ]
    },
    {
      "cell_type": "markdown",
      "source": [
        "**Advance Level Reausability of the OOPS**\n",
        "**Constractor :**\n",
        "- Constractor is just like class name only\n",
        "- There are 2 types of Constractor :\n",
        "   - 1. Non Parameter Constactor\n",
        "   - 2. Parameter Constactor\n",
        "  - `__init__  these means Constractor`"
      ],
      "metadata": {
        "id": "x7QRk-O4dSei"
      }
    },
    {
      "cell_type": "code",
      "source": [
        "# Non parameter Constarctor\n",
        "class CSE:\n",
        "  def __init__(self) -> None:\n",
        "    print(\"Good Morning\")\n",
        "\n",
        "\n",
        "kumar=CSE() #Constarctor Called"
      ],
      "metadata": {
        "colab": {
          "base_uri": "https://localhost:8080/"
        },
        "id": "8fkUoDUob6pO",
        "outputId": "153a8e96-592e-443e-8650-670a2082b02e"
      },
      "execution_count": 11,
      "outputs": [
        {
          "output_type": "stream",
          "name": "stdout",
          "text": [
            "Good Morning\n"
          ]
        }
      ]
    },
    {
      "cell_type": "markdown",
      "source": [
        "**Self -> means Object copy or Object Preference**\n",
        "- `Self is just a variable which holds Object copy`"
      ],
      "metadata": {
        "id": "KgmX_nIJeyoL"
      }
    },
    {
      "cell_type": "code",
      "source": [
        "#Paraneter Constractor\n",
        "class CSE:\n",
        "  def __init__(self,a,b):\n",
        "    self.a=a\n",
        "    self.b=b\n",
        "\n",
        "\n",
        "kimar=CSE(10,20)   #Constractor Called\n",
        "print(kimar.a+kimar.b)"
      ],
      "metadata": {
        "colab": {
          "base_uri": "https://localhost:8080/"
        },
        "id": "zbSsB292eiks",
        "outputId": "955db44f-5bd9-4db7-b522-a9c6eb418380"
      },
      "execution_count": 14,
      "outputs": [
        {
          "output_type": "stream",
          "name": "stdout",
          "text": [
            "30\n"
          ]
        }
      ]
    },
    {
      "cell_type": "code",
      "source": [
        "from ast import Raise\n",
        "class NAME:\n",
        "\n",
        "  def addition(self):\n",
        "    p=50\n",
        "    g=80\n",
        "    print(p+g)\n",
        "  def subtraction(self):\n",
        "    p=50\n",
        "    g=80\n",
        "    print(p-g)\n",
        "\n",
        "ram=NAME()\n",
        "ram.addition()\n",
        "ram.subtraction()"
      ],
      "metadata": {
        "colab": {
          "base_uri": "https://localhost:8080/"
        },
        "id": "YfIDRzR1h3hW",
        "outputId": "37203ac1-03ce-483e-d2f6-e6029138c600"
      },
      "execution_count": 24,
      "outputs": [
        {
          "output_type": "stream",
          "name": "stdout",
          "text": [
            "130\n",
            "-30\n"
          ]
        }
      ]
    },
    {
      "cell_type": "code",
      "source": [
        "\n",
        "class COL:\n",
        "  def __init__(self,p,g):\n",
        "    self.p=p\n",
        "    self.g=g\n",
        "  def addition(self):\n",
        "    print(self.p+self.g)\n",
        "  def Substraction(self):\n",
        "    print(self.p-self.g)\n",
        "  def comman(self):\n",
        "    self.addition()\n",
        "    self.Substraction()\n",
        "\n",
        "kumar=COL(50,80)\n",
        "kumar.comman()"
      ],
      "metadata": {
        "colab": {
          "base_uri": "https://localhost:8080/"
        },
        "id": "gQomApUtfsGS",
        "outputId": "fbc76792-fc51-4000-af8f-410e2f704488"
      },
      "execution_count": 22,
      "outputs": [
        {
          "output_type": "stream",
          "name": "stdout",
          "text": [
            "130\n",
            "-30\n"
          ]
        }
      ]
    },
    {
      "cell_type": "code",
      "source": [
        "# Perfect number using the OOPS\n",
        "class PER:\n",
        "  def __init__(self,n) -> None:\n",
        "    self.n=n\n",
        "  def Col(self):\n",
        "    self.c=0\n",
        "    for i in range(1,self.n):\n",
        "      if self.n%i == 0:\n",
        "        self.c=self.c+i\n",
        "    if self.c== self.n:\n",
        "      print(f'perfect Number : {self.n}')\n",
        "    else:\n",
        "      print(f'Not a perfect Number : {self.n}')\n",
        "\n",
        "kumar=PER(8)\n",
        "kumar.Col()"
      ],
      "metadata": {
        "colab": {
          "base_uri": "https://localhost:8080/"
        },
        "id": "ZODBXV7eg80k",
        "outputId": "0bf5c1ba-4a45-4685-81f6-2a40101f851e"
      },
      "execution_count": 27,
      "outputs": [
        {
          "output_type": "stream",
          "name": "stdout",
          "text": [
            "Not a perfect Number : 8\n"
          ]
        }
      ]
    }
  ]
}