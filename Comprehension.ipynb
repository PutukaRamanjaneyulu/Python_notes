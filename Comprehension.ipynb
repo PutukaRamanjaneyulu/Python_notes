{
  "nbformat": 4,
  "nbformat_minor": 0,
  "metadata": {
    "colab": {
      "provenance": []
    },
    "kernelspec": {
      "name": "python3",
      "display_name": "Python 3"
    },
    "language_info": {
      "name": "python"
    }
  },
  "cells": [
    {
      "cell_type": "markdown",
      "source": [
        "**Comprehensions**\n",
        "- The comprehension mean's reduse the lines of code\n",
        "- `They are two Different Types that are : `\n",
        "\n",
        "   - 1. list Comprehension\n",
        "   - 2. Dictionary comprehension\n",
        "\n",
        "* In comprehension 3 different modules that are :    \n",
        "        1. for loop and print(only 1 loop and print)\n",
        "        2. for loop and if and print\n",
        "        3. for loop and if and else and print"
      ],
      "metadata": {
        "id": "G62GjHdLGv-_"
      }
    },
    {
      "cell_type": "markdown",
      "source": [
        "**List Comprehension**\n",
        "\n",
        "\n",
        "---\n",
        "modules :\n",
        "\n",
        "`1. -> syntax : [<print_area> <For_loop_area>]`\n",
        "\n",
        "`2. -> syntax : [<print_area> <for_loop_area> <if-area>] `\n",
        "\n",
        "`3. -> syntax : [<if_print> <if_area> <else> <else_print><for_loop_area>]`"
      ],
      "metadata": {
        "id": "Y6os85daHPY5"
      }
    },
    {
      "cell_type": "code",
      "execution_count": 3,
      "metadata": {
        "colab": {
          "base_uri": "https://localhost:8080/"
        },
        "id": "cPQ4me-eGt65",
        "outputId": "f3dcc63d-1276-40d8-c798-6584c4691f63"
      },
      "outputs": [
        {
          "output_type": "stream",
          "name": "stdout",
          "text": [
            "numbers 11\n",
            "numbers 12\n",
            "numbers 13\n",
            "numbers 14\n"
          ]
        }
      ],
      "source": [
        "# Module 1\n",
        "#Without Comprehension\n",
        "for i in range(11,15):\n",
        "  print(f'numbers {i}')"
      ]
    },
    {
      "cell_type": "code",
      "source": [
        "# Module 1\n",
        "#with Comprehension\n",
        "\n",
        "print([f'numbers : {i}' for i in range(11,15)])"
      ],
      "metadata": {
        "colab": {
          "base_uri": "https://localhost:8080/"
        },
        "id": "Pvhqk30kJPno",
        "outputId": "3291c67b-bce2-4720-c8d7-e1c050e77fe4"
      },
      "execution_count": 2,
      "outputs": [
        {
          "output_type": "stream",
          "name": "stdout",
          "text": [
            "['numbers : 11', 'numbers : 12', 'numbers : 13', 'numbers : 14']\n"
          ]
        }
      ]
    },
    {
      "cell_type": "code",
      "source": [
        "# module 2\n",
        "# Without Comprehension\n",
        "for i in range(11,17):\n",
        "  if i % 2 ==0:\n",
        "    print(f'Even : {i}')"
      ],
      "metadata": {
        "colab": {
          "base_uri": "https://localhost:8080/"
        },
        "id": "XJOt_jO0Jje8",
        "outputId": "cb761a9c-7af6-4734-89ec-ff5c10160c9f"
      },
      "execution_count": 5,
      "outputs": [
        {
          "output_type": "stream",
          "name": "stdout",
          "text": [
            "Even : 12\n",
            "Even : 14\n",
            "Even : 16\n"
          ]
        }
      ]
    },
    {
      "cell_type": "code",
      "source": [
        "# module 2\n",
        "# with comprehension\n",
        "print([f'Even :{i}' for i in range(11,17) if i % 2 ==0])"
      ],
      "metadata": {
        "colab": {
          "base_uri": "https://localhost:8080/"
        },
        "id": "Bmtru1BiKNmm",
        "outputId": "f1ee24d6-0619-405d-b6a9-37d89c0d7d83"
      },
      "execution_count": 6,
      "outputs": [
        {
          "output_type": "stream",
          "name": "stdout",
          "text": [
            "['Even :12', 'Even :14', 'Even :16']\n"
          ]
        }
      ]
    },
    {
      "cell_type": "code",
      "source": [
        "#module 3\n",
        "# without Comprehension\n",
        "for i in range(11,20):\n",
        "  if i % 2 ==0 :\n",
        "    print(f'Even : {i}')\n",
        "  else:\n",
        "    print(f'Odd : {i}')"
      ],
      "metadata": {
        "colab": {
          "base_uri": "https://localhost:8080/"
        },
        "id": "pS3JetakKmSs",
        "outputId": "dad84ab1-f617-4b06-a8db-f659f7d8514f"
      },
      "execution_count": 7,
      "outputs": [
        {
          "output_type": "stream",
          "name": "stdout",
          "text": [
            "Odd : 11\n",
            "Even : 12\n",
            "Odd : 13\n",
            "Even : 14\n",
            "Odd : 15\n",
            "Even : 16\n",
            "Odd : 17\n",
            "Even : 18\n",
            "Odd : 19\n"
          ]
        }
      ]
    },
    {
      "cell_type": "code",
      "source": [
        "# with Comprehension\n",
        "print([f'Even : {i}' if i % 2==0 else f'Odd : {i}' for i in range(11,20)])"
      ],
      "metadata": {
        "colab": {
          "base_uri": "https://localhost:8080/"
        },
        "id": "Eg0MsyhkK-Hl",
        "outputId": "92d664a0-349d-44e1-c17b-e5a837e4ca84"
      },
      "execution_count": 8,
      "outputs": [
        {
          "output_type": "stream",
          "name": "stdout",
          "text": [
            "['Odd : 11', 'Even : 12', 'Odd : 13', 'Even : 14', 'Odd : 15', 'Even : 16', 'Odd : 17', 'Even : 18', 'Odd : 19']\n"
          ]
        }
      ]
    },
    {
      "cell_type": "markdown",
      "source": [
        "**Dictionary Comprehension**\n",
        " - same module but we can the list representetion to dictionary representation\n",
        "\n",
        " ---\n",
        "modules :\n",
        "\n",
        "`1. -> syntax : {<print_area> <For_loop_area>}`\n",
        "\n",
        "`2. -> syntax : {<print_area> <for_loop_area> <if-area>} `\n",
        "\n",
        "`3. -> syntax : {<if_print> <if_area> <else> <else_print><for_loop_area>}`"
      ],
      "metadata": {
        "id": "-ssOZ_3ELXfv"
      }
    },
    {
      "cell_type": "code",
      "source": [
        "# module 1\n",
        "# without Comprehension\n",
        "Fruits = {'apple':20,'banana':30,'carrot':50}\n",
        "for i in Fruits:\n",
        "  Fruits[i]=Fruits[i]+20\n",
        "print(Fruits)"
      ],
      "metadata": {
        "colab": {
          "base_uri": "https://localhost:8080/"
        },
        "id": "5VP-AygHLU4z",
        "outputId": "cb5a0fc0-34d1-4497-e55d-bc110c6faa1e"
      },
      "execution_count": 12,
      "outputs": [
        {
          "output_type": "stream",
          "name": "stdout",
          "text": [
            "{'apple': 40, 'banana': 50, 'carrot': 70}\n"
          ]
        }
      ]
    },
    {
      "cell_type": "code",
      "source": [
        "# with comprehension\n",
        "Fruits = {'apple':20,'banana':30,'carrot':50}\n",
        "\n",
        "print({i:Fruits[i]+20 for i in Fruits})"
      ],
      "metadata": {
        "colab": {
          "base_uri": "https://localhost:8080/"
        },
        "id": "LST_TMJwRbrY",
        "outputId": "5ce12a19-c2c9-4cd6-f81c-ddc7ce74f5ef"
      },
      "execution_count": 15,
      "outputs": [
        {
          "output_type": "stream",
          "name": "stdout",
          "text": [
            "{'apple': 40, 'banana': 50, 'carrot': 70}\n"
          ]
        }
      ]
    },
    {
      "cell_type": "code",
      "source": [
        "#Module 2\n",
        "# without Comprehension\n",
        "Fruits = {'apple':20,'banana':30,'carrot':50}\n",
        "d={}\n",
        "for i in Fruits:\n",
        "  if Fruits[i]>25:\n",
        "    d[i]=Fruits[i]\n",
        "print(d)"
      ],
      "metadata": {
        "colab": {
          "base_uri": "https://localhost:8080/"
        },
        "id": "4-GKd2FYTOL8",
        "outputId": "8c714418-90de-4e55-f782-c45a91cf797e"
      },
      "execution_count": 22,
      "outputs": [
        {
          "output_type": "stream",
          "name": "stdout",
          "text": [
            "{'banana': 30, 'carrot': 50}\n"
          ]
        }
      ]
    },
    {
      "cell_type": "code",
      "source": [
        "# with Comprehension\n",
        "Fruits = {'apple':20,'banana':30,'carrot':50}\n",
        "\n",
        "print({i:Fruits[i]+20 for i in Fruits if Fruits[i]>25})\n"
      ],
      "metadata": {
        "colab": {
          "base_uri": "https://localhost:8080/"
        },
        "id": "Ifhx-I-wqoQk",
        "outputId": "bdbafad3-7a74-4a46-b4b6-c7de260f6737"
      },
      "execution_count": 23,
      "outputs": [
        {
          "output_type": "stream",
          "name": "stdout",
          "text": [
            "{'banana': 50, 'carrot': 70}\n"
          ]
        }
      ]
    },
    {
      "cell_type": "code",
      "source": [
        "#Module 3\n",
        "# without Comprehension\n",
        "Fruits = {'apple':20,'banana':30,'carrot':50}\n",
        "d={}\n",
        "\n",
        "\n",
        "for i in Fruits:\n",
        "  if Fruits[i]>25:\n",
        "    d[i]=Fruits[i]*3\n",
        "  else:\n",
        "    d[i]=Fruits[i]*2\n",
        "\n",
        "print(d)"
      ],
      "metadata": {
        "colab": {
          "base_uri": "https://localhost:8080/"
        },
        "id": "gf2aqWx9rse5",
        "outputId": "61803f37-3a37-460e-95a7-1202d41a4714"
      },
      "execution_count": 24,
      "outputs": [
        {
          "output_type": "stream",
          "name": "stdout",
          "text": [
            "{'apple': 40, 'banana': 90, 'carrot': 150}\n"
          ]
        }
      ]
    },
    {
      "cell_type": "code",
      "source": [
        "# with Comprehension\n",
        "Fruits = {'apple':20,'banana':30,'carrot':50}\n",
        "\n",
        "print({i:Fruits[i]*3 if Fruits[i]>25 else Fruits[i]*2 for i in Fruits})\n",
        "\n"
      ],
      "metadata": {
        "colab": {
          "base_uri": "https://localhost:8080/"
        },
        "id": "2V6SZC2HsYfd",
        "outputId": "85931057-3042-42ed-f15f-2e9fc50096fe"
      },
      "execution_count": 27,
      "outputs": [
        {
          "output_type": "stream",
          "name": "stdout",
          "text": [
            "{'apple': 40, 'banana': 90, 'carrot': 150}\n"
          ]
        }
      ]
    },
    {
      "cell_type": "markdown",
      "source": [
        "**Speed Between with Comprehension and Without Comprehension**"
      ],
      "metadata": {
        "id": "s4ZxFGMouJoa"
      }
    },
    {
      "cell_type": "code",
      "source": [
        "#Without Comprehension\n",
        "import time\n",
        "Starting_time=time.time()\n",
        "#Module 3\n",
        "# without Comprehension\n",
        "Fruits = {'apple':20,'banana':30,'carrot':50}\n",
        "d={}\n",
        "\n",
        "\n",
        "for i in Fruits:\n",
        "  if Fruits[i]>25:\n",
        "    d[i]=Fruits[i]*3\n",
        "  else:\n",
        "    d[i]=Fruits[i]*2\n",
        "\n",
        "print(d)\n",
        "Fruits = {'apple':20,'banana':30,'carrot':50}\n",
        "\n",
        "print({i:Fruits[i]*3 if Fruits[i]>25 else Fruits[i]*2 for i in Fruits})\n",
        "print('Time Speed of time : ', time.time() - Starting_time)"
      ],
      "metadata": {
        "colab": {
          "base_uri": "https://localhost:8080/"
        },
        "id": "ZHc_sVxVtLmC",
        "outputId": "c3d786e5-8f87-4155-9844-e19e733358c9"
      },
      "execution_count": 30,
      "outputs": [
        {
          "output_type": "stream",
          "name": "stdout",
          "text": [
            "{'apple': 40, 'banana': 90, 'carrot': 150}\n",
            "{'apple': 40, 'banana': 90, 'carrot': 150}\n",
            "Time Speed of time :  0.0005059242248535156\n"
          ]
        }
      ]
    },
    {
      "cell_type": "code",
      "source": [
        "import time\n",
        "#with Comprehension\n",
        "Endting_time=time.time()\n",
        "Fruits = {'apple':20,'banana':30,'carrot':50}\n",
        "\n",
        "print({i:Fruits[i]*3 if Fruits[i]>25 else Fruits[i]*2 for i in Fruits})\n",
        "print(Endting_time)"
      ],
      "metadata": {
        "colab": {
          "base_uri": "https://localhost:8080/"
        },
        "id": "hpq5IY_ivP8f",
        "outputId": "5893c5ad-e2f7-48e5-c075-591e46a934fb"
      },
      "execution_count": 29,
      "outputs": [
        {
          "output_type": "stream",
          "name": "stdout",
          "text": [
            "{'apple': 40, 'banana': 90, 'carrot': 150}\n",
            "1741336546.9072373\n"
          ]
        }
      ]
    },
    {
      "cell_type": "code",
      "source": [],
      "metadata": {
        "id": "pN5Y33JHvwqW"
      },
      "execution_count": null,
      "outputs": []
    }
  ]
}