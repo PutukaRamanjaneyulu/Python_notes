{
  "nbformat": 4,
  "nbformat_minor": 0,
  "metadata": {
    "colab": {
      "provenance": []
    },
    "kernelspec": {
      "name": "python3",
      "display_name": "Python 3"
    },
    "language_info": {
      "name": "python"
    }
  },
  "cells": [
    {
      "cell_type": "markdown",
      "source": [
        "## String\n",
        "---\n",
        "`String is nothing we can write the anything between the quote's `\n",
        "\n",
        "`string is to be immutable we can't increase or decrease the memory`\n",
        "\n",
        "\n"
      ],
      "metadata": {
        "id": "P5UZaaOrBhqc"
      }
    },
    {
      "cell_type": "markdown",
      "source": [
        "**String functions**\n"
      ],
      "metadata": {
        "id": "PZ2Txn4hOJzk"
      }
    },
    {
      "cell_type": "code",
      "source": [
        "#index is to be 2 types in string forward indexing and backwordindexing\n",
        "#Forward indexing starts with 0,1,2,3.....\n",
        "a='data science'\n",
        "print(a[2])\n",
        "#Bacword indexing starts with -1,-2,-3....\n",
        "print(a[-4])"
      ],
      "metadata": {
        "colab": {
          "base_uri": "https://localhost:8080/"
        },
        "id": "piVYE-InOt9d",
        "outputId": "093a3ffc-2f0e-443a-b14b-e944fab1278e"
      },
      "execution_count": 2,
      "outputs": [
        {
          "output_type": "stream",
          "name": "stdout",
          "text": [
            "t\n",
            "e\n"
          ]
        }
      ]
    },
    {
      "cell_type": "code",
      "source": [
        "#slicing -- To access multiple charcters\n",
        "#syntax a[star_point : End_point]\n",
        "a=\"data science\"\n",
        "print(a[2:4])\n",
        "#start_point -- will be start and print the until end of the varible\n",
        "print(a[2:])\n",
        "#End_point -- will be end and print the until where we can  stop the varible\n",
        "print(a[:4])\n",
        "\n"
      ],
      "metadata": {
        "colab": {
          "base_uri": "https://localhost:8080/"
        },
        "id": "iIuf9_5dPxi8",
        "outputId": "f6cb5feb-33b5-4eb5-f6d8-d82f1cd691aa"
      },
      "execution_count": 5,
      "outputs": [
        {
          "output_type": "stream",
          "name": "stdout",
          "text": [
            "ta\n",
            "ta science\n",
            "data\n"
          ]
        }
      ]
    },
    {
      "cell_type": "code",
      "source": [
        "#skipping syntax -- [s_p : E_p : skipping_value]\n",
        "a=\"data science\"\n",
        "print(a[2:4:2])\n",
        "#reverse the enter string\n",
        "print(a[::-1])\n"
      ],
      "metadata": {
        "colab": {
          "base_uri": "https://localhost:8080/"
        },
        "id": "NhvBOJbZRKtC",
        "outputId": "40c16b5b-cc71-4e59-c3f3-c37096dae8a3"
      },
      "execution_count": 6,
      "outputs": [
        {
          "output_type": "stream",
          "name": "stdout",
          "text": [
            "t\n",
            "ecneics atad\n"
          ]
        }
      ]
    },
    {
      "cell_type": "code",
      "source": [
        "# Capitalized Functions\n",
        "a = \"i working IN INDIA\"\n",
        "print(a.capitalize())"
      ],
      "metadata": {
        "colab": {
          "base_uri": "https://localhost:8080/"
        },
        "id": "8KLlYWgIBlgn",
        "outputId": "aafed3e5-0e69-4749-f5b4-7f7d8de861a2"
      },
      "execution_count": null,
      "outputs": [
        {
          "output_type": "stream",
          "name": "stdout",
          "text": [
            "I working in india\n"
          ]
        }
      ]
    },
    {
      "cell_type": "code",
      "source": [
        "#Title Function\n",
        "a = \"i working IN INDIA\"\n",
        "print(a.title())"
      ],
      "metadata": {
        "colab": {
          "base_uri": "https://localhost:8080/"
        },
        "id": "uzShxOm-B3Dk",
        "outputId": "1f9b01f1-a0ed-49d9-d654-88859bedd510"
      },
      "execution_count": null,
      "outputs": [
        {
          "output_type": "stream",
          "name": "stdout",
          "text": [
            "I Working In India\n"
          ]
        }
      ]
    },
    {
      "cell_type": "code",
      "source": [
        "#lower\n",
        "a=\"INDIa\"\n",
        "print(a.lower())"
      ],
      "metadata": {
        "colab": {
          "base_uri": "https://localhost:8080/"
        },
        "id": "L95XTgOuEI_5",
        "outputId": "d69bd097-708b-46c4-a69a-468b3707b28f"
      },
      "execution_count": null,
      "outputs": [
        {
          "output_type": "stream",
          "name": "stdout",
          "text": [
            "india\n"
          ]
        }
      ]
    },
    {
      "cell_type": "code",
      "source": [
        "#Upper\n",
        "a=\"india\"\n",
        "print(a.upper())\n"
      ],
      "metadata": {
        "colab": {
          "base_uri": "https://localhost:8080/"
        },
        "id": "21spbhXmGMjX",
        "outputId": "ee536bb2-c160-4039-ca24-3263f3c9ba18"
      },
      "execution_count": null,
      "outputs": [
        {
          "output_type": "stream",
          "name": "stdout",
          "text": [
            "INDIA\n"
          ]
        }
      ]
    },
    {
      "cell_type": "code",
      "source": [
        "#islower\n",
        "a='india'\n",
        "print(a.islower())"
      ],
      "metadata": {
        "colab": {
          "base_uri": "https://localhost:8080/"
        },
        "id": "UD6AHmfuGWHO",
        "outputId": "19131bcb-a444-46c5-8636-91603e942cd5"
      },
      "execution_count": null,
      "outputs": [
        {
          "output_type": "stream",
          "name": "stdout",
          "text": [
            "True\n"
          ]
        }
      ]
    },
    {
      "cell_type": "code",
      "source": [
        "#islower\n",
        "a='inNia'\n",
        "print(a.islower())"
      ],
      "metadata": {
        "colab": {
          "base_uri": "https://localhost:8080/"
        },
        "id": "qNPxB6mvUTg7",
        "outputId": "ea7ecdb2-139f-43a7-bf84-f091ff0e2abc"
      },
      "execution_count": null,
      "outputs": [
        {
          "output_type": "stream",
          "name": "stdout",
          "text": [
            "False\n"
          ]
        }
      ]
    },
    {
      "cell_type": "code",
      "source": [
        "#isupper\n",
        "a=\"INDIA\"\n",
        "print(a.isupper())"
      ],
      "metadata": {
        "colab": {
          "base_uri": "https://localhost:8080/"
        },
        "id": "cUoDrxUlTkyJ",
        "outputId": "4d0bee10-1624-43c9-d365-3f9d236d1dc6"
      },
      "execution_count": null,
      "outputs": [
        {
          "output_type": "stream",
          "name": "stdout",
          "text": [
            "True\n"
          ]
        }
      ]
    },
    {
      "cell_type": "code",
      "source": [
        "#isupper\n",
        "a=\"INdIA\"\n",
        "print(a.isupper())"
      ],
      "metadata": {
        "colab": {
          "base_uri": "https://localhost:8080/"
        },
        "id": "x_1vjMW6Un96",
        "outputId": "6074cfb8-0604-4977-b866-cbe1e921c6b5"
      },
      "execution_count": null,
      "outputs": [
        {
          "output_type": "stream",
          "name": "stdout",
          "text": [
            "False\n"
          ]
        }
      ]
    },
    {
      "cell_type": "code",
      "source": [
        "#replace\n",
        "a='data science'\n",
        "a=a.replace('a','p')\n",
        "print(a)"
      ],
      "metadata": {
        "colab": {
          "base_uri": "https://localhost:8080/"
        },
        "id": "W7qJwFuMUM_6",
        "outputId": "c891bb7e-1ef2-4f72-f415-aacedcc8af12"
      },
      "execution_count": null,
      "outputs": [
        {
          "output_type": "stream",
          "name": "stdout",
          "text": [
            "dptp science\n"
          ]
        }
      ]
    },
    {
      "cell_type": "code",
      "source": [
        "#replace\n",
        "a='data science'\n",
        "a=a.replace('a','p',1)\n",
        "print(a)"
      ],
      "metadata": {
        "colab": {
          "base_uri": "https://localhost:8080/"
        },
        "id": "NjLBmfubVX81",
        "outputId": "b555ce40-558f-4212-9cb6-8e4a868ab3cd"
      },
      "execution_count": null,
      "outputs": [
        {
          "output_type": "stream",
          "name": "stdout",
          "text": [
            "dpta science\n"
          ]
        }
      ]
    },
    {
      "cell_type": "code",
      "source": [
        "#replace\n",
        "a='data science'\n",
        "a1=a[:2]\n",
        "print(a1)\n",
        "a2=a[2:4]\n",
        "print(a2)\n",
        "a3=a[5:]\n",
        "print(a3)\n",
        "a2=a2.replace('a','p')\n",
        "print(a2)\n",
        "print(a1+a2+' '+a3)"
      ],
      "metadata": {
        "colab": {
          "base_uri": "https://localhost:8080/"
        },
        "id": "PdAkUncYVa74",
        "outputId": "4c036f33-166c-4d22-e177-ae0c1f26ca74"
      },
      "execution_count": null,
      "outputs": [
        {
          "output_type": "stream",
          "name": "stdout",
          "text": [
            "da\n",
            "ta\n",
            "science\n",
            "tp\n",
            "datp science\n"
          ]
        }
      ]
    },
    {
      "cell_type": "code",
      "source": [
        "#isalpha\n",
        "a=\"BLANGLADESH\"\n",
        "print(a.isalpha())"
      ],
      "metadata": {
        "colab": {
          "base_uri": "https://localhost:8080/"
        },
        "id": "53RIElNHXI1v",
        "outputId": "5e99bf77-c854-4650-c7ca-abe272cfae27"
      },
      "execution_count": null,
      "outputs": [
        {
          "output_type": "stream",
          "name": "stdout",
          "text": [
            "True\n"
          ]
        }
      ]
    },
    {
      "cell_type": "code",
      "source": [
        "#isalpha\n",
        "a=\"BLANGlADESH12\"\n",
        "print(a.isalpha())"
      ],
      "metadata": {
        "colab": {
          "base_uri": "https://localhost:8080/"
        },
        "id": "hicaRYM4YgtM",
        "outputId": "6679ac8a-34aa-4334-ac2d-15d97c7c92e3"
      },
      "execution_count": null,
      "outputs": [
        {
          "output_type": "stream",
          "name": "stdout",
          "text": [
            "False\n"
          ]
        }
      ]
    },
    {
      "cell_type": "code",
      "source": [
        "#isNUmaric\n",
        "a='12345'\n",
        "print(a.isnumeric())"
      ],
      "metadata": {
        "colab": {
          "base_uri": "https://localhost:8080/"
        },
        "id": "9gO6SF7NYlf5",
        "outputId": "6aa4fae5-53fd-4b44-894b-8eb5770e9324"
      },
      "execution_count": null,
      "outputs": [
        {
          "output_type": "stream",
          "name": "stdout",
          "text": [
            "True\n"
          ]
        }
      ]
    },
    {
      "cell_type": "code",
      "source": [
        "#isNUmaric\n",
        "a='12345nh'\n",
        "print(a.isnumeric())"
      ],
      "metadata": {
        "colab": {
          "base_uri": "https://localhost:8080/"
        },
        "id": "DK97e8LtY12k",
        "outputId": "b57c7676-f5f6-4497-a995-eb7aed4fa02f"
      },
      "execution_count": null,
      "outputs": [
        {
          "output_type": "stream",
          "name": "stdout",
          "text": [
            "False\n"
          ]
        }
      ]
    },
    {
      "cell_type": "code",
      "source": [
        "#isalnumaric\n",
        "a='kumar123'\n",
        "print(a.isalnum())"
      ],
      "metadata": {
        "colab": {
          "base_uri": "https://localhost:8080/"
        },
        "id": "F2-N1EH-Y41M",
        "outputId": "41007f4d-d2b2-4f27-b8f9-2e0d6abab6f3"
      },
      "execution_count": null,
      "outputs": [
        {
          "output_type": "stream",
          "name": "stdout",
          "text": [
            "True\n"
          ]
        }
      ]
    },
    {
      "cell_type": "code",
      "source": [
        "#isalnumaric\n",
        "a='kumar123!'\n",
        "print(a.isalnum())"
      ],
      "metadata": {
        "colab": {
          "base_uri": "https://localhost:8080/"
        },
        "id": "8kZJqmwlZJwe",
        "outputId": "6d79938a-a72f-476f-9b34-13f3f071aab8"
      },
      "execution_count": null,
      "outputs": [
        {
          "output_type": "stream",
          "name": "stdout",
          "text": [
            "False\n"
          ]
        }
      ]
    },
    {
      "cell_type": "code",
      "source": [
        "#startswith\n",
        "a=\"unitedKingdom\"\n",
        "print(a.startswith('u'))"
      ],
      "metadata": {
        "colab": {
          "base_uri": "https://localhost:8080/"
        },
        "id": "O3TvMTp5ZXuh",
        "outputId": "ac7d82c9-1328-48d7-d21f-9cf97c3b5dbf"
      },
      "execution_count": null,
      "outputs": [
        {
          "output_type": "stream",
          "name": "stdout",
          "text": [
            "True\n"
          ]
        }
      ]
    },
    {
      "cell_type": "code",
      "source": [
        "#startswith\n",
        "a=\"unitedKingdom\"\n",
        "print(a.startswith('a'))"
      ],
      "metadata": {
        "colab": {
          "base_uri": "https://localhost:8080/"
        },
        "id": "3tTMJZWpZ2a1",
        "outputId": "320f8315-8545-4b9f-c012-e8211d1373fd"
      },
      "execution_count": null,
      "outputs": [
        {
          "output_type": "stream",
          "name": "stdout",
          "text": [
            "False\n"
          ]
        }
      ]
    },
    {
      "cell_type": "code",
      "source": [
        "#endswith\n",
        "a=\"unitedKingdom\"\n",
        "print(a.endswith('m'))"
      ],
      "metadata": {
        "colab": {
          "base_uri": "https://localhost:8080/"
        },
        "id": "O3G0-eigZ7d-",
        "outputId": "e2dc9cc9-e023-4030-9990-6e07d6624067"
      },
      "execution_count": null,
      "outputs": [
        {
          "output_type": "stream",
          "name": "stdout",
          "text": [
            "True\n"
          ]
        }
      ]
    },
    {
      "cell_type": "code",
      "source": [
        "#endswith\n",
        "a=\"unitedKingdom\"\n",
        "print(a.endswith('u'))"
      ],
      "metadata": {
        "colab": {
          "base_uri": "https://localhost:8080/"
        },
        "id": "GA4hIFJ5aBfs",
        "outputId": "bc3a0f96-7c30-4e19-a137-062012668cc2"
      },
      "execution_count": null,
      "outputs": [
        {
          "output_type": "stream",
          "name": "stdout",
          "text": [
            "False\n"
          ]
        }
      ]
    },
    {
      "cell_type": "code",
      "source": [
        "#count\n",
        "a=\"kumar123\"\n",
        "print(a.count('a'))"
      ],
      "metadata": {
        "colab": {
          "base_uri": "https://localhost:8080/"
        },
        "id": "bniAkNfLaEri",
        "outputId": "09dc4fba-4208-4cba-926d-4a02a1a0aa28"
      },
      "execution_count": null,
      "outputs": [
        {
          "output_type": "stream",
          "name": "stdout",
          "text": [
            "1\n"
          ]
        }
      ]
    },
    {
      "cell_type": "code",
      "source": [
        "#index\n",
        "a=\"data science\"\n",
        "print(a.index(\"i\"))"
      ],
      "metadata": {
        "colab": {
          "base_uri": "https://localhost:8080/"
        },
        "id": "Z8JPO_xSa2hv",
        "outputId": "6f388eea-ec00-4c5c-f273-b88e1c6bd186"
      },
      "execution_count": null,
      "outputs": [
        {
          "output_type": "stream",
          "name": "stdout",
          "text": [
            "7\n"
          ]
        }
      ]
    },
    {
      "cell_type": "code",
      "source": [
        "#membership function\n",
        "a=\"i love programming\"\n",
        "print(\"ve\" in a)"
      ],
      "metadata": {
        "colab": {
          "base_uri": "https://localhost:8080/"
        },
        "id": "6_4FBYK0bTtB",
        "outputId": "19bccd6b-3bb1-4427-9aba-175e1113d6f1"
      },
      "execution_count": null,
      "outputs": [
        {
          "output_type": "stream",
          "name": "stdout",
          "text": [
            "True\n"
          ]
        }
      ]
    },
    {
      "cell_type": "code",
      "source": [
        "#membership function\n",
        "a=\"i love programming\"\n",
        "print(\"ve\"not in a)"
      ],
      "metadata": {
        "colab": {
          "base_uri": "https://localhost:8080/"
        },
        "id": "BqZpodVIcV3S",
        "outputId": "a9fab1dd-d592-4572-97b5-5519bb365bb5"
      },
      "execution_count": null,
      "outputs": [
        {
          "output_type": "stream",
          "name": "stdout",
          "text": [
            "False\n"
          ]
        }
      ]
    },
    {
      "cell_type": "code",
      "source": [
        "#ascii --> American standard code for information interchange\n",
        "python='ab'\n",
        "java='AB'\n",
        "print(python > java)"
      ],
      "metadata": {
        "colab": {
          "base_uri": "https://localhost:8080/"
        },
        "id": "oJPKQ90JcZ67",
        "outputId": "9a15a2a1-8c60-4c47-a547-3329a8d68ad4"
      },
      "execution_count": null,
      "outputs": [
        {
          "output_type": "stream",
          "name": "stdout",
          "text": [
            "True\n"
          ]
        }
      ]
    },
    {
      "cell_type": "code",
      "source": [
        "# find ascii value for given character\n",
        "a='k'\n",
        "print(ord(a))"
      ],
      "metadata": {
        "colab": {
          "base_uri": "https://localhost:8080/"
        },
        "id": "3n1mE0qcdz1z",
        "outputId": "c0f14831-f3d0-413b-e7bd-eed3da95fdd0"
      },
      "execution_count": null,
      "outputs": [
        {
          "output_type": "stream",
          "name": "stdout",
          "text": [
            "107\n"
          ]
        }
      ]
    },
    {
      "cell_type": "code",
      "source": [
        "print(ord('#'))\n",
        "print(chr(35))"
      ],
      "metadata": {
        "colab": {
          "base_uri": "https://localhost:8080/"
        },
        "id": "55UmZDLsfHoK",
        "outputId": "e4a844ed-48b0-4dc9-f8d9-1c1eb7e73d48"
      },
      "execution_count": null,
      "outputs": [
        {
          "output_type": "stream",
          "name": "stdout",
          "text": [
            "35\n",
            "#\n"
          ]
        }
      ]
    },
    {
      "cell_type": "code",
      "source": [
        "#find ascii foe the given number\n",
        "print(ord('n'))\n",
        "print(chr(110))"
      ],
      "metadata": {
        "colab": {
          "base_uri": "https://localhost:8080/"
        },
        "id": "wJTTb77zeaZN",
        "outputId": "8d2de7af-1a4c-4fd7-d269-d2384eec1cfe"
      },
      "execution_count": null,
      "outputs": [
        {
          "output_type": "stream",
          "name": "stdout",
          "text": [
            "110\n",
            "n\n"
          ]
        }
      ]
    }
  ]
}