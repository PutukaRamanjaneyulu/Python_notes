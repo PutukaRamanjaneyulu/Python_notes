{
  "nbformat": 4,
  "nbformat_minor": 0,
  "metadata": {
    "colab": {
      "provenance": []
    },
    "kernelspec": {
      "name": "python3",
      "display_name": "Python 3"
    },
    "language_info": {
      "name": "python"
    }
  },
  "cells": [
    {
      "cell_type": "markdown",
      "source": [
        "# **Dictionary**\n",
        "\n",
        "\n",
        "---\n",
        "\n",
        "\n",
        "\n",
        "1.   The dictionary will be represent with the -> {} but contains the Key value and pair\n",
        "2.   Key means -> Key nothing but a Column name & value means -> inside column data\n",
        "3.   The Dict is don't have the index concept -> Then there is no index concept no slicing and skipping concept is not there\n",
        "4.  The dict is to created the data in the backend but show the table format we need to use the pandas liabrary\n",
        "5.  In the dict have the keys and values -> key [column name], value [is to de inside the data] , we can access the value using the column name(key)\n",
        "\n",
        "\n",
        "\n"
      ],
      "metadata": {
        "id": "UxQfC2eO1Z2F"
      }
    },
    {
      "cell_type": "code",
      "source": [
        "# single value\n",
        "a={'name':'John',\"age\":25,'salary':1200}\n",
        "print(a)"
      ],
      "metadata": {
        "colab": {
          "base_uri": "https://localhost:8080/"
        },
        "id": "fh8Cch-F3gGy",
        "outputId": "d2194171-e8d9-40f8-c5ae-acb4e53c4632"
      },
      "execution_count": 1,
      "outputs": [
        {
          "output_type": "stream",
          "name": "stdout",
          "text": [
            "{'name': 'John', 'age': 25, 'salary': 1200}\n"
          ]
        }
      ]
    },
    {
      "cell_type": "code",
      "source": [
        "# Multipule value\n",
        "a={'name':['john','peter','mechal'],\"age\":[25,30,56],'salary':[1200,1500,1800]}\n",
        "print(a)"
      ],
      "metadata": {
        "colab": {
          "base_uri": "https://localhost:8080/"
        },
        "id": "58ducp4c3qYx",
        "outputId": "f2cb6861-484f-4e63-cf10-eddbf41c60e8"
      },
      "execution_count": 3,
      "outputs": [
        {
          "output_type": "stream",
          "name": "stdout",
          "text": [
            "{'name': ['john', 'peter', 'mechal'], 'age': [25, 30, 56], 'salary': [1200, 1500, 1800]}\n"
          ]
        }
      ]
    },
    {
      "cell_type": "code",
      "source": [
        "#access values#\n",
        "a={'name':['john','peter','mechal'],\"age\":[25,30,56],'salary':[1200,1500,1800]}\n",
        "print(a['age'])\n"
      ],
      "metadata": {
        "colab": {
          "base_uri": "https://localhost:8080/"
        },
        "id": "4vbqLcZh5xLz",
        "outputId": "3befce21-bab9-44bf-8c65-260480826c55"
      },
      "execution_count": 4,
      "outputs": [
        {
          "output_type": "stream",
          "name": "stdout",
          "text": [
            "[25, 30, 56]\n"
          ]
        }
      ]
    },
    {
      "cell_type": "code",
      "source": [
        "#access column we can give the index value\n",
        "a={'name':['john','peter','mechal'],\"age\":[25,30,56],'salary':[1200,1500,1800]}\n",
        "print(a['age'][1])"
      ],
      "metadata": {
        "colab": {
          "base_uri": "https://localhost:8080/"
        },
        "id": "iYd-fijk6Cjm",
        "outputId": "62a1e01a-3e78-4590-e37e-2d9eb54832b2"
      },
      "execution_count": 5,
      "outputs": [
        {
          "output_type": "stream",
          "name": "stdout",
          "text": [
            "30\n"
          ]
        }
      ]
    },
    {
      "cell_type": "markdown",
      "source": [
        "#### Same key columns in the dict\n",
        "- `The same (column) the values will be override the last value what we paseed`\n",
        "- `In place of values we can pass anything [any datatype]`\n",
        "- `In place of key we can pass only immutable datatype mutable datatype are not possible in the dictionary`"
      ],
      "metadata": {
        "id": "0lIv-goJ6SEc"
      }
    },
    {
      "cell_type": "code",
      "source": [
        "# same column\n",
        "a={'name':'John',\"age\":25,'salary':1200,'age':50}\n",
        "print(a)"
      ],
      "metadata": {
        "colab": {
          "base_uri": "https://localhost:8080/"
        },
        "id": "xdNNC7t06O7I",
        "outputId": "1b76c9eb-bc76-4bdc-ffde-0f18bfeeb03f"
      },
      "execution_count": 6,
      "outputs": [
        {
          "output_type": "stream",
          "name": "stdout",
          "text": [
            "{'name': 'John', 'age': 50, 'salary': 1200}\n"
          ]
        }
      ]
    },
    {
      "cell_type": "code",
      "source": [
        "# in place of values\n",
        "a={'name':'John',\"age\":25.5,'salary':(20,30),'emi':{20,50}}\n",
        "print(a)"
      ],
      "metadata": {
        "colab": {
          "base_uri": "https://localhost:8080/"
        },
        "id": "qyHxmDbW7Z4r",
        "outputId": "a392ae9e-fbd7-47f9-dc56-cc00fb5b896c"
      },
      "execution_count": 7,
      "outputs": [
        {
          "output_type": "stream",
          "name": "stdout",
          "text": [
            "{'name': 'John', 'age': 25.5, 'salary': (20, 30), 'emi': {50, 20}}\n"
          ]
        }
      ]
    },
    {
      "cell_type": "code",
      "source": [
        "# in place of values\n",
        "a={1:'john',20.2:20.2,'age':30,(20,50):80,[20,30]:80}\n",
        "print(a)"
      ],
      "metadata": {
        "colab": {
          "base_uri": "https://localhost:8080/",
          "height": 176
        },
        "id": "Z0xoApXZ7wx_",
        "outputId": "3f929c6f-cf4b-4af2-a625-14c44694b34f"
      },
      "execution_count": 9,
      "outputs": [
        {
          "output_type": "error",
          "ename": "TypeError",
          "evalue": "unhashable type: 'list'",
          "traceback": [
            "\u001b[0;31m---------------------------------------------------------------------------\u001b[0m",
            "\u001b[0;31mTypeError\u001b[0m                                 Traceback (most recent call last)",
            "\u001b[0;32m<ipython-input-9-589aa29eb8b9>\u001b[0m in \u001b[0;36m<cell line: 0>\u001b[0;34m()\u001b[0m\n\u001b[1;32m      1\u001b[0m \u001b[0;31m# in place of values\u001b[0m\u001b[0;34m\u001b[0m\u001b[0;34m\u001b[0m\u001b[0m\n\u001b[0;32m----> 2\u001b[0;31m \u001b[0ma\u001b[0m\u001b[0;34m=\u001b[0m\u001b[0;34m{\u001b[0m\u001b[0;36m1\u001b[0m\u001b[0;34m:\u001b[0m\u001b[0;34m'john'\u001b[0m\u001b[0;34m,\u001b[0m\u001b[0;36m20.2\u001b[0m\u001b[0;34m:\u001b[0m\u001b[0;36m20.2\u001b[0m\u001b[0;34m,\u001b[0m\u001b[0;34m'age'\u001b[0m\u001b[0;34m:\u001b[0m\u001b[0;36m30\u001b[0m\u001b[0;34m,\u001b[0m\u001b[0;34m(\u001b[0m\u001b[0;36m20\u001b[0m\u001b[0;34m,\u001b[0m\u001b[0;36m50\u001b[0m\u001b[0;34m)\u001b[0m\u001b[0;34m:\u001b[0m\u001b[0;36m80\u001b[0m\u001b[0;34m,\u001b[0m\u001b[0;34m[\u001b[0m\u001b[0;36m20\u001b[0m\u001b[0;34m,\u001b[0m\u001b[0;36m30\u001b[0m\u001b[0;34m]\u001b[0m\u001b[0;34m:\u001b[0m\u001b[0;36m80\u001b[0m\u001b[0;34m}\u001b[0m\u001b[0;34m\u001b[0m\u001b[0;34m\u001b[0m\u001b[0m\n\u001b[0m\u001b[1;32m      3\u001b[0m \u001b[0mprint\u001b[0m\u001b[0;34m(\u001b[0m\u001b[0ma\u001b[0m\u001b[0;34m)\u001b[0m\u001b[0;34m\u001b[0m\u001b[0;34m\u001b[0m\u001b[0m\n",
            "\u001b[0;31mTypeError\u001b[0m: unhashable type: 'list'"
          ]
        }
      ]
    },
    {
      "cell_type": "markdown",
      "source": [
        "# **Dictionary is to be mutable or immutable -> Prove it**\n",
        "---\n",
        "1.  Mutable means -> we can increase the memory and decrease the memory\n",
        "2.  Immutable means -> we cann't increase the memory and decrease the memory"
      ],
      "metadata": {
        "id": "Ku9knHkA8Wpc"
      }
    },
    {
      "cell_type": "code",
      "source": [
        "#Rule : 1 Trying to increase the memory : (The memory will bw incresed)\n",
        "fruits={'apple':100,'banana':200,'carrot':300}\n",
        "print(f'before {fruits}')\n",
        "\n",
        "fruits['graphes']=500\n",
        "print(f'after {fruits}')\n"
      ],
      "metadata": {
        "colab": {
          "base_uri": "https://localhost:8080/"
        },
        "id": "SNtun0vM8RjJ",
        "outputId": "6b133926-e4b9-426e-e0ec-f0369562dbdb"
      },
      "execution_count": 11,
      "outputs": [
        {
          "output_type": "stream",
          "name": "stdout",
          "text": [
            "before {'apple': 100, 'banana': 200, 'carrot': 300}\n",
            "after {'apple': 100, 'banana': 200, 'carrot': 300, 'graphes': 500}\n"
          ]
        }
      ]
    },
    {
      "cell_type": "code",
      "source": [
        "#Rule : 2 Trying to Decrease the memory : (The memory will bw Decrease)\n",
        "fruits={'apple': 100, 'banana': 200, 'carrot': 300, 'graphes': 500}\n",
        "print(f'before {fruits}')\n",
        "\n",
        "del fruits['graphes']\n",
        "print(f'after {fruits}')\n"
      ],
      "metadata": {
        "colab": {
          "base_uri": "https://localhost:8080/"
        },
        "id": "M9GISYN29rRy",
        "outputId": "ff0b74d0-2720-47a8-f389-112d8bfc19ac"
      },
      "execution_count": 14,
      "outputs": [
        {
          "output_type": "stream",
          "name": "stdout",
          "text": [
            "before {'apple': 100, 'banana': 200, 'carrot': 300, 'graphes': 500}\n",
            "after {'apple': 100, 'banana': 200, 'carrot': 300}\n"
          ]
        }
      ]
    },
    {
      "cell_type": "markdown",
      "source": [
        "## **From the above operations we can sy that the dict is to be mutable**"
      ],
      "metadata": {
        "id": "U5M32MpF-VJz"
      }
    },
    {
      "cell_type": "markdown",
      "source": [
        "### **Built in Functions**\n",
        "\n",
        "\n",
        "---\n",
        "\n",
        "\n",
        "\n",
        "*   Get\n",
        "*   Update\n",
        "*   Pop\n",
        "*   PopItem\n",
        "*   Keys\n",
        "*   Values\n",
        "*   Items\n",
        "*   Clear\n",
        "*   Copy\n",
        "\n"
      ],
      "metadata": {
        "id": "5Ig6Za5e_A7G"
      }
    },
    {
      "cell_type": "code",
      "source": [
        "# Manual calling\n",
        "a={'name':['john','peter','mechal'],\"age\":[25,30,56],'salary':[1200,1500,1800]}\n",
        "print(a['age'])\n"
      ],
      "metadata": {
        "colab": {
          "base_uri": "https://localhost:8080/"
        },
        "id": "A_9-K4bC-MXJ",
        "outputId": "24362bde-7db8-4683-d005-1c5814b9c1ee"
      },
      "execution_count": 15,
      "outputs": [
        {
          "output_type": "stream",
          "name": "stdout",
          "text": [
            "[25, 30, 56]\n"
          ]
        }
      ]
    },
    {
      "cell_type": "code",
      "source": [
        "#using Built in function\n",
        "a={'name':['john','peter','mechal'],\"age\":[25,30,56],'salary':[1200,1500,1800]}\n",
        "print(a.get('age'))"
      ],
      "metadata": {
        "colab": {
          "base_uri": "https://localhost:8080/"
        },
        "id": "GVRV8eOs_suT",
        "outputId": "321e8d11-9025-4940-d561-5ee74693927d"
      },
      "execution_count": 18,
      "outputs": [
        {
          "output_type": "stream",
          "name": "stdout",
          "text": [
            "[25, 30, 56]\n"
          ]
        }
      ]
    },
    {
      "cell_type": "code",
      "source": [
        "# manual\n",
        "a={'name':'John',\"age\":25,'salary':1200,'age':50}\n",
        "print(a)"
      ],
      "metadata": {
        "colab": {
          "base_uri": "https://localhost:8080/"
        },
        "id": "xZHaBqno_2yg",
        "outputId": "f68e675b-e9cd-4e29-b236-e5ae4ff32352"
      },
      "execution_count": 19,
      "outputs": [
        {
          "output_type": "stream",
          "name": "stdout",
          "text": [
            "{'name': 'John', 'age': 50, 'salary': 1200}\n"
          ]
        }
      ]
    },
    {
      "cell_type": "code",
      "source": [
        "# using the Update function\n",
        "a={'name':'John',\"age\":25,'salary':1200,}\n",
        "\n",
        "a.update({'salary':1800})\n",
        "print(a)"
      ],
      "metadata": {
        "colab": {
          "base_uri": "https://localhost:8080/"
        },
        "id": "7LqQhFB8ATRZ",
        "outputId": "a11c7336-bd8f-4e7e-9b07-fb5fa990a74c"
      },
      "execution_count": 26,
      "outputs": [
        {
          "output_type": "stream",
          "name": "stdout",
          "text": [
            "{'name': 'John', 'age': 25, 'salary': 1800}\n"
          ]
        }
      ]
    },
    {
      "cell_type": "code",
      "source": [
        "# Pop : The pop will be take the column name by user and they we will be removed\n",
        "fruits={'apple': 100, 'banana': 200, 'carrot': 300, 'graphes': 500}\n",
        "print(f'before Pop() : {fruits}')\n",
        "\n",
        "fruits.pop('carrot')\n",
        "print(f'after Pop() : {fruits}')\n"
      ],
      "metadata": {
        "colab": {
          "base_uri": "https://localhost:8080/"
        },
        "id": "AnB-pZKjB7iw",
        "outputId": "9aadc5da-c54c-430a-8699-f454553d4a45"
      },
      "execution_count": 29,
      "outputs": [
        {
          "output_type": "stream",
          "name": "stdout",
          "text": [
            "before Pop() : {'apple': 100, 'banana': 200, 'carrot': 300, 'graphes': 500}\n",
            "after Pop() : {'apple': 100, 'banana': 200, 'graphes': 500}\n"
          ]
        }
      ]
    },
    {
      "cell_type": "code",
      "source": [
        "# Popitem : The popitem will be take the last colimn\n",
        "fruits={'apple': 100, 'banana': 200, 'carrot': 300, 'graphes': 500}\n",
        "print(f'before Popitem() : {fruits}')\n",
        "\n",
        "fruits.popitem()\n",
        "print(f'after Popitem() : {fruits}')\n"
      ],
      "metadata": {
        "colab": {
          "base_uri": "https://localhost:8080/"
        },
        "id": "PQErt2LDCgbJ",
        "outputId": "58640dd1-c629-4888-89af-cd69bd4ddd40"
      },
      "execution_count": 30,
      "outputs": [
        {
          "output_type": "stream",
          "name": "stdout",
          "text": [
            "before Popitem() : {'apple': 100, 'banana': 200, 'carrot': 300, 'graphes': 500}\n",
            "after Popitem() : {'apple': 100, 'banana': 200, 'carrot': 300}\n"
          ]
        }
      ]
    },
    {
      "cell_type": "code",
      "source": [
        "# Keys : The Keys Function will be give the keys (columns names)\n",
        "fruits={'apple': 100, 'banana': 200, 'carrot': 300, 'graphes': 500}\n",
        "\n",
        "print(fruits.keys())\n"
      ],
      "metadata": {
        "colab": {
          "base_uri": "https://localhost:8080/"
        },
        "id": "YKAUT-EgDop3",
        "outputId": "0fcbefb2-7507-44be-b934-b8e1f607c0cd"
      },
      "execution_count": 31,
      "outputs": [
        {
          "output_type": "stream",
          "name": "stdout",
          "text": [
            "dict_keys(['apple', 'banana', 'carrot', 'graphes'])\n"
          ]
        }
      ]
    },
    {
      "cell_type": "code",
      "source": [
        "# values : The values Function will be give the values (inside data columns)\n",
        "fruits={'apple': 100, 'banana': 200, 'carrot': 300, 'graphes': 500}\n",
        "\n",
        "print(fruits.values())\n"
      ],
      "metadata": {
        "colab": {
          "base_uri": "https://localhost:8080/"
        },
        "id": "lr4YXP-2D0zw",
        "outputId": "32c153eb-441d-43f0-aa89-1cfdb6cbb035"
      },
      "execution_count": 32,
      "outputs": [
        {
          "output_type": "stream",
          "name": "stdout",
          "text": [
            "dict_values([100, 200, 300, 500])\n"
          ]
        }
      ]
    },
    {
      "cell_type": "code",
      "source": [
        "# items : The items Function will be given both the key_values\n",
        "fruits={'apple': 100, 'banana': 200, 'carrot': 300, 'graphes': 500}\n",
        "\n",
        "print(fruits.items())\n"
      ],
      "metadata": {
        "colab": {
          "base_uri": "https://localhost:8080/"
        },
        "id": "9Zl-DwxZEI2w",
        "outputId": "03fa5b06-171a-496f-fc06-cbbe47eb8254"
      },
      "execution_count": 33,
      "outputs": [
        {
          "output_type": "stream",
          "name": "stdout",
          "text": [
            "dict_items([('apple', 100), ('banana', 200), ('carrot', 300), ('graphes', 500)])\n"
          ]
        }
      ]
    },
    {
      "cell_type": "code",
      "source": [
        "# copy : The copy Function will have 2 types Deep copy and Shallow copr\n",
        "fruits={'apple': 100, 'banana': 200, 'carrot': 300, 'graphes': 500}\n",
        "b= fruits # Deep copy\n",
        "\n",
        "print(fruits)\n",
        "print(b)\n",
        "\n",
        "print(id(fruits))\n",
        "print(id(b))\n",
        "\n",
        "fruits['orenge']=150\n",
        "\n",
        "print(fruits)\n",
        "print(b)"
      ],
      "metadata": {
        "colab": {
          "base_uri": "https://localhost:8080/"
        },
        "id": "Nv11C6MCEeJY",
        "outputId": "caca93bd-6a1b-48c5-e1f0-a6a6f73f5719"
      },
      "execution_count": 34,
      "outputs": [
        {
          "output_type": "stream",
          "name": "stdout",
          "text": [
            "{'apple': 100, 'banana': 200, 'carrot': 300, 'graphes': 500}\n",
            "{'apple': 100, 'banana': 200, 'carrot': 300, 'graphes': 500}\n",
            "139764597939968\n",
            "139764597939968\n",
            "{'apple': 100, 'banana': 200, 'carrot': 300, 'graphes': 500, 'orenge': 150}\n",
            "{'apple': 100, 'banana': 200, 'carrot': 300, 'graphes': 500, 'orenge': 150}\n"
          ]
        }
      ]
    },
    {
      "cell_type": "code",
      "source": [
        "# copy : The copy Function will have 2 types Deep copy and Shallow copr\n",
        "fruits={'apple': 100, 'banana': 200, 'carrot': 300, 'graphes': 500}\n",
        "b= fruits.copy() # Shallow copy\n",
        "\n",
        "print(fruits)\n",
        "print(b)\n",
        "\n",
        "print(id(fruits))\n",
        "print(id(b))\n",
        "\n",
        "fruits['orenge']=150\n",
        "\n",
        "print(fruits)\n",
        "print(b)"
      ],
      "metadata": {
        "colab": {
          "base_uri": "https://localhost:8080/"
        },
        "id": "S_VBweOFFWL5",
        "outputId": "69a36c38-8642-4383-f66e-9cf48044d7a8"
      },
      "execution_count": 35,
      "outputs": [
        {
          "output_type": "stream",
          "name": "stdout",
          "text": [
            "{'apple': 100, 'banana': 200, 'carrot': 300, 'graphes': 500}\n",
            "{'apple': 100, 'banana': 200, 'carrot': 300, 'graphes': 500}\n",
            "139764607964480\n",
            "139764596979968\n",
            "{'apple': 100, 'banana': 200, 'carrot': 300, 'graphes': 500, 'orenge': 150}\n",
            "{'apple': 100, 'banana': 200, 'carrot': 300, 'graphes': 500}\n"
          ]
        }
      ]
    },
    {
      "cell_type": "code",
      "source": [
        "# Clear : The clear Function will be column data and variable is to be alive\n",
        "fruits={'apple': 100, 'banana': 200, 'carrot': 300, 'graphes': 500}\n",
        "\n",
        "fruits.clear()\n",
        "print(fruits)"
      ],
      "metadata": {
        "colab": {
          "base_uri": "https://localhost:8080/"
        },
        "id": "FFyZB9Y5FeHv",
        "outputId": "db88af67-170b-43b7-a116-2420924bd632"
      },
      "execution_count": 39,
      "outputs": [
        {
          "output_type": "stream",
          "name": "stdout",
          "text": [
            "{}\n"
          ]
        }
      ]
    },
    {
      "cell_type": "code",
      "source": [],
      "metadata": {
        "id": "Qc39N2iPF6hQ"
      },
      "execution_count": null,
      "outputs": []
    }
  ]
}