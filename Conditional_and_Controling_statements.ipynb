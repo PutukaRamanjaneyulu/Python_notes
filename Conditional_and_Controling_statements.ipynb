{
  "nbformat": 4,
  "nbformat_minor": 0,
  "metadata": {
    "colab": {
      "provenance": []
    },
    "kernelspec": {
      "name": "python3",
      "display_name": "Python 3"
    },
    "language_info": {
      "name": "python"
    }
  },
  "cells": [
    {
      "cell_type": "markdown",
      "source": [
        "# **Control Statements**\n",
        "- `For loop : how many times we want we can rotate`\n",
        "- `Iteration : Iteration means nothing but rotation`\n",
        "- `while loop`\n",
        "# **Conditional statements**\n",
        "- `if`\n",
        "- `else`\n",
        "- `elif`\n",
        "- `break`"
      ],
      "metadata": {
        "id": "GFFI6oRFfRti"
      }
    },
    {
      "cell_type": "code",
      "source": [
        "for i in range(11,16):\n",
        "  print(\"Gm\")"
      ],
      "metadata": {
        "colab": {
          "base_uri": "https://localhost:8080/"
        },
        "id": "czdnnLJWlHcY",
        "outputId": "5b92029e-4176-497f-addb-9ef5a87b838b"
      },
      "execution_count": 70,
      "outputs": [
        {
          "output_type": "stream",
          "name": "stdout",
          "text": [
            "Gm\n",
            "Gm\n",
            "Gm\n",
            "Gm\n",
            "Gm\n"
          ]
        }
      ]
    },
    {
      "cell_type": "code",
      "source": [
        "for i in range(11,15):\n",
        "  pass\n",
        "print('gm')"
      ],
      "metadata": {
        "colab": {
          "base_uri": "https://localhost:8080/"
        },
        "id": "UQPf4_xJfw2P",
        "outputId": "f11eeaee-7e8b-475d-a310-dcee67f189f8"
      },
      "execution_count": 69,
      "outputs": [
        {
          "output_type": "stream",
          "name": "stdout",
          "text": [
            "gm\n"
          ]
        }
      ]
    },
    {
      "cell_type": "markdown",
      "source": [
        "- `pass : pass the doing the nothing and go to the next line `\n"
      ],
      "metadata": {
        "id": "cHE1-KjtkQoc"
      }
    },
    {
      "cell_type": "code",
      "source": [
        "for i in range(11,15):\n",
        "  print(i+20)\n",
        "print('Good Evening')"
      ],
      "metadata": {
        "colab": {
          "base_uri": "https://localhost:8080/"
        },
        "id": "etxJIjWWkzz_",
        "outputId": "462b16f8-bdc2-4113-8154-78e8d1c54830"
      },
      "execution_count": 72,
      "outputs": [
        {
          "output_type": "stream",
          "name": "stdout",
          "text": [
            "31\n",
            "32\n",
            "33\n",
            "34\n",
            "Good Evening\n"
          ]
        }
      ]
    },
    {
      "cell_type": "code",
      "source": [
        "print(\"I am from Hyderbad\")\n",
        "print(\"I am from Chennai\")\n",
        "a=12\n",
        "print(a)\n",
        "for i in range(18,25):\n",
        "  print(i)\n",
        "print(\"I am from Chennai\")"
      ],
      "metadata": {
        "colab": {
          "base_uri": "https://localhost:8080/"
        },
        "id": "wHq3Hu9LkKkS",
        "outputId": "1dec5589-b51c-432f-f098-6b9a07638f92"
      },
      "execution_count": 73,
      "outputs": [
        {
          "output_type": "stream",
          "name": "stdout",
          "text": [
            "I am from Hyderbad\n",
            "I am from Chennai\n",
            "12\n",
            "18\n",
            "19\n",
            "20\n",
            "21\n",
            "22\n",
            "23\n",
            "24\n",
            "I am from Chennai\n"
          ]
        }
      ]
    },
    {
      "cell_type": "code",
      "source": [
        "for i in range(11,18):\n",
        "  print(i,end=\"->\")"
      ],
      "metadata": {
        "colab": {
          "base_uri": "https://localhost:8080/"
        },
        "id": "au-SWMCbmDol",
        "outputId": "b2e8b433-4379-4ab3-9df5-0ac8680f2e75"
      },
      "execution_count": 75,
      "outputs": [
        {
          "output_type": "stream",
          "name": "stdout",
          "text": [
            "11->12->13->14->15->16->17->"
          ]
        }
      ]
    },
    {
      "cell_type": "markdown",
      "source": [
        "## **Conditional Statements**\n",
        "- `If`\n",
        "- `else`\n",
        "- `elif`"
      ],
      "metadata": {
        "id": "EysF-PRMn84Q"
      }
    },
    {
      "cell_type": "code",
      "source": [
        "money=120000\n",
        "iphone=80000\n",
        "\n",
        "if money > iphone:\n",
        "  print('i can buy iphone')"
      ],
      "metadata": {
        "colab": {
          "base_uri": "https://localhost:8080/"
        },
        "id": "5PH995Ain93_",
        "outputId": "3a8790d7-78cc-4797-9edc-3379b975dd8d"
      },
      "execution_count": 77,
      "outputs": [
        {
          "output_type": "stream",
          "name": "stdout",
          "text": [
            "i can buy iphone\n"
          ]
        }
      ]
    },
    {
      "cell_type": "code",
      "source": [
        "money=20000\n",
        "iphone=80000\n",
        "\n",
        "if money > iphone:\n",
        "  print('i can buy iphone')\n",
        "else:\n",
        "  print('money is not sufficient')"
      ],
      "metadata": {
        "colab": {
          "base_uri": "https://localhost:8080/"
        },
        "id": "QeoqfTnEoAtU",
        "outputId": "1ed0ff82-9431-455c-f612-865a6bf1ceec"
      },
      "execution_count": 78,
      "outputs": [
        {
          "output_type": "stream",
          "name": "stdout",
          "text": [
            "money is not sufficient\n"
          ]
        }
      ]
    },
    {
      "cell_type": "code",
      "source": [
        "money=120000\n",
        "iphone=80000\n",
        "\n",
        "if money > iphone:\n",
        "  print('i can buy iphone')\n",
        "else:\n",
        "  print('money is not sufficient')"
      ],
      "metadata": {
        "colab": {
          "base_uri": "https://localhost:8080/"
        },
        "id": "oGZt9b8voAjN",
        "outputId": "512b260c-0a9d-4713-f1db-175bbfee0652"
      },
      "execution_count": 79,
      "outputs": [
        {
          "output_type": "stream",
          "name": "stdout",
          "text": [
            "i can buy iphone\n"
          ]
        }
      ]
    },
    {
      "cell_type": "code",
      "source": [
        "money=27000\n",
        "iphone=80000\n",
        "samsang=50000\n",
        "vivo=25000\n",
        "\n",
        "if money > iphone:\n",
        "  print('i can buy iphone')\n",
        "elif money > samsang:\n",
        "  print('i can buy samsang')\n",
        "elif money > vivo:\n",
        "  print('i can buy vivo')\n",
        "else:\n",
        "  print('money is not sufficient')"
      ],
      "metadata": {
        "colab": {
          "base_uri": "https://localhost:8080/"
        },
        "id": "x5PO3CACoAaP",
        "outputId": "845ca209-adb0-4fd6-bdd7-3175fe3b5838"
      },
      "execution_count": 81,
      "outputs": [
        {
          "output_type": "stream",
          "name": "stdout",
          "text": [
            "i can buy vivo\n"
          ]
        }
      ]
    },
    {
      "cell_type": "code",
      "source": [
        "money=60000\n",
        "iphone=80000\n",
        "samsang=50000\n",
        "vivo=25000\n",
        "\n",
        "if money > iphone:\n",
        "  print('i can buy iphone')\n",
        "elif money > samsang:\n",
        "  print('i can buy samsang')\n",
        "elif money > vivo:\n",
        "  print('i can buy vivo')\n",
        "else:\n",
        "  print('money is not sufficient')"
      ],
      "metadata": {
        "colab": {
          "base_uri": "https://localhost:8080/"
        },
        "id": "vFICQT6AoAQm",
        "outputId": "1ff3652b-fbe7-4afa-aaf4-b3ee00d2a2cc"
      },
      "execution_count": 82,
      "outputs": [
        {
          "output_type": "stream",
          "name": "stdout",
          "text": [
            "i can buy samsang\n"
          ]
        }
      ]
    },
    {
      "cell_type": "code",
      "source": [
        "money=30000\n",
        "iphone=80000\n",
        "samsang=50000\n",
        "vivo=25000\n",
        "\n",
        "if money > iphone:\n",
        "  print('i can buy iphone')\n",
        "elif money > samsang:\n",
        "  print('i can buy samsang')\n",
        "elif money > vivo:\n",
        "  print('i can buy vivo')\n",
        "else:\n",
        "  print('money is not sufficient')"
      ],
      "metadata": {
        "colab": {
          "base_uri": "https://localhost:8080/"
        },
        "id": "Zbx4EyvmrF7N",
        "outputId": "e1431f18-f8ed-4619-b804-8a4282333472"
      },
      "execution_count": 83,
      "outputs": [
        {
          "output_type": "stream",
          "name": "stdout",
          "text": [
            "i can buy vivo\n"
          ]
        }
      ]
    },
    {
      "cell_type": "code",
      "source": [
        "money=90000\n",
        "iphone=80000\n",
        "samsang=50000\n",
        "vivo=25000\n",
        "\n",
        "if money > iphone:\n",
        "  print('i can buy iphone')\n",
        "elif money > samsang:\n",
        "  print('i can buy samsang')\n",
        "elif money > vivo:\n",
        "  print('i can buy vivo')\n",
        "else:\n",
        "  print('money is not sufficient')\n",
        "print(\"i from hyderbad\")"
      ],
      "metadata": {
        "colab": {
          "base_uri": "https://localhost:8080/"
        },
        "id": "wDVLBySurFy_",
        "outputId": "fdd4e7e4-15e3-49e9-cd75-6835bb652e01"
      },
      "execution_count": 85,
      "outputs": [
        {
          "output_type": "stream",
          "name": "stdout",
          "text": [
            "i can buy iphone\n",
            "i from hyderbad\n"
          ]
        }
      ]
    },
    {
      "cell_type": "code",
      "source": [
        "# finding the Even numbers\n",
        "for i in range(11,21):\n",
        "  if i%2==0:\n",
        "    print(f'Even :{i}')\n",
        "  else:\n",
        "    print(f'Odd :{i}')"
      ],
      "metadata": {
        "colab": {
          "base_uri": "https://localhost:8080/"
        },
        "id": "16YASFaDriMD",
        "outputId": "0c5eb020-175e-4a85-fa60-dc0fcb8f0efd"
      },
      "execution_count": 87,
      "outputs": [
        {
          "output_type": "stream",
          "name": "stdout",
          "text": [
            "Odd :11\n",
            "Even :12\n",
            "Odd :13\n",
            "Even :14\n",
            "Odd :15\n",
            "Even :16\n",
            "Odd :17\n",
            "Even :18\n",
            "Odd :19\n",
            "Even :20\n"
          ]
        }
      ]
    },
    {
      "cell_type": "code",
      "source": [
        "for i in range(11,14):\n",
        "  print('india')\n",
        "  print('usa')\n",
        "  print('uk')\n",
        "  print('-------')"
      ],
      "metadata": {
        "colab": {
          "base_uri": "https://localhost:8080/"
        },
        "id": "2J_Jnb9JrTlq",
        "outputId": "bd2315d9-718d-4fe6-f970-6b81d3499de3"
      },
      "execution_count": 88,
      "outputs": [
        {
          "output_type": "stream",
          "name": "stdout",
          "text": [
            "india\n",
            "usa\n",
            "uk\n",
            "-------\n",
            "india\n",
            "usa\n",
            "uk\n",
            "-------\n",
            "india\n",
            "usa\n",
            "uk\n",
            "-------\n"
          ]
        }
      ]
    },
    {
      "cell_type": "code",
      "source": [
        "# finding the Even numbers\n",
        "for i in range(11,21):\n",
        "  if i%2==0:\n",
        "    print(f'Even :{i}',end=' ')\n",
        "  else:\n",
        "    print(f'Odd :{i}')"
      ],
      "metadata": {
        "colab": {
          "base_uri": "https://localhost:8080/"
        },
        "id": "zDf9vvLNrTWU",
        "outputId": "e8a73b45-d4e3-4ca4-f2b4-f9dccd9be57b"
      },
      "execution_count": 91,
      "outputs": [
        {
          "output_type": "stream",
          "name": "stdout",
          "text": [
            "Odd :11\n",
            "Even :12 Odd :13\n",
            "Even :14 Odd :15\n",
            "Even :16 Odd :17\n",
            "Even :18 Odd :19\n",
            "Even :20 "
          ]
        }
      ]
    },
    {
      "cell_type": "code",
      "source": [
        "# find the given is a perfect number or not\n",
        "n=6\n",
        "c=0\n",
        "for i in range(1,n):\n",
        "  if n %i ==0:\n",
        "    c=c+i\n",
        "if n==c:\n",
        "  print(f'{n} is a perfect number')\n",
        "else:\n",
        "  print(f'{n} is not a perfect number')"
      ],
      "metadata": {
        "colab": {
          "base_uri": "https://localhost:8080/"
        },
        "id": "gd4_34xWrFpB",
        "outputId": "d6f3e389-81f1-4edf-be42-8b46ceb5f024"
      },
      "execution_count": 97,
      "outputs": [
        {
          "output_type": "stream",
          "name": "stdout",
          "text": [
            "6 is a perfect number\n"
          ]
        }
      ]
    },
    {
      "cell_type": "code",
      "source": [
        "# find the given is a perfect number or not\n",
        "n=8\n",
        "c=0\n",
        "for i in range(1,n):\n",
        "  if n %i ==0:\n",
        "    c=c+i\n",
        "if n==c:\n",
        "  print(f'{n} is a perfect number')\n",
        "else:\n",
        "  print(f'{n} is not a perfect number')"
      ],
      "metadata": {
        "colab": {
          "base_uri": "https://localhost:8080/"
        },
        "id": "WEwh0NJ0oAD1",
        "outputId": "c9b20e94-2fa1-4197-df8a-07a9b9db55d1"
      },
      "execution_count": 98,
      "outputs": [
        {
          "output_type": "stream",
          "name": "stdout",
          "text": [
            "8 is not a perfect number\n"
          ]
        }
      ]
    },
    {
      "cell_type": "code",
      "execution_count": 65,
      "metadata": {
        "colab": {
          "base_uri": "https://localhost:8080/"
        },
        "id": "ujE4za_-TUis",
        "outputId": "e8806970-7670-43be-f625-b097cbb907a5"
      },
      "outputs": [
        {
          "output_type": "stream",
          "name": "stdout",
          "text": [
            "dt scnc\n"
          ]
        }
      ],
      "source": [
        "#String\n",
        "a=\"data science\"\n",
        "c=\"\"\n",
        "for i in a:\n",
        "  if i not in \"aeiouAEIOU\":\n",
        "    c+=i\n",
        "print(c)"
      ]
    },
    {
      "cell_type": "code",
      "source": [
        "a='123'\n",
        "print(a.isnumeric())"
      ],
      "metadata": {
        "colab": {
          "base_uri": "https://localhost:8080/"
        },
        "id": "aLOEaKcAUymg",
        "outputId": "95365299-b2c7-466a-d0f6-a5fc249af2a0"
      },
      "execution_count": 4,
      "outputs": [
        {
          "output_type": "stream",
          "name": "stdout",
          "text": [
            "True\n"
          ]
        }
      ]
    },
    {
      "cell_type": "code",
      "source": [
        "a=\"Scince1865\"\n",
        "c=0\n",
        "for i in a:\n",
        "  if i.isnumeric():\n",
        "    c=c+int(i)\n",
        "print(c)"
      ],
      "metadata": {
        "colab": {
          "base_uri": "https://localhost:8080/"
        },
        "id": "37hwmXQ7ToPv",
        "outputId": "3d897e04-64c2-4452-95de-62b2b6d38e21"
      },
      "execution_count": 8,
      "outputs": [
        {
          "output_type": "stream",
          "name": "stdout",
          "text": [
            "20\n"
          ]
        }
      ]
    },
    {
      "cell_type": "code",
      "source": [
        "#list\n",
        "a=[10,20,50,90,5]\n",
        "for i in a:\n",
        "  print(i+20)"
      ],
      "metadata": {
        "colab": {
          "base_uri": "https://localhost:8080/"
        },
        "id": "y_ZML8JqVW78",
        "outputId": "48c40247-70cc-424f-bd85-2a1a0a997ba9"
      },
      "execution_count": 9,
      "outputs": [
        {
          "output_type": "stream",
          "name": "stdout",
          "text": [
            "30\n",
            "40\n",
            "70\n",
            "110\n",
            "25\n"
          ]
        }
      ]
    },
    {
      "cell_type": "code",
      "source": [
        "a=[10,20,50,90,5]\n",
        "c=1\n",
        "for i in a:\n",
        "  c*=i\n",
        "  print(c)\n"
      ],
      "metadata": {
        "colab": {
          "base_uri": "https://localhost:8080/"
        },
        "id": "w-sOPShPWHCt",
        "outputId": "5483f59d-5c02-48e4-9a23-590b42ccfca1"
      },
      "execution_count": 14,
      "outputs": [
        {
          "output_type": "stream",
          "name": "stdout",
          "text": [
            "10\n",
            "200\n",
            "10000\n",
            "900000\n",
            "4500000\n"
          ]
        }
      ]
    },
    {
      "cell_type": "code",
      "source": [
        "a=[10,20,50,90,5]\n",
        "for i in a:\n",
        "  print(str(a.index(i))+str(i),end=\" \")"
      ],
      "metadata": {
        "colab": {
          "base_uri": "https://localhost:8080/"
        },
        "id": "Oids35SIWnmU",
        "outputId": "38cf26c0-3afe-40e7-f48e-862237979500"
      },
      "execution_count": 26,
      "outputs": [
        {
          "output_type": "stream",
          "name": "stdout",
          "text": [
            "010 120 250 390 45 "
          ]
        }
      ]
    },
    {
      "cell_type": "code",
      "source": [
        "a=[10,20,50,90,5]\n",
        "for i,j in enumerate(a):\n",
        "  print(str(i)+str(j),end=\" \")"
      ],
      "metadata": {
        "colab": {
          "base_uri": "https://localhost:8080/"
        },
        "id": "jBYQ3u3aXORR",
        "outputId": "4fffbd52-11a3-4cc6-ee9f-92c5748b0701"
      },
      "execution_count": 28,
      "outputs": [
        {
          "output_type": "stream",
          "name": "stdout",
          "text": [
            "010 120 250 390 45 "
          ]
        }
      ]
    },
    {
      "cell_type": "code",
      "source": [
        "#tuple\n",
        "a=(10,21,19,54,43)\n",
        "\n",
        "for i in a:\n",
        "  if i %2 ==0:\n",
        "    print(f'Even : {i}')"
      ],
      "metadata": {
        "colab": {
          "base_uri": "https://localhost:8080/"
        },
        "id": "-AXRjQ0jY_4P",
        "outputId": "6fcbd4d8-b99c-43a8-af2c-ff8b7e4af63c"
      },
      "execution_count": 30,
      "outputs": [
        {
          "output_type": "stream",
          "name": "stdout",
          "text": [
            "Even : 10\n",
            "Even : 54\n"
          ]
        }
      ]
    },
    {
      "cell_type": "code",
      "source": [
        "#dict :- in dict for loop will collect only keys\n",
        "fruits={'apple':200,'banana':300,'carrot':400,'graphes':500}\n",
        "for i in fruits:\n",
        "  print(i)\n",
        "  print(fruits[i])\n",
        "  print(i,fruits[i])"
      ],
      "metadata": {
        "colab": {
          "base_uri": "https://localhost:8080/"
        },
        "id": "2NxXPZSuZsJ3",
        "outputId": "ebd67baf-ac89-4af6-d5f7-468ffec4d84e"
      },
      "execution_count": 34,
      "outputs": [
        {
          "output_type": "stream",
          "name": "stdout",
          "text": [
            "apple\n",
            "200\n",
            "apple 200\n",
            "banana\n",
            "300\n",
            "banana 300\n",
            "carrot\n",
            "400\n",
            "carrot 400\n",
            "graphes\n",
            "500\n",
            "graphes 500\n"
          ]
        }
      ]
    },
    {
      "cell_type": "code",
      "source": [
        "#dict :- in dict for loop will collect only keys\n",
        "fruits={'apple':180,'banana':160,'carrot':400,'graphes':500}\n",
        "for i in fruits:\n",
        "  if fruits[i]>200:\n",
        "    fruits[i]=fruits[i]*200\n",
        "  else:\n",
        "    fruits[i]=fruits[i]*3\n",
        "print(fruits)"
      ],
      "metadata": {
        "colab": {
          "base_uri": "https://localhost:8080/"
        },
        "id": "YO0fjOdbaIQf",
        "outputId": "66f48f72-03b4-4a30-f8da-13ba7e69b30d"
      },
      "execution_count": 42,
      "outputs": [
        {
          "output_type": "stream",
          "name": "stdout",
          "text": [
            "{'apple': 540, 'banana': 480, 'carrot': 80000, 'graphes': 100000}\n"
          ]
        }
      ]
    },
    {
      "cell_type": "code",
      "source": [
        "fruits={'apple':20,'banana':50}\n",
        "\n",
        "fruits['apple']=100\n",
        "fruits['graphes']=100\n",
        "\n",
        "print(fruits)"
      ],
      "metadata": {
        "colab": {
          "base_uri": "https://localhost:8080/"
        },
        "id": "_Xi5WgPZbYpQ",
        "outputId": "e809d035-2c0b-4eb4-b2fa-b6ea3b545b42"
      },
      "execution_count": 44,
      "outputs": [
        {
          "output_type": "stream",
          "name": "stdout",
          "text": [
            "{'apple': 100, 'banana': 50, 'graphes': 100}\n"
          ]
        }
      ]
    },
    {
      "cell_type": "code",
      "source": [
        "#nested loops :- loop in a loop\n",
        "for i in range(11,16):\n",
        "  for j in range(11,16):\n",
        "    print(i,j)"
      ],
      "metadata": {
        "colab": {
          "base_uri": "https://localhost:8080/"
        },
        "id": "4Vd9UYJrcGBh",
        "outputId": "0c98e38c-de25-46ad-bbe0-c86d14531878"
      },
      "execution_count": 49,
      "outputs": [
        {
          "output_type": "stream",
          "name": "stdout",
          "text": [
            "11 11\n",
            "11 12\n",
            "11 13\n",
            "11 14\n",
            "11 15\n",
            "12 11\n",
            "12 12\n",
            "12 13\n",
            "12 14\n",
            "12 15\n",
            "13 11\n",
            "13 12\n",
            "13 13\n",
            "13 14\n",
            "13 15\n",
            "14 11\n",
            "14 12\n",
            "14 13\n",
            "14 14\n",
            "14 15\n",
            "15 11\n",
            "15 12\n",
            "15 13\n",
            "15 14\n",
            "15 15\n"
          ]
        }
      ]
    },
    {
      "cell_type": "code",
      "source": [
        "for i in range(11,16):\n",
        "  for j in range(11,16):\n",
        "    print(\"*\",end=\" \")\n",
        "  print()"
      ],
      "metadata": {
        "colab": {
          "base_uri": "https://localhost:8080/"
        },
        "id": "RCpcmZFpdsbV",
        "outputId": "32d01b38-4607-46a3-9531-15253e7c4202"
      },
      "execution_count": 63,
      "outputs": [
        {
          "output_type": "stream",
          "name": "stdout",
          "text": [
            "* * * * * \n",
            "* * * * * \n",
            "* * * * * \n",
            "* * * * * \n",
            "* * * * * \n"
          ]
        }
      ]
    },
    {
      "cell_type": "code",
      "source": [
        "a=int(input(\"Enter a number here : \"))\n",
        "for i in range(1,a+1):\n",
        "  b=i*\"* \"\n",
        "  print(b)"
      ],
      "metadata": {
        "colab": {
          "base_uri": "https://localhost:8080/"
        },
        "id": "Ess_k58wc9ao",
        "outputId": "55c02fc0-f4c6-46ea-fe90-c7efe371406a"
      },
      "execution_count": 64,
      "outputs": [
        {
          "output_type": "stream",
          "name": "stdout",
          "text": [
            "Enter a number here : 5\n",
            "* \n",
            "* * \n",
            "* * * \n",
            "* * * * \n",
            "* * * * * \n"
          ]
        }
      ]
    },
    {
      "cell_type": "code",
      "source": [],
      "metadata": {
        "id": "yPQBs3q4ddfZ"
      },
      "execution_count": null,
      "outputs": []
    }
  ]
}