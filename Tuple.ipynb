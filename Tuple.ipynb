{
  "nbformat": 4,
  "nbformat_minor": 0,
  "metadata": {
    "colab": {
      "provenance": []
    },
    "kernelspec": {
      "name": "python3",
      "display_name": "Python 3"
    },
    "language_info": {
      "name": "python"
    }
  },
  "cells": [
    {
      "cell_type": "markdown",
      "source": [
        "**Python_Tuples**\n",
        "\n",
        "\n",
        "*   Python Tuple is going to represent with  -> () and accept any datatype\n",
        "*   The python tuple is Immutable\n",
        "\n",
        "\n",
        "*   We can't increase the memory and decrease the memory\n",
        "\n",
        "\n",
        "\n",
        "\n"
      ],
      "metadata": {
        "id": "p4VCHWnM0wrm"
      }
    },
    {
      "cell_type": "code",
      "source": [
        "#Try to increase the memory\n",
        "a=(10,20,30,40)\n",
        "a[4]=100\n",
        "print(a)"
      ],
      "metadata": {
        "colab": {
          "base_uri": "https://localhost:8080/",
          "height": 176
        },
        "id": "06VSQpMa1lYE",
        "outputId": "c3839314-f3af-4407-b021-0919bbe84727"
      },
      "execution_count": 1,
      "outputs": [
        {
          "output_type": "error",
          "ename": "TypeError",
          "evalue": "'tuple' object does not support item assignment",
          "traceback": [
            "\u001b[0;31m---------------------------------------------------------------------------\u001b[0m",
            "\u001b[0;31mTypeError\u001b[0m                                 Traceback (most recent call last)",
            "\u001b[0;32m<ipython-input-1-6e20775fc0c6>\u001b[0m in \u001b[0;36m<cell line: 0>\u001b[0;34m()\u001b[0m\n\u001b[1;32m      1\u001b[0m \u001b[0ma\u001b[0m\u001b[0;34m=\u001b[0m\u001b[0;34m(\u001b[0m\u001b[0;36m10\u001b[0m\u001b[0;34m,\u001b[0m\u001b[0;36m20\u001b[0m\u001b[0;34m,\u001b[0m\u001b[0;36m30\u001b[0m\u001b[0;34m,\u001b[0m\u001b[0;36m40\u001b[0m\u001b[0;34m)\u001b[0m\u001b[0;34m\u001b[0m\u001b[0;34m\u001b[0m\u001b[0m\n\u001b[0;32m----> 2\u001b[0;31m \u001b[0ma\u001b[0m\u001b[0;34m[\u001b[0m\u001b[0;36m4\u001b[0m\u001b[0;34m]\u001b[0m\u001b[0;34m=\u001b[0m\u001b[0;36m100\u001b[0m\u001b[0;34m\u001b[0m\u001b[0;34m\u001b[0m\u001b[0m\n\u001b[0m\u001b[1;32m      3\u001b[0m \u001b[0mprint\u001b[0m\u001b[0;34m(\u001b[0m\u001b[0ma\u001b[0m\u001b[0;34m)\u001b[0m\u001b[0;34m\u001b[0m\u001b[0;34m\u001b[0m\u001b[0m\n",
            "\u001b[0;31mTypeError\u001b[0m: 'tuple' object does not support item assignment"
          ]
        }
      ]
    },
    {
      "cell_type": "code",
      "source": [
        "#Try to decrease the memory\n",
        "a=(10,20,30,40)\n",
        "del a\n",
        "print(a)"
      ],
      "metadata": {
        "colab": {
          "base_uri": "https://localhost:8080/",
          "height": 176
        },
        "id": "Jhc-JT0B1wVK",
        "outputId": "0c7e418b-cc34-4065-a976-05559273f61b"
      },
      "execution_count": 2,
      "outputs": [
        {
          "output_type": "error",
          "ename": "NameError",
          "evalue": "name 'a' is not defined",
          "traceback": [
            "\u001b[0;31m---------------------------------------------------------------------------\u001b[0m",
            "\u001b[0;31mNameError\u001b[0m                                 Traceback (most recent call last)",
            "\u001b[0;32m<ipython-input-2-e49b8572d852>\u001b[0m in \u001b[0;36m<cell line: 0>\u001b[0;34m()\u001b[0m\n\u001b[1;32m      2\u001b[0m \u001b[0ma\u001b[0m\u001b[0;34m=\u001b[0m\u001b[0;34m(\u001b[0m\u001b[0;36m10\u001b[0m\u001b[0;34m,\u001b[0m\u001b[0;36m20\u001b[0m\u001b[0;34m,\u001b[0m\u001b[0;36m30\u001b[0m\u001b[0;34m,\u001b[0m\u001b[0;36m40\u001b[0m\u001b[0;34m)\u001b[0m\u001b[0;34m\u001b[0m\u001b[0;34m\u001b[0m\u001b[0m\n\u001b[1;32m      3\u001b[0m \u001b[0;32mdel\u001b[0m \u001b[0ma\u001b[0m\u001b[0;34m\u001b[0m\u001b[0;34m\u001b[0m\u001b[0m\n\u001b[0;32m----> 4\u001b[0;31m \u001b[0mprint\u001b[0m\u001b[0;34m(\u001b[0m\u001b[0ma\u001b[0m\u001b[0;34m)\u001b[0m\u001b[0;34m\u001b[0m\u001b[0;34m\u001b[0m\u001b[0m\n\u001b[0m",
            "\u001b[0;31mNameError\u001b[0m: name 'a' is not defined"
          ]
        }
      ]
    },
    {
      "cell_type": "markdown",
      "source": [
        "**Built_in_Functions**\n",
        "\n",
        "\n",
        "*   Count -> The count function will be count the how times in the value in existing memory\n",
        "*   INdex -> Find the index value of the given user\n",
        "\n"
      ],
      "metadata": {
        "id": "pfrFC61H2G0T"
      }
    },
    {
      "cell_type": "code",
      "source": [
        "#Count\n",
        "a=(10,20,30,40,10,10,50)\n",
        "print(\"The count function will be count the values :\",a.count(10))"
      ],
      "metadata": {
        "colab": {
          "base_uri": "https://localhost:8080/"
        },
        "id": "dyPd0fa71_0K",
        "outputId": "ef9bf4bc-5b8d-402d-fc73-25f2be80fb40"
      },
      "execution_count": 4,
      "outputs": [
        {
          "output_type": "stream",
          "name": "stdout",
          "text": [
            "The count function will be count the values : 3\n"
          ]
        }
      ]
    },
    {
      "cell_type": "code",
      "source": [
        "#index\n",
        "a=(10,20,30,40,10,10,50)\n",
        "print(\"The index function will be give the index value :\",a.index(50))"
      ],
      "metadata": {
        "colab": {
          "base_uri": "https://localhost:8080/"
        },
        "id": "rTIZnYbj3Fni",
        "outputId": "0cec9022-82d7-4461-9e9b-cf34eec653c7"
      },
      "execution_count": 7,
      "outputs": [
        {
          "output_type": "stream",
          "name": "stdout",
          "text": [
            "The index function will be give the index value : 6\n"
          ]
        }
      ]
    },
    {
      "cell_type": "markdown",
      "source": [
        "#### Advantage of the Tuple :\n",
        "\n",
        "- `Tuple can be hold the multiple inputs for a single variable. `\n",
        "- `We can pack the varible and we can unpack the variable where we want to use `"
      ],
      "metadata": {
        "id": "1Rfj9GCL3iGM"
      }
    },
    {
      "cell_type": "code",
      "source": [
        "a=('john',24,12000)   #Packing variable\n",
        "name,age,salary=a  #unpacking\n",
        "print(\"The name of the user :\",name)\n",
        "print(\"The age of the user :\",age)\n",
        "print(\"The salary of the user :\",salary)"
      ],
      "metadata": {
        "colab": {
          "base_uri": "https://localhost:8080/"
        },
        "id": "-4K6tcOJ3c1w",
        "outputId": "524c64c1-8798-4712-9b31-fe226e8a3528"
      },
      "execution_count": 10,
      "outputs": [
        {
          "output_type": "stream",
          "name": "stdout",
          "text": [
            "The name of the user : john\n",
            "The age of the user : 24\n",
            "The salary of the user : 12000\n"
          ]
        }
      ]
    },
    {
      "cell_type": "code",
      "source": [],
      "metadata": {
        "id": "WUUtJAU-4XsZ"
      },
      "execution_count": null,
      "outputs": []
    }
  ]
}