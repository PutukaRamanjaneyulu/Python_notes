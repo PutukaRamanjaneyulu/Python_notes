{
  "nbformat": 4,
  "nbformat_minor": 0,
  "metadata": {
    "colab": {
      "provenance": []
    },
    "kernelspec": {
      "name": "python3",
      "display_name": "Python 3"
    },
    "language_info": {
      "name": "python"
    }
  },
  "cells": [
    {
      "cell_type": "code",
      "execution_count": null,
      "metadata": {
        "colab": {
          "base_uri": "https://localhost:8080/"
        },
        "id": "9D9d-dVYEwMG",
        "outputId": "1225ac76-d5df-4cfb-b8ea-b3d2a7f5bf60"
      },
      "outputs": [
        {
          "output_type": "stream",
          "name": "stdout",
          "text": [
            "3\n",
            "[np.int64(1), np.int64(7), np.int64(25)]\n"
          ]
        }
      ],
      "source": [
        "import numpy as np\n",
        "a=np.array([[1,4,9],[3,7,2], [10,18,25]])\n",
        "\n",
        "print(a.shape[0])\n",
        "f=[]\n",
        "c=0\n",
        "for i in range(a.shape[0]):\n",
        "\n",
        "  f.append(a[i][c])\n",
        "  c=c+1\n",
        "print(f)"
      ]
    },
    {
      "cell_type": "code",
      "source": [
        "import numpy as np\n",
        "a=np.array([[1,4,9],[3,7,2], [10,18,25]])\n",
        "\n",
        "print(a.shape[0])\n",
        "\n",
        "c=0\n",
        "for i in range(a.shape[0]):\n",
        "  c=c-1\n",
        "  f=(a[i][c])\n",
        "\n",
        "  print(f)"
      ],
      "metadata": {
        "colab": {
          "base_uri": "https://localhost:8080/"
        },
        "id": "8WbmZAP2E1uI",
        "outputId": "8bd48c92-415a-4d0d-b0ea-910b8e3acfa2"
      },
      "execution_count": null,
      "outputs": [
        {
          "output_type": "stream",
          "name": "stdout",
          "text": [
            "3\n",
            "9\n",
            "7\n",
            "10\n"
          ]
        }
      ]
    },
    {
      "cell_type": "code",
      "source": [
        "import numpy as np\n",
        "a=np.array([[1,4,9],[3,7,2], [10,18,25]])\n",
        "\n",
        "#print(a.shape[0])\n",
        "\n",
        "\n",
        "f=[]\n",
        "e=0\n",
        "for i in a:\n",
        "\n",
        "  c=0\n",
        "  for j in i:\n",
        "    c=c+j\n",
        "  e=e+c\n",
        "  print(c)\n",
        "print(f'The sum of the all individuals : {e}')\n",
        "\n",
        "\n",
        "\n",
        "\n",
        "\n"
      ],
      "metadata": {
        "colab": {
          "base_uri": "https://localhost:8080/"
        },
        "id": "rMzQ_FJdHKGU",
        "outputId": "095c51c4-f5f7-4097-9d41-d91e2ff9d2b6"
      },
      "execution_count": null,
      "outputs": [
        {
          "output_type": "stream",
          "name": "stdout",
          "text": [
            "14\n",
            "12\n",
            "53\n",
            "The sum of the all individuals : 79\n"
          ]
        }
      ]
    },
    {
      "cell_type": "code",
      "source": [
        "import numpy as np\n",
        "a=np.array([[1,4,9],[3,7,2], [10,18,25]])\n",
        "c=[]\n",
        "e=0\n",
        "for i in a:\n",
        "  c=(sum(i))\n",
        "  print(c)\n",
        "  e=e+c\n",
        "print(e)"
      ],
      "metadata": {
        "colab": {
          "base_uri": "https://localhost:8080/"
        },
        "id": "5ukx2bLHJet_",
        "outputId": "885a261d-efd3-4b01-cbaf-04ccd3f735f9"
      },
      "execution_count": null,
      "outputs": [
        {
          "output_type": "stream",
          "name": "stdout",
          "text": [
            "14\n",
            "12\n",
            "53\n",
            "79\n"
          ]
        }
      ]
    },
    {
      "cell_type": "code",
      "source": [
        "import numpy as np\n",
        "a=np.array([[1,4,9],[3,7,2], [10,18,25]])\n",
        "f_s=[]\n",
        "s_c=[]\n",
        "t_c=[]\n",
        "for i in a:\n",
        "  f_s.append(i[0])\n",
        "  s_c.append(i[1])\n",
        "  t_c.append(i[2])\n",
        "\n",
        "s_f_s=0\n",
        "s_s_s=0\n",
        "s_t_s=0\n",
        "\n",
        "for j in range(3):\n",
        "  s_f_s=s_f_s+f_s[j]\n",
        "  s_s_s=s_s_s+s_c[j]\n",
        "  s_t_s=s_t_s+t_c[j]\n",
        "\n",
        "print(s_f_s+s_s_s+s_t_s)\n",
        "\n",
        "\n"
      ],
      "metadata": {
        "colab": {
          "base_uri": "https://localhost:8080/"
        },
        "id": "L9VhjJm5MsLV",
        "outputId": "f0aa9e9f-ee4b-4c9d-b69d-95811a95ca20"
      },
      "execution_count": null,
      "outputs": [
        {
          "output_type": "stream",
          "name": "stdout",
          "text": [
            "79\n"
          ]
        }
      ]
    },
    {
      "cell_type": "code",
      "source": [
        "import numpy as np\n",
        "a=np.array([[1,4,9],[3,7,2], [10,18,25]])\n",
        "c=0\n",
        "for i in a:\n",
        "  for j in i:\n",
        "    if j %2 ==0:\n",
        "      c=c+j\n",
        "print(c)\n"
      ],
      "metadata": {
        "colab": {
          "base_uri": "https://localhost:8080/"
        },
        "id": "LR7qo4fsNdZ6",
        "outputId": "4d671984-5ab2-47b3-d633-740bf162ec22"
      },
      "execution_count": null,
      "outputs": [
        {
          "output_type": "stream",
          "name": "stdout",
          "text": [
            "34\n"
          ]
        }
      ]
    },
    {
      "cell_type": "code",
      "source": [],
      "metadata": {
        "id": "P3Z3bWN9UYrW"
      },
      "execution_count": null,
      "outputs": []
    }
  ]
}