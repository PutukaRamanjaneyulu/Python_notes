{
  "nbformat": 4,
  "nbformat_minor": 0,
  "metadata": {
    "colab": {
      "provenance": []
    },
    "kernelspec": {
      "name": "python3",
      "display_name": "Python 3"
    },
    "language_info": {
      "name": "python"
    }
  },
  "cells": [
    {
      "cell_type": "markdown",
      "source": [
        "# **Lambda Functions**\n",
        "\n",
        "- `lambda function is also known as ananymous function`\n",
        "- `ananymous function : A Function without a function `\n",
        "- ` Syntax : lambda Arguments:Expressins`\n"
      ],
      "metadata": {
        "id": "C0i5BT5B8i6D"
      }
    },
    {
      "cell_type": "code",
      "source": [
        "c= lambda x,y : x* y\n",
        "\n",
        "print(c(10,20)) # calling function"
      ],
      "metadata": {
        "colab": {
          "base_uri": "https://localhost:8080/"
        },
        "id": "0qAHmDdG9PBl",
        "outputId": "a7586806-ec8e-4d39-c81c-9fe02d1409af"
      },
      "execution_count": 1,
      "outputs": [
        {
          "output_type": "stream",
          "name": "stdout",
          "text": [
            "200\n"
          ]
        }
      ]
    },
    {
      "cell_type": "code",
      "source": [
        "# Example using Function\n",
        "def kumar(b):\n",
        "  return b*b\n",
        "\n",
        "sol=kumar(5)\n",
        "print(sol)#Calling"
      ],
      "metadata": {
        "colab": {
          "base_uri": "https://localhost:8080/"
        },
        "id": "b46NUO2s9cnC",
        "outputId": "50c71afd-4280-48be-aeed-0dbe3179d14d"
      },
      "execution_count": 2,
      "outputs": [
        {
          "output_type": "stream",
          "name": "stdout",
          "text": [
            "25\n"
          ]
        }
      ]
    },
    {
      "cell_type": "code",
      "source": [
        "# Using the lambda Function\n",
        "\n",
        "m=lambda x:x*x\n",
        "\n",
        "print(m(5)) #calling\n"
      ],
      "metadata": {
        "colab": {
          "base_uri": "https://localhost:8080/"
        },
        "id": "fQ2cKdLF-XlA",
        "outputId": "b9234112-1b9a-401c-8196-dd7f3b58c065"
      },
      "execution_count": 3,
      "outputs": [
        {
          "output_type": "stream",
          "name": "stdout",
          "text": [
            "25\n"
          ]
        }
      ]
    },
    {
      "cell_type": "markdown",
      "source": [
        "**Table**\n",
        "- The multiplication Table we can write the code the 3 different types"
      ],
      "metadata": {
        "id": "699P8xZC-tYM"
      }
    },
    {
      "cell_type": "code",
      "source": [
        "# Multiplication Table : Method 1\n",
        "n=2\n",
        "for i in range(1,11):\n",
        "  print(f'{n}*{i}= {n*i}')"
      ],
      "metadata": {
        "colab": {
          "base_uri": "https://localhost:8080/"
        },
        "id": "ciqykdKk-mI9",
        "outputId": "c00c3afa-3e86-410d-caf8-6a632b9e425b"
      },
      "execution_count": 4,
      "outputs": [
        {
          "output_type": "stream",
          "name": "stdout",
          "text": [
            "2*1= 2\n",
            "2*2= 4\n",
            "2*3= 6\n",
            "2*4= 8\n",
            "2*5= 10\n",
            "2*6= 12\n",
            "2*7= 14\n",
            "2*8= 16\n",
            "2*9= 18\n",
            "2*10= 20\n"
          ]
        }
      ]
    },
    {
      "cell_type": "code",
      "source": [
        "# Multiplication Table : Method 2 (using function)\n",
        "def kumar(n):\n",
        "  for i in range(1,11):\n",
        "    print(f'{n}*{i}= {n*i}')\n",
        "\n",
        "kumar(2)"
      ],
      "metadata": {
        "colab": {
          "base_uri": "https://localhost:8080/"
        },
        "id": "6XRuqePw_UrB",
        "outputId": "b7dffa00-6e22-40fb-8067-eda68943d5fd"
      },
      "execution_count": 5,
      "outputs": [
        {
          "output_type": "stream",
          "name": "stdout",
          "text": [
            "2*1= 2\n",
            "2*2= 4\n",
            "2*3= 6\n",
            "2*4= 8\n",
            "2*5= 10\n",
            "2*6= 12\n",
            "2*7= 14\n",
            "2*8= 16\n",
            "2*9= 18\n",
            "2*10= 20\n"
          ]
        }
      ]
    },
    {
      "cell_type": "code",
      "source": [
        "# Multiplication Table : Method 3 (using lambda Function)\n",
        "c= lambda x,y :x*y\n",
        "n=2\n",
        "for i in range(1,11):\n",
        "  print(f'{n}*{i}={c(n,i)}')"
      ],
      "metadata": {
        "colab": {
          "base_uri": "https://localhost:8080/"
        },
        "id": "dbqVxT3y_ivh",
        "outputId": "e60287a7-d476-4248-b0ac-316003e3572a"
      },
      "execution_count": 6,
      "outputs": [
        {
          "output_type": "stream",
          "name": "stdout",
          "text": [
            "2*1=2\n",
            "2*2=4\n",
            "2*3=6\n",
            "2*4=8\n",
            "2*5=10\n",
            "2*6=12\n",
            "2*7=14\n",
            "2*8=16\n",
            "2*9=18\n",
            "2*10=20\n"
          ]
        }
      ]
    },
    {
      "cell_type": "markdown",
      "source": [
        "**Map Function**\n",
        " - syntax : map(Function name, iterables)\n",
        " - The map Function will be return the condition true print what is to be user given and else print the user given value the user doesn't given print the none value"
      ],
      "metadata": {
        "id": "p1PphNs8BEA-"
      }
    },
    {
      "cell_type": "code",
      "source": [
        "def kumar(b):\n",
        "  if b % 2 ==0:\n",
        "    return b\n",
        "  else:\n",
        "    return \"Not Found\"\n",
        "\n",
        "sol=map(kumar,[10,11,12,13,14,15,16,17,20])\n",
        "print(list(sol))"
      ],
      "metadata": {
        "colab": {
          "base_uri": "https://localhost:8080/"
        },
        "id": "9vPzSRzzA_dG",
        "outputId": "ed86de74-2647-4699-ac25-cdc1f5e0a476"
      },
      "execution_count": 10,
      "outputs": [
        {
          "output_type": "stream",
          "name": "stdout",
          "text": [
            "[10, 'Not Found', 12, 'Not Found', 14, 'Not Found', 16, 'Not Found', 20]\n"
          ]
        }
      ]
    },
    {
      "cell_type": "code",
      "source": [
        "# lambda Fumction -> The Lambda Function Returns the Boolean values True or False Only\n",
        "sol=map(lambda x : x%2 == 0,[10,11,12,13,14,15])\n",
        "print(list(sol))"
      ],
      "metadata": {
        "colab": {
          "base_uri": "https://localhost:8080/"
        },
        "id": "LjPK3PXbBrEj",
        "outputId": "2973af5c-c17c-4288-d7c0-e91ae4a42257"
      },
      "execution_count": 12,
      "outputs": [
        {
          "output_type": "stream",
          "name": "stdout",
          "text": [
            "[True, False, True, False, True, False]\n"
          ]
        }
      ]
    },
    {
      "cell_type": "code",
      "source": [
        "# Without using the else condition\n",
        "def kumar(b):\n",
        "  if b % 2 ==0:\n",
        "    return b\n",
        "\n",
        "\n",
        "sol=map(kumar,[10,11,12,13,14,15,16,17,20])\n",
        "print(list(sol))"
      ],
      "metadata": {
        "colab": {
          "base_uri": "https://localhost:8080/"
        },
        "id": "yqcCctxmCKOB",
        "outputId": "0123289a-8e89-42e9-9a15-eeff679f09b1"
      },
      "execution_count": 13,
      "outputs": [
        {
          "output_type": "stream",
          "name": "stdout",
          "text": [
            "[10, None, 12, None, 14, None, 16, None, 20]\n"
          ]
        }
      ]
    },
    {
      "cell_type": "markdown",
      "source": [
        "**Filter Fumction**\n",
        "- Syntax : filter(Fumction name: Iterables)\n",
        "- The Filter contition retuns the only condition True values"
      ],
      "metadata": {
        "id": "pGr1K74nCqgs"
      }
    },
    {
      "cell_type": "code",
      "source": [
        "def kumar(b):\n",
        "  if b% 2 ==0:\n",
        "    return b\n",
        "\n",
        "\n",
        "sol=filter(kumar,[10,11,12,13,14])\n",
        "print(list(sol))"
      ],
      "metadata": {
        "colab": {
          "base_uri": "https://localhost:8080/"
        },
        "id": "MhC4OCr6ChQp",
        "outputId": "0641fbe0-1b79-4451-e8e2-5aa45014993d"
      },
      "execution_count": 16,
      "outputs": [
        {
          "output_type": "stream",
          "name": "stdout",
          "text": [
            "[10, 12, 14]\n"
          ]
        }
      ]
    },
    {
      "cell_type": "code",
      "source": [
        "#using the lambda function\n",
        "\n",
        "c=filter(lambda x:x%2==0,[10,11,12,13,14])\n",
        "print(list(c))"
      ],
      "metadata": {
        "colab": {
          "base_uri": "https://localhost:8080/"
        },
        "id": "kKQfIkVQDMH6",
        "outputId": "109dfc68-9dcb-4565-fdbb-bcf0f5e56f39"
      },
      "execution_count": 20,
      "outputs": [
        {
          "output_type": "stream",
          "name": "stdout",
          "text": [
            "[10, 12, 14]\n"
          ]
        }
      ]
    },
    {
      "cell_type": "markdown",
      "source": [
        "**Reduse Function**\n",
        "- The Reduse function we use the import the Functool library then we can use\n"
      ],
      "metadata": {
        "id": "KImwx1N2E5L5"
      }
    },
    {
      "cell_type": "code",
      "source": [
        "import functools\n",
        "print(functools.reduce(lambda x,y : x+y,[10,11,12,13,14]))"
      ],
      "metadata": {
        "colab": {
          "base_uri": "https://localhost:8080/"
        },
        "id": "3SkB_1BiE4OP",
        "outputId": "58947e15-718f-4f68-847a-4b5e83a3680b"
      },
      "execution_count": 22,
      "outputs": [
        {
          "output_type": "stream",
          "name": "stdout",
          "text": [
            "60\n"
          ]
        }
      ]
    },
    {
      "cell_type": "markdown",
      "source": [
        "**Combinations**\n",
        "\n",
        "\n",
        "---\n",
        "\n",
        "**map with filter**"
      ],
      "metadata": {
        "id": "3RsUy5eWFrR-"
      }
    },
    {
      "cell_type": "code",
      "source": [
        "a=map(lambda x:x+10,filter(lambda x: x%2==0,[10,11,12,13,14]))\n",
        "print(list(a))"
      ],
      "metadata": {
        "colab": {
          "base_uri": "https://localhost:8080/"
        },
        "id": "WYJm5XsgEXoM",
        "outputId": "f8ff2060-20ec-4a32-9f76-258ef65e22bf"
      },
      "execution_count": 24,
      "outputs": [
        {
          "output_type": "stream",
          "name": "stdout",
          "text": [
            "[20, 22, 24]\n"
          ]
        }
      ]
    },
    {
      "cell_type": "markdown",
      "source": [
        "**Filter with Map**"
      ],
      "metadata": {
        "id": "FZicaeW8GJwC"
      }
    },
    {
      "cell_type": "code",
      "source": [
        "b=filter(lambda x:x%2==0,map(lambda x:x+5,[10,11,12,13,14]))\n",
        "print(list(b))"
      ],
      "metadata": {
        "colab": {
          "base_uri": "https://localhost:8080/"
        },
        "id": "ugtw2g0TGGGD",
        "outputId": "363ba808-aa08-4571-90c6-2dd564eb64eb"
      },
      "execution_count": 26,
      "outputs": [
        {
          "output_type": "stream",
          "name": "stdout",
          "text": [
            "[16, 18]\n"
          ]
        }
      ]
    },
    {
      "cell_type": "markdown",
      "source": [
        "**Reduse with map and filter**\n"
      ],
      "metadata": {
        "id": "okbthzEXGilL"
      }
    },
    {
      "cell_type": "code",
      "source": [
        "c=(functools.reduce(lambda x,y:x+y,map(lambda x:x+10,filter(lambda x:x%2==0,[10,11,12,13,14]))))\n",
        "print(c)"
      ],
      "metadata": {
        "colab": {
          "base_uri": "https://localhost:8080/"
        },
        "id": "RWZSS_5mGa6s",
        "outputId": "fa52489b-691c-47da-f96a-b8b710c6f7fe"
      },
      "execution_count": 27,
      "outputs": [
        {
          "output_type": "stream",
          "name": "stdout",
          "text": [
            "66\n"
          ]
        }
      ]
    }
  ]
}