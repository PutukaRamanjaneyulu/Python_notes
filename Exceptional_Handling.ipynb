{
  "nbformat": 4,
  "nbformat_minor": 0,
  "metadata": {
    "colab": {
      "provenance": []
    },
    "kernelspec": {
      "name": "python3",
      "display_name": "Python 3"
    },
    "language_info": {
      "name": "python"
    }
  },
  "cells": [
    {
      "cell_type": "markdown",
      "source": [
        "### **Exceptional_Handling**\n",
        "- Exception means Error - > We ar going to handle with the Exception(Error)\n",
        "- Exceptional handling is mainly used to optimeze the Error not slove the Error\n",
        "\n",
        "**Some Commman Errors**\n",
        "1. Syntax Error\n",
        "\n",
        "2.  ZeroDivision Error\n",
        "3.   Name Error\n",
        "4.  Value Error\n",
        "5.  Indentation Error\n",
        "6.  Filenot Found Error\n",
        "\n",
        "\n"
      ],
      "metadata": {
        "id": "DV06xk6iU0tA"
      }
    },
    {
      "cell_type": "code",
      "source": [
        "a='kamal'\n",
        "print(a)"
      ],
      "metadata": {
        "colab": {
          "base_uri": "https://localhost:8080/"
        },
        "id": "zJJ0XPsmjG4h",
        "outputId": "16dd508a-aa79-41c4-eb98-5ded9296807e"
      },
      "execution_count": 30,
      "outputs": [
        {
          "output_type": "stream",
          "name": "stdout",
          "text": [
            "kamal\n"
          ]
        }
      ]
    },
    {
      "cell_type": "code",
      "source": [
        "# Syntax Error\n",
        "10a=\"kamal\"\n",
        "print(10a)"
      ],
      "metadata": {
        "colab": {
          "base_uri": "https://localhost:8080/",
          "height": 106
        },
        "id": "AruUoq8bWB9c",
        "outputId": "623d749e-b566-4f54-c1ff-f67f6c2e4355"
      },
      "execution_count": 1,
      "outputs": [
        {
          "output_type": "error",
          "ename": "SyntaxError",
          "evalue": "invalid decimal literal (<ipython-input-1-f77bd5089942>, line 2)",
          "traceback": [
            "\u001b[0;36m  File \u001b[0;32m\"<ipython-input-1-f77bd5089942>\"\u001b[0;36m, line \u001b[0;32m2\u001b[0m\n\u001b[0;31m    10a=\"kamal\"\u001b[0m\n\u001b[0m     ^\u001b[0m\n\u001b[0;31mSyntaxError\u001b[0m\u001b[0;31m:\u001b[0m invalid decimal literal\n"
          ]
        }
      ]
    },
    {
      "cell_type": "code",
      "source": [
        "10/5\n"
      ],
      "metadata": {
        "colab": {
          "base_uri": "https://localhost:8080/"
        },
        "id": "Um8aBTZ7jEyZ",
        "outputId": "7b7024aa-841b-421c-b43d-45c226268602"
      },
      "execution_count": 29,
      "outputs": [
        {
          "output_type": "execute_result",
          "data": {
            "text/plain": [
              "2.0"
            ]
          },
          "metadata": {},
          "execution_count": 29
        }
      ]
    },
    {
      "cell_type": "code",
      "source": [
        "# ZeroDivision Error\n",
        "10/5\n",
        "5/0"
      ],
      "metadata": {
        "colab": {
          "base_uri": "https://localhost:8080/",
          "height": 176
        },
        "id": "SByzc4q9WQ7I",
        "outputId": "280be5d1-2e8d-4b04-84f2-cb8fe23d06b8"
      },
      "execution_count": 2,
      "outputs": [
        {
          "output_type": "error",
          "ename": "ZeroDivisionError",
          "evalue": "division by zero",
          "traceback": [
            "\u001b[0;31m---------------------------------------------------------------------------\u001b[0m",
            "\u001b[0;31mZeroDivisionError\u001b[0m                         Traceback (most recent call last)",
            "\u001b[0;32m<ipython-input-2-0734b3b12fee>\u001b[0m in \u001b[0;36m<cell line: 0>\u001b[0;34m()\u001b[0m\n\u001b[1;32m      1\u001b[0m \u001b[0;31m# ZeroDivision Error\u001b[0m\u001b[0;34m\u001b[0m\u001b[0;34m\u001b[0m\u001b[0m\n\u001b[1;32m      2\u001b[0m \u001b[0;36m10\u001b[0m\u001b[0;34m/\u001b[0m\u001b[0;36m5\u001b[0m\u001b[0;34m\u001b[0m\u001b[0;34m\u001b[0m\u001b[0m\n\u001b[0;32m----> 3\u001b[0;31m \u001b[0;36m5\u001b[0m\u001b[0;34m/\u001b[0m\u001b[0;36m0\u001b[0m\u001b[0;34m\u001b[0m\u001b[0;34m\u001b[0m\u001b[0m\n\u001b[0m",
            "\u001b[0;31mZeroDivisionError\u001b[0m: division by zero"
          ]
        }
      ]
    },
    {
      "cell_type": "code",
      "source": [
        "city='hyd'\n",
        "print(city)"
      ],
      "metadata": {
        "colab": {
          "base_uri": "https://localhost:8080/"
        },
        "id": "Z59rUNVRi9xc",
        "outputId": "3b7986f8-fbc6-4e90-e070-b582fd7b3290"
      },
      "execution_count": 28,
      "outputs": [
        {
          "output_type": "stream",
          "name": "stdout",
          "text": [
            "hyd\n"
          ]
        }
      ]
    },
    {
      "cell_type": "code",
      "source": [
        "#name Error\n",
        "city=\"Hyd\"\n",
        "print(CITY)"
      ],
      "metadata": {
        "colab": {
          "base_uri": "https://localhost:8080/",
          "height": 176
        },
        "id": "GdHI2bcpWYr3",
        "outputId": "bbe0facf-cf18-465f-eb7c-e9d40970e37c"
      },
      "execution_count": 3,
      "outputs": [
        {
          "output_type": "error",
          "ename": "NameError",
          "evalue": "name 'CITY' is not defined",
          "traceback": [
            "\u001b[0;31m---------------------------------------------------------------------------\u001b[0m",
            "\u001b[0;31mNameError\u001b[0m                                 Traceback (most recent call last)",
            "\u001b[0;32m<ipython-input-3-1bda56b43396>\u001b[0m in \u001b[0;36m<cell line: 0>\u001b[0;34m()\u001b[0m\n\u001b[1;32m      1\u001b[0m \u001b[0;31m#name Error\u001b[0m\u001b[0;34m\u001b[0m\u001b[0;34m\u001b[0m\u001b[0m\n\u001b[1;32m      2\u001b[0m \u001b[0mcity\u001b[0m\u001b[0;34m=\u001b[0m\u001b[0;34m\"Hyd\"\u001b[0m\u001b[0;34m\u001b[0m\u001b[0;34m\u001b[0m\u001b[0m\n\u001b[0;32m----> 3\u001b[0;31m \u001b[0mprint\u001b[0m\u001b[0;34m(\u001b[0m\u001b[0mCITY\u001b[0m\u001b[0;34m)\u001b[0m\u001b[0;34m\u001b[0m\u001b[0;34m\u001b[0m\u001b[0m\n\u001b[0m",
            "\u001b[0;31mNameError\u001b[0m: name 'CITY' is not defined"
          ]
        }
      ]
    },
    {
      "cell_type": "code",
      "source": [
        "a='123'\n",
        "print(int(a))"
      ],
      "metadata": {
        "colab": {
          "base_uri": "https://localhost:8080/"
        },
        "id": "PrxqX9y9i5Lu",
        "outputId": "28d4669b-1504-4bc1-f59e-90b7fe28a241"
      },
      "execution_count": 26,
      "outputs": [
        {
          "output_type": "stream",
          "name": "stdout",
          "text": [
            "123\n"
          ]
        }
      ]
    },
    {
      "cell_type": "code",
      "source": [
        "# ValueError\n",
        "a=\"kamal123\"\n",
        "print(int(a))"
      ],
      "metadata": {
        "colab": {
          "base_uri": "https://localhost:8080/",
          "height": 176
        },
        "id": "tpKXDtu9WgEz",
        "outputId": "3c134382-5b02-4e27-ff15-079e1c149506"
      },
      "execution_count": 4,
      "outputs": [
        {
          "output_type": "error",
          "ename": "ValueError",
          "evalue": "invalid literal for int() with base 10: 'kamal123'",
          "traceback": [
            "\u001b[0;31m---------------------------------------------------------------------------\u001b[0m",
            "\u001b[0;31mValueError\u001b[0m                                Traceback (most recent call last)",
            "\u001b[0;32m<ipython-input-4-46acee755416>\u001b[0m in \u001b[0;36m<cell line: 0>\u001b[0;34m()\u001b[0m\n\u001b[1;32m      1\u001b[0m \u001b[0;31m# ValueError\u001b[0m\u001b[0;34m\u001b[0m\u001b[0;34m\u001b[0m\u001b[0m\n\u001b[1;32m      2\u001b[0m \u001b[0ma\u001b[0m\u001b[0;34m=\u001b[0m\u001b[0;34m\"kamal123\"\u001b[0m\u001b[0;34m\u001b[0m\u001b[0;34m\u001b[0m\u001b[0m\n\u001b[0;32m----> 3\u001b[0;31m \u001b[0mprint\u001b[0m\u001b[0;34m(\u001b[0m\u001b[0mint\u001b[0m\u001b[0;34m(\u001b[0m\u001b[0ma\u001b[0m\u001b[0;34m)\u001b[0m\u001b[0;34m)\u001b[0m\u001b[0;34m\u001b[0m\u001b[0;34m\u001b[0m\u001b[0m\n\u001b[0m",
            "\u001b[0;31mValueError\u001b[0m: invalid literal for int() with base 10: 'kamal123'"
          ]
        }
      ]
    },
    {
      "cell_type": "code",
      "source": [
        "for i in range(11,15):\n",
        "  print(i)"
      ],
      "metadata": {
        "colab": {
          "base_uri": "https://localhost:8080/"
        },
        "id": "LPWGn0epi0Bf",
        "outputId": "e4c278cb-cc2f-476f-bc74-f1217f4529ad"
      },
      "execution_count": 25,
      "outputs": [
        {
          "output_type": "stream",
          "name": "stdout",
          "text": [
            "11\n",
            "12\n",
            "13\n",
            "14\n"
          ]
        }
      ]
    },
    {
      "cell_type": "code",
      "source": [
        "#Indentation Error\n",
        "for i in range(11,15):\n",
        "print(i)"
      ],
      "metadata": {
        "colab": {
          "base_uri": "https://localhost:8080/",
          "height": 106
        },
        "id": "BLnqY0r7Wmhp",
        "outputId": "60d13898-d574-410f-ead4-3a39c29b4282"
      },
      "execution_count": 5,
      "outputs": [
        {
          "output_type": "error",
          "ename": "IndentationError",
          "evalue": "expected an indented block after 'for' statement on line 2 (<ipython-input-5-0ba6b04a0640>, line 3)",
          "traceback": [
            "\u001b[0;36m  File \u001b[0;32m\"<ipython-input-5-0ba6b04a0640>\"\u001b[0;36m, line \u001b[0;32m3\u001b[0m\n\u001b[0;31m    print(i)\u001b[0m\n\u001b[0m    ^\u001b[0m\n\u001b[0;31mIndentationError\u001b[0m\u001b[0;31m:\u001b[0m expected an indented block after 'for' statement on line 2\n"
          ]
        }
      ]
    },
    {
      "cell_type": "code",
      "source": [
        "from os import read\n",
        "#File not Found Error\n",
        "a=open(\"sharuk.txt\",\"r\")\n",
        "print(a.read())\n",
        "a.close()"
      ],
      "metadata": {
        "colab": {
          "base_uri": "https://localhost:8080/",
          "height": 211
        },
        "id": "6ubTaxN3Wtpf",
        "outputId": "dcf0944e-3b04-477c-ca54-806eb676a64b"
      },
      "execution_count": 8,
      "outputs": [
        {
          "output_type": "error",
          "ename": "FileNotFoundError",
          "evalue": "[Errno 2] No such file or directory: 'sharuk.txt'",
          "traceback": [
            "\u001b[0;31m---------------------------------------------------------------------------\u001b[0m",
            "\u001b[0;31mFileNotFoundError\u001b[0m                         Traceback (most recent call last)",
            "\u001b[0;32m<ipython-input-8-97bb3a1b131e>\u001b[0m in \u001b[0;36m<cell line: 0>\u001b[0;34m()\u001b[0m\n\u001b[1;32m      1\u001b[0m \u001b[0;32mfrom\u001b[0m \u001b[0mos\u001b[0m \u001b[0;32mimport\u001b[0m \u001b[0mread\u001b[0m\u001b[0;34m\u001b[0m\u001b[0;34m\u001b[0m\u001b[0m\n\u001b[1;32m      2\u001b[0m \u001b[0;31m#File not Found Error\u001b[0m\u001b[0;34m\u001b[0m\u001b[0;34m\u001b[0m\u001b[0m\n\u001b[0;32m----> 3\u001b[0;31m \u001b[0ma\u001b[0m\u001b[0;34m=\u001b[0m\u001b[0mopen\u001b[0m\u001b[0;34m(\u001b[0m\u001b[0;34m\"sharuk.txt\"\u001b[0m\u001b[0;34m,\u001b[0m\u001b[0;34m\"r\"\u001b[0m\u001b[0;34m)\u001b[0m\u001b[0;34m\u001b[0m\u001b[0;34m\u001b[0m\u001b[0m\n\u001b[0m\u001b[1;32m      4\u001b[0m \u001b[0mprint\u001b[0m\u001b[0;34m(\u001b[0m\u001b[0ma\u001b[0m\u001b[0;34m.\u001b[0m\u001b[0mread\u001b[0m\u001b[0;34m(\u001b[0m\u001b[0;34m)\u001b[0m\u001b[0;34m)\u001b[0m\u001b[0;34m\u001b[0m\u001b[0;34m\u001b[0m\u001b[0m\n\u001b[1;32m      5\u001b[0m \u001b[0ma\u001b[0m\u001b[0;34m.\u001b[0m\u001b[0mclose\u001b[0m\u001b[0;34m(\u001b[0m\u001b[0;34m)\u001b[0m\u001b[0;34m\u001b[0m\u001b[0;34m\u001b[0m\u001b[0m\n",
            "\u001b[0;31mFileNotFoundError\u001b[0m: [Errno 2] No such file or directory: 'sharuk.txt'"
          ]
        }
      ]
    },
    {
      "cell_type": "markdown",
      "source": [
        "- ` For optimizing the error : we have Exceptional Handling`\n",
        "- `1. Try Block |  2. Except block`\n",
        "\n",
        "\n",
        "\n"
      ],
      "metadata": {
        "id": "kUhPfPrLXFlD"
      }
    },
    {
      "cell_type": "code",
      "source": [
        "try:\n",
        "  a=10\n",
        "  b=2\n",
        "  print(a/b)\n",
        "except:\n",
        "  pass"
      ],
      "metadata": {
        "colab": {
          "base_uri": "https://localhost:8080/"
        },
        "id": "7XQLQyn0W8HC",
        "outputId": "e23105bb-cd78-4c8b-ffa2-c590caa81207"
      },
      "execution_count": 9,
      "outputs": [
        {
          "output_type": "stream",
          "name": "stdout",
          "text": [
            "5.0\n"
          ]
        }
      ]
    },
    {
      "cell_type": "code",
      "source": [
        "try:\n",
        "  a=10\n",
        "  b=0\n",
        "  print(a/b)\n",
        "except Exception as e:\n",
        "  print(e)"
      ],
      "metadata": {
        "colab": {
          "base_uri": "https://localhost:8080/"
        },
        "id": "w2UQwjRoXp7r",
        "outputId": "0f4b2301-5c2b-4f71-928c-e99e5d35336f"
      },
      "execution_count": 11,
      "outputs": [
        {
          "output_type": "stream",
          "name": "stdout",
          "text": [
            "division by zero\n"
          ]
        }
      ]
    },
    {
      "cell_type": "code",
      "source": [
        "try:\n",
        "  for i in range(11,21):\n",
        "    if i % 2 ==0:\n",
        "      print(f'Even {i}')\n",
        "\n",
        "except Exception as a:\n",
        "  print(a)"
      ],
      "metadata": {
        "colab": {
          "base_uri": "https://localhost:8080/"
        },
        "id": "8VrTcgMzXt6C",
        "outputId": "59439e21-202d-428b-9aad-9656c1f53179"
      },
      "execution_count": 12,
      "outputs": [
        {
          "output_type": "stream",
          "name": "stdout",
          "text": [
            "Even 12\n",
            "Even 14\n",
            "Even 16\n",
            "Even 18\n",
            "Even 20\n"
          ]
        }
      ]
    },
    {
      "cell_type": "code",
      "source": [
        "try:\n",
        "  for i in range(11,21):\n",
        "    if i % 2 ==0:\n",
        "      print(f'Even {i/0}')\n",
        "\n",
        "except Exception as a:\n",
        "  print(a)"
      ],
      "metadata": {
        "colab": {
          "base_uri": "https://localhost:8080/"
        },
        "id": "35uxjYd5YFjx",
        "outputId": "dbb44383-7435-4c73-88f4-56008d3809d9"
      },
      "execution_count": 13,
      "outputs": [
        {
          "output_type": "stream",
          "name": "stdout",
          "text": [
            "division by zero\n"
          ]
        }
      ]
    },
    {
      "cell_type": "markdown",
      "source": [
        "**Finally**\n",
        "- ` The finally is to be like the print`"
      ],
      "metadata": {
        "id": "VyoWaMvCYPSA"
      }
    },
    {
      "cell_type": "code",
      "source": [
        "try:\n",
        "  for i in range(11,21):\n",
        "    if i % 2 ==0:\n",
        "      print(f'Even {i}')\n",
        "\n",
        "except Exception as a:\n",
        "  print(a)\n",
        "\n",
        "finally:\n",
        "  print(\"i will run without Error\")"
      ],
      "metadata": {
        "colab": {
          "base_uri": "https://localhost:8080/"
        },
        "id": "Pe2cvnnXYI-r",
        "outputId": "2f081542-3490-431e-8ab2-166ef80160fa"
      },
      "execution_count": 14,
      "outputs": [
        {
          "output_type": "stream",
          "name": "stdout",
          "text": [
            "Even 12\n",
            "Even 14\n",
            "Even 16\n",
            "Even 18\n",
            "Even 20\n",
            "i will run without Error\n"
          ]
        }
      ]
    },
    {
      "cell_type": "code",
      "source": [
        "try:\n",
        "  for i in range(11,21):\n",
        "    if i % 2 ==0:\n",
        "      print(f'Even {i/0}')\n",
        "\n",
        "except Exception as a:\n",
        "  print(a)\n",
        "\n",
        "finally:\n",
        "  print(\"i will run with Error\")"
      ],
      "metadata": {
        "colab": {
          "base_uri": "https://localhost:8080/"
        },
        "id": "gst3b4IWZNH7",
        "outputId": "4c8c3688-52e8-417e-bcc9-3b609c28d6cf"
      },
      "execution_count": 15,
      "outputs": [
        {
          "output_type": "stream",
          "name": "stdout",
          "text": [
            "division by zero\n",
            "i will run with Error\n"
          ]
        }
      ]
    },
    {
      "cell_type": "code",
      "source": [
        "# wee can also Access the Error in the Errors name\n",
        "try:\n",
        "  for i in range(11,21):\n",
        "    if i%2==0:\n",
        "      print(f'Even : {i/0}')\n",
        "\n",
        "except NameError as a:\n",
        "  print(a)\n",
        "except ZeroDivisionError as e:\n",
        "  print(e)\n",
        "except ValueError as v:\n",
        "  print(v)"
      ],
      "metadata": {
        "colab": {
          "base_uri": "https://localhost:8080/"
        },
        "id": "-SFyAGAEZRlM",
        "outputId": "0a3ff991-de1d-4ba8-fb1d-398fa8f0d573"
      },
      "execution_count": 16,
      "outputs": [
        {
          "output_type": "stream",
          "name": "stdout",
          "text": [
            "division by zero\n"
          ]
        }
      ]
    },
    {
      "cell_type": "code",
      "source": [
        "import sys"
      ],
      "metadata": {
        "id": "K9IeF5CjcjO1"
      },
      "execution_count": 21,
      "outputs": []
    },
    {
      "cell_type": "code",
      "source": [
        "# we have to sys library to find the line number and  type Error\n",
        "\n",
        "try:\n",
        "  for i in range(11,21):\n",
        "    if i%2==0:\n",
        "      print(f'Even : {i/0}')\n",
        "except Exception as a:\n",
        "  print(f'Error msg from [try] block : {a}')\n",
        "  er_type,er_msg,er_lineno=sys.exc_info()\n",
        "  print(f'Error type : {er_type}')\n",
        "  print(f'Error line no :{er_lineno.tb_lineno}')\n",
        "  print(f'Error msg From try block :{er_msg}')"
      ],
      "metadata": {
        "colab": {
          "base_uri": "https://localhost:8080/"
        },
        "id": "F5PKdqUnZyAB",
        "outputId": "334e84ff-5794-4381-8bad-aa81dbcf135e"
      },
      "execution_count": 23,
      "outputs": [
        {
          "output_type": "stream",
          "name": "stdout",
          "text": [
            "Error msg from [try] block : division by zero\n",
            "Error type : <class 'ZeroDivisionError'>\n",
            "Error line no :6\n",
            "Error msg From try block :division by zero\n"
          ]
        }
      ]
    },
    {
      "cell_type": "code",
      "source": [
        "try:\n",
        "  for i in range(11,21):\n",
        "    if i%2==0:\n",
        "      print(f'Even : {i/0}')\n",
        "except Exception as a:\n",
        "\n",
        "  er_type,er_msg,er_lineno=sys.exc_info()\n",
        "  print(f'Error type {er_type} | Error msg from try block : {er_msg} | Error line number : {er_lineno.tb_lineno}')"
      ],
      "metadata": {
        "colab": {
          "base_uri": "https://localhost:8080/"
        },
        "id": "Xa4QOhdKbBFA",
        "outputId": "e2877ad0-cb23-4226-886f-83509a64fa02"
      },
      "execution_count": 24,
      "outputs": [
        {
          "output_type": "stream",
          "name": "stdout",
          "text": [
            "Error type <class 'ZeroDivisionError'> | Error msg from try block : division by zero | Error line number : 4\n"
          ]
        }
      ]
    },
    {
      "cell_type": "code",
      "source": [],
      "metadata": {
        "id": "Ir5oVrIeiuFu"
      },
      "execution_count": null,
      "outputs": []
    }
  ]
}