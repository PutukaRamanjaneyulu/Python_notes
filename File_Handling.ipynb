{
  "nbformat": 4,
  "nbformat_minor": 0,
  "metadata": {
    "colab": {
      "provenance": []
    },
    "kernelspec": {
      "name": "python3",
      "display_name": "Python 3"
    },
    "language_info": {
      "name": "python"
    }
  },
  "cells": [
    {
      "cell_type": "markdown",
      "source": [
        "## **File Handling**\n",
        "- `File Handling means we are going to write data | and read the data towards the file`\n",
        "- ` w -> Write ->Write data`\n",
        "- ` r -> Read -> Read data`\n",
        "- ` a -> add -> Add data`\n"
      ],
      "metadata": {
        "id": "RiRvXznitnsn"
      }
    },
    {
      "cell_type": "markdown",
      "source": [
        "#### **w-> Write -> mode**\n",
        "- `step 1: If the file is not there mode -> w -> will create the file and write data into the fie`\n"
      ],
      "metadata": {
        "id": "l2A4E4OfuXJO"
      }
    },
    {
      "cell_type": "code",
      "execution_count": 1,
      "metadata": {
        "id": "k_rkVfWUtSZE"
      },
      "outputs": [],
      "source": [
        "a=open(\"student.txt\",\"w\")# w -> will create file and will open\n",
        "a.write(\"I am from india\")\n",
        "\n",
        "a.close() # close the file"
      ]
    },
    {
      "cell_type": "markdown",
      "source": [
        "- `step 2 : If the file is ther and if it is empty mode w can open the file and write the data into the file`"
      ],
      "metadata": {
        "id": "v31ShOk8vMCt"
      }
    },
    {
      "cell_type": "code",
      "source": [
        "b=open(\"Ram.txt\",\"w\")\n",
        "b.write(\"I am from USa\")\n",
        "b.close()"
      ],
      "metadata": {
        "id": "FToeiZlfvAYL"
      },
      "execution_count": 3,
      "outputs": []
    },
    {
      "cell_type": "markdown",
      "source": [
        "- ` Step 3 :If the file is there  and if the data is avaliable and if we add new data mode -> w - will override the existing data`\n",
        "\n"
      ],
      "metadata": {
        "id": "_G9GkwWyv9Ul"
      }
    },
    {
      "cell_type": "code",
      "source": [
        "a=open(\"Student.txt\",\"w\")\n",
        "a.write(\"I am from Hyd\")\n",
        "a.close()"
      ],
      "metadata": {
        "id": "dQRGrBkIv2IP"
      },
      "execution_count": 6,
      "outputs": []
    },
    {
      "cell_type": "markdown",
      "source": [
        "**a -> add -> mode**\n",
        "- `The add more will be work the same as the write mode`\n",
        "- `step 1: If the file is not there mode -> a -> will create the file and write data into the fie`\n"
      ],
      "metadata": {
        "id": "TQvKpEiQwoaR"
      }
    },
    {
      "cell_type": "code",
      "source": [
        "a=open(\"student.txt\",\"a\")# w -> will create file and will open\n",
        "a.write(\"I am from india\")\n",
        "\n",
        "a.close() # close the file"
      ],
      "metadata": {
        "id": "GpOrUYYcwdJd"
      },
      "execution_count": 7,
      "outputs": []
    },
    {
      "cell_type": "markdown",
      "source": [
        "- `step 2 : If the file is ther and if it is empty mode a can open the file and write the data into the file`"
      ],
      "metadata": {
        "id": "rmY90eiNxH7m"
      }
    },
    {
      "cell_type": "code",
      "source": [
        "b=open(\"Ram.txt\",\"a\")\n",
        "b.write(\"I am from USa\")\n",
        "b.close()"
      ],
      "metadata": {
        "id": "WbzyrJLYxDGa"
      },
      "execution_count": 8,
      "outputs": []
    },
    {
      "cell_type": "markdown",
      "source": [
        "- ` Step 3 :If the file is there  and if the data is avaliable and if we add new data mode -> a - will Add the existing data`"
      ],
      "metadata": {
        "id": "R8kazFCixPtq"
      }
    },
    {
      "cell_type": "code",
      "source": [
        "a=open(\"student.txt\",\"a\")\n",
        "a.write(\" Data science is the Future in the IT\")\n",
        "a.close()"
      ],
      "metadata": {
        "id": "rYsVm7--xLrm"
      },
      "execution_count": 11,
      "outputs": []
    },
    {
      "cell_type": "markdown",
      "source": [
        "**r -> Read -> mode**\n",
        "- `If the file is there we can read the data from the file `\n",
        "- `The file is not there we cann't read the data`"
      ],
      "metadata": {
        "id": "AM0Am8ZuxvbZ"
      }
    },
    {
      "cell_type": "code",
      "source": [
        "a=open(\"student.txt\",\"r\")\n",
        "print(a.read())\n",
        "a.close()"
      ],
      "metadata": {
        "colab": {
          "base_uri": "https://localhost:8080/"
        },
        "id": "8D5KEUfAxknC",
        "outputId": "8e77918c-00f1-48d5-d5b6-1f27295108e2"
      },
      "execution_count": 12,
      "outputs": [
        {
          "output_type": "stream",
          "name": "stdout",
          "text": [
            "I am from india Data science is the Future in the IT\n"
          ]
        }
      ]
    },
    {
      "cell_type": "code",
      "source": [
        "a=open(\"india.txt\",\"r\")\n",
        "print(a.read())\n",
        "a.close()"
      ],
      "metadata": {
        "colab": {
          "base_uri": "https://localhost:8080/",
          "height": 176
        },
        "id": "yQwiZPzxyRRC",
        "outputId": "b6ef591b-476e-4096-e12b-253261365966"
      },
      "execution_count": 13,
      "outputs": [
        {
          "output_type": "error",
          "ename": "FileNotFoundError",
          "evalue": "[Errno 2] No such file or directory: 'india.txt'",
          "traceback": [
            "\u001b[0;31m---------------------------------------------------------------------------\u001b[0m",
            "\u001b[0;31mFileNotFoundError\u001b[0m                         Traceback (most recent call last)",
            "\u001b[0;32m<ipython-input-13-42682ea679d2>\u001b[0m in \u001b[0;36m<cell line: 0>\u001b[0;34m()\u001b[0m\n\u001b[0;32m----> 1\u001b[0;31m \u001b[0ma\u001b[0m\u001b[0;34m=\u001b[0m\u001b[0mopen\u001b[0m\u001b[0;34m(\u001b[0m\u001b[0;34m\"india.txt\"\u001b[0m\u001b[0;34m,\u001b[0m\u001b[0;34m\"r\"\u001b[0m\u001b[0;34m)\u001b[0m\u001b[0;34m\u001b[0m\u001b[0;34m\u001b[0m\u001b[0m\n\u001b[0m\u001b[1;32m      2\u001b[0m \u001b[0mprint\u001b[0m\u001b[0;34m(\u001b[0m\u001b[0ma\u001b[0m\u001b[0;34m.\u001b[0m\u001b[0mread\u001b[0m\u001b[0;34m(\u001b[0m\u001b[0;34m)\u001b[0m\u001b[0;34m)\u001b[0m\u001b[0;34m\u001b[0m\u001b[0;34m\u001b[0m\u001b[0m\n\u001b[1;32m      3\u001b[0m \u001b[0ma\u001b[0m\u001b[0;34m.\u001b[0m\u001b[0mclose\u001b[0m\u001b[0;34m(\u001b[0m\u001b[0;34m)\u001b[0m\u001b[0;34m\u001b[0m\u001b[0;34m\u001b[0m\u001b[0m\n",
            "\u001b[0;31mFileNotFoundError\u001b[0m: [Errno 2] No such file or directory: 'india.txt'"
          ]
        }
      ]
    },
    {
      "cell_type": "markdown",
      "source": [
        "**Why to Close the File :**\n",
        "- ` The file is not close the data will be temporarly store in the file and the file open enter the IDLE close the user and some temporary memory will be an the file Excution time it will be through the Error`"
      ],
      "metadata": {
        "id": "URYrrVilyX-R"
      }
    },
    {
      "cell_type": "markdown",
      "source": [
        "**With Function :**\n",
        "- ` The With Function will be Automatically close the file when the read the file is to be completed`"
      ],
      "metadata": {
        "id": "GcMGOigwy8r9"
      }
    },
    {
      "cell_type": "code",
      "source": [
        "with open(\"Student.txt\",\"w\") as a:\n",
        "  a.write(\"I am from Canada\")"
      ],
      "metadata": {
        "id": "VNSvsunTyU6D"
      },
      "execution_count": 14,
      "outputs": []
    },
    {
      "cell_type": "markdown",
      "source": [
        "**Json : (Java script object notaion)**\n",
        "- ` json will be take the input key : value pair`\n",
        "- `They are 4 different Types in json`\n",
        "- `dump -> Writing a dictionary data into json file`\n",
        "- `load -> The load will be read the json file`\n",
        "- `dumps -> seralizing(convert) the data`\n",
        "- `loads -> Deseralizing the data`"
      ],
      "metadata": {
        "id": "1YTRDG8zzfRd"
      }
    },
    {
      "cell_type": "code",
      "source": [
        "#Dump\n",
        "import json\n",
        "Friuts={'apple':20,'banana':30,'carrot':200}\n",
        "\n",
        "with open(\"student.json\",\"w\") as f:\n",
        "  json.dump(Friuts,f)\n"
      ],
      "metadata": {
        "id": "NFQ7Pbzozbdg"
      },
      "execution_count": 17,
      "outputs": []
    },
    {
      "cell_type": "code",
      "source": [
        "#load\n",
        "with open(\"student.json\",\"r\") as f:\n",
        "  print(json.load(f))"
      ],
      "metadata": {
        "colab": {
          "base_uri": "https://localhost:8080/"
        },
        "id": "vUJOrw__1Hec",
        "outputId": "0ca09ffe-9f75-4921-8e1b-268543c57f50"
      },
      "execution_count": 19,
      "outputs": [
        {
          "output_type": "stream",
          "name": "stdout",
          "text": [
            "{'apple': 20, 'banana': 30, 'carrot': 200}\n"
          ]
        }
      ]
    },
    {
      "cell_type": "code",
      "source": [
        "# Dumps -> will be convert the dict to str\n",
        "\n",
        "\n",
        "Friuts={'apple':20,'banana':30,'carrot':200}\n",
        "\n",
        "\n",
        "sol=json.dumps(Friuts)\n",
        "\n",
        "print(sol)\n",
        "print(type(sol))\n",
        "\n"
      ],
      "metadata": {
        "colab": {
          "base_uri": "https://localhost:8080/"
        },
        "id": "WodhoiQa1oGb",
        "outputId": "64e086b1-65ba-4afe-b696-486d77ce7294"
      },
      "execution_count": 20,
      "outputs": [
        {
          "output_type": "stream",
          "name": "stdout",
          "text": [
            "{\"apple\": 20, \"banana\": 30, \"carrot\": 200}\n",
            "<class 'str'>\n"
          ]
        }
      ]
    },
    {
      "cell_type": "code",
      "source": [
        "#loads -> loads will be convert the dict to str\n",
        "p=json.loads(sol)\n",
        "print(p)\n",
        "print(type(p))"
      ],
      "metadata": {
        "colab": {
          "base_uri": "https://localhost:8080/"
        },
        "id": "HsC7gbEE2FO6",
        "outputId": "ce9ddc73-4afe-4abe-d0b5-eafd3696e1d1"
      },
      "execution_count": 21,
      "outputs": [
        {
          "output_type": "stream",
          "name": "stdout",
          "text": [
            "{'apple': 20, 'banana': 30, 'carrot': 200}\n",
            "<class 'dict'>\n"
          ]
        }
      ]
    }
  ]
}